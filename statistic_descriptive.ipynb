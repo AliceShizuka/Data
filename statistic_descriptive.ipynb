{
 "cells": [
  {
   "cell_type": "markdown",
   "id": "7affb7d4",
   "metadata": {},
   "source": [
    "### Descriptive Statistic"
   ]
  },
  {
   "cell_type": "code",
   "execution_count": 4,
   "id": "0b0bec9a",
   "metadata": {},
   "outputs": [
    {
     "data": {
      "application/vnd.microsoft.datawrangler.viewer.v0+json": {
       "columns": [
        {
         "name": "index",
         "rawType": "int64",
         "type": "integer"
        },
        {
         "name": "Id",
         "rawType": "int64",
         "type": "integer"
        },
        {
         "name": "SepalLengthCm",
         "rawType": "float64",
         "type": "float"
        },
        {
         "name": "SepalWidthCm",
         "rawType": "float64",
         "type": "float"
        },
        {
         "name": "PetalLengthCm",
         "rawType": "float64",
         "type": "float"
        },
        {
         "name": "PetalWidthCm",
         "rawType": "float64",
         "type": "float"
        },
        {
         "name": "Species",
         "rawType": "object",
         "type": "string"
        }
       ],
       "ref": "daff9b1f-2a87-40b5-8129-eaee2a52fd33",
       "rows": [
        [
         "0",
         "1",
         "5.1",
         "3.5",
         "1.4",
         "0.2",
         "Iris-setosa"
        ],
        [
         "1",
         "2",
         "4.9",
         "3.0",
         "1.4",
         "0.2",
         "Iris-setosa"
        ],
        [
         "2",
         "3",
         "4.7",
         "3.2",
         "1.3",
         "0.2",
         "Iris-setosa"
        ],
        [
         "3",
         "4",
         "4.6",
         "3.1",
         "1.5",
         "0.2",
         "Iris-setosa"
        ],
        [
         "4",
         "5",
         "5.0",
         "3.6",
         "1.4",
         "0.2",
         "Iris-setosa"
        ]
       ],
       "shape": {
        "columns": 6,
        "rows": 5
       }
      },
      "text/html": [
       "<div>\n",
       "<style scoped>\n",
       "    .dataframe tbody tr th:only-of-type {\n",
       "        vertical-align: middle;\n",
       "    }\n",
       "\n",
       "    .dataframe tbody tr th {\n",
       "        vertical-align: top;\n",
       "    }\n",
       "\n",
       "    .dataframe thead th {\n",
       "        text-align: right;\n",
       "    }\n",
       "</style>\n",
       "<table border=\"1\" class=\"dataframe\">\n",
       "  <thead>\n",
       "    <tr style=\"text-align: right;\">\n",
       "      <th></th>\n",
       "      <th>Id</th>\n",
       "      <th>SepalLengthCm</th>\n",
       "      <th>SepalWidthCm</th>\n",
       "      <th>PetalLengthCm</th>\n",
       "      <th>PetalWidthCm</th>\n",
       "      <th>Species</th>\n",
       "    </tr>\n",
       "  </thead>\n",
       "  <tbody>\n",
       "    <tr>\n",
       "      <th>0</th>\n",
       "      <td>1</td>\n",
       "      <td>5.1</td>\n",
       "      <td>3.5</td>\n",
       "      <td>1.4</td>\n",
       "      <td>0.2</td>\n",
       "      <td>Iris-setosa</td>\n",
       "    </tr>\n",
       "    <tr>\n",
       "      <th>1</th>\n",
       "      <td>2</td>\n",
       "      <td>4.9</td>\n",
       "      <td>3.0</td>\n",
       "      <td>1.4</td>\n",
       "      <td>0.2</td>\n",
       "      <td>Iris-setosa</td>\n",
       "    </tr>\n",
       "    <tr>\n",
       "      <th>2</th>\n",
       "      <td>3</td>\n",
       "      <td>4.7</td>\n",
       "      <td>3.2</td>\n",
       "      <td>1.3</td>\n",
       "      <td>0.2</td>\n",
       "      <td>Iris-setosa</td>\n",
       "    </tr>\n",
       "    <tr>\n",
       "      <th>3</th>\n",
       "      <td>4</td>\n",
       "      <td>4.6</td>\n",
       "      <td>3.1</td>\n",
       "      <td>1.5</td>\n",
       "      <td>0.2</td>\n",
       "      <td>Iris-setosa</td>\n",
       "    </tr>\n",
       "    <tr>\n",
       "      <th>4</th>\n",
       "      <td>5</td>\n",
       "      <td>5.0</td>\n",
       "      <td>3.6</td>\n",
       "      <td>1.4</td>\n",
       "      <td>0.2</td>\n",
       "      <td>Iris-setosa</td>\n",
       "    </tr>\n",
       "  </tbody>\n",
       "</table>\n",
       "</div>"
      ],
      "text/plain": [
       "   Id  SepalLengthCm  SepalWidthCm  PetalLengthCm  PetalWidthCm      Species\n",
       "0   1            5.1           3.5            1.4           0.2  Iris-setosa\n",
       "1   2            4.9           3.0            1.4           0.2  Iris-setosa\n",
       "2   3            4.7           3.2            1.3           0.2  Iris-setosa\n",
       "3   4            4.6           3.1            1.5           0.2  Iris-setosa\n",
       "4   5            5.0           3.6            1.4           0.2  Iris-setosa"
      ]
     },
     "execution_count": 4,
     "metadata": {},
     "output_type": "execute_result"
    }
   ],
   "source": [
    "import pandas as pd\n",
    "\n",
    "df = pd.read_csv('Iris.csv')\n",
    "df.head()"
   ]
  },
  {
   "cell_type": "code",
   "execution_count": 5,
   "id": "af39a1b7",
   "metadata": {},
   "outputs": [
    {
     "name": "stdout",
     "output_type": "stream",
     "text": [
      "<class 'pandas.core.frame.DataFrame'>\n",
      "RangeIndex: 150 entries, 0 to 149\n",
      "Data columns (total 6 columns):\n",
      " #   Column         Non-Null Count  Dtype  \n",
      "---  ------         --------------  -----  \n",
      " 0   Id             150 non-null    int64  \n",
      " 1   SepalLengthCm  150 non-null    float64\n",
      " 2   SepalWidthCm   150 non-null    float64\n",
      " 3   PetalLengthCm  150 non-null    float64\n",
      " 4   PetalWidthCm   150 non-null    float64\n",
      " 5   Species        150 non-null    object \n",
      "dtypes: float64(4), int64(1), object(1)\n",
      "memory usage: 7.2+ KB\n"
     ]
    }
   ],
   "source": [
    "df.info()"
   ]
  },
  {
   "cell_type": "code",
   "execution_count": 6,
   "id": "cffd0c2f",
   "metadata": {},
   "outputs": [
    {
     "data": {
      "application/vnd.microsoft.datawrangler.viewer.v0+json": {
       "columns": [
        {
         "name": "index",
         "rawType": "object",
         "type": "string"
        },
        {
         "name": "Id",
         "rawType": "float64",
         "type": "float"
        },
        {
         "name": "SepalLengthCm",
         "rawType": "float64",
         "type": "float"
        },
        {
         "name": "SepalWidthCm",
         "rawType": "float64",
         "type": "float"
        },
        {
         "name": "PetalLengthCm",
         "rawType": "float64",
         "type": "float"
        },
        {
         "name": "PetalWidthCm",
         "rawType": "float64",
         "type": "float"
        }
       ],
       "ref": "edd86412-08b6-44b2-867d-ffba13b69ee8",
       "rows": [
        [
         "count",
         "150.0",
         "150.0",
         "150.0",
         "150.0",
         "150.0"
        ],
        [
         "mean",
         "75.5",
         "5.843333333333334",
         "3.0540000000000003",
         "3.758666666666666",
         "1.1986666666666668"
        ],
        [
         "std",
         "43.445367992456916",
         "0.828066127977863",
         "0.4335943113621737",
         "1.7644204199522626",
         "0.7631607417008411"
        ],
        [
         "min",
         "1.0",
         "4.3",
         "2.0",
         "1.0",
         "0.1"
        ],
        [
         "25%",
         "38.25",
         "5.1",
         "2.8",
         "1.6",
         "0.3"
        ],
        [
         "50%",
         "75.5",
         "5.8",
         "3.0",
         "4.35",
         "1.3"
        ],
        [
         "75%",
         "112.75",
         "6.4",
         "3.3",
         "5.1",
         "1.8"
        ],
        [
         "max",
         "150.0",
         "7.9",
         "4.4",
         "6.9",
         "2.5"
        ]
       ],
       "shape": {
        "columns": 5,
        "rows": 8
       }
      },
      "text/html": [
       "<div>\n",
       "<style scoped>\n",
       "    .dataframe tbody tr th:only-of-type {\n",
       "        vertical-align: middle;\n",
       "    }\n",
       "\n",
       "    .dataframe tbody tr th {\n",
       "        vertical-align: top;\n",
       "    }\n",
       "\n",
       "    .dataframe thead th {\n",
       "        text-align: right;\n",
       "    }\n",
       "</style>\n",
       "<table border=\"1\" class=\"dataframe\">\n",
       "  <thead>\n",
       "    <tr style=\"text-align: right;\">\n",
       "      <th></th>\n",
       "      <th>Id</th>\n",
       "      <th>SepalLengthCm</th>\n",
       "      <th>SepalWidthCm</th>\n",
       "      <th>PetalLengthCm</th>\n",
       "      <th>PetalWidthCm</th>\n",
       "    </tr>\n",
       "  </thead>\n",
       "  <tbody>\n",
       "    <tr>\n",
       "      <th>count</th>\n",
       "      <td>150.000000</td>\n",
       "      <td>150.000000</td>\n",
       "      <td>150.000000</td>\n",
       "      <td>150.000000</td>\n",
       "      <td>150.000000</td>\n",
       "    </tr>\n",
       "    <tr>\n",
       "      <th>mean</th>\n",
       "      <td>75.500000</td>\n",
       "      <td>5.843333</td>\n",
       "      <td>3.054000</td>\n",
       "      <td>3.758667</td>\n",
       "      <td>1.198667</td>\n",
       "    </tr>\n",
       "    <tr>\n",
       "      <th>std</th>\n",
       "      <td>43.445368</td>\n",
       "      <td>0.828066</td>\n",
       "      <td>0.433594</td>\n",
       "      <td>1.764420</td>\n",
       "      <td>0.763161</td>\n",
       "    </tr>\n",
       "    <tr>\n",
       "      <th>min</th>\n",
       "      <td>1.000000</td>\n",
       "      <td>4.300000</td>\n",
       "      <td>2.000000</td>\n",
       "      <td>1.000000</td>\n",
       "      <td>0.100000</td>\n",
       "    </tr>\n",
       "    <tr>\n",
       "      <th>25%</th>\n",
       "      <td>38.250000</td>\n",
       "      <td>5.100000</td>\n",
       "      <td>2.800000</td>\n",
       "      <td>1.600000</td>\n",
       "      <td>0.300000</td>\n",
       "    </tr>\n",
       "    <tr>\n",
       "      <th>50%</th>\n",
       "      <td>75.500000</td>\n",
       "      <td>5.800000</td>\n",
       "      <td>3.000000</td>\n",
       "      <td>4.350000</td>\n",
       "      <td>1.300000</td>\n",
       "    </tr>\n",
       "    <tr>\n",
       "      <th>75%</th>\n",
       "      <td>112.750000</td>\n",
       "      <td>6.400000</td>\n",
       "      <td>3.300000</td>\n",
       "      <td>5.100000</td>\n",
       "      <td>1.800000</td>\n",
       "    </tr>\n",
       "    <tr>\n",
       "      <th>max</th>\n",
       "      <td>150.000000</td>\n",
       "      <td>7.900000</td>\n",
       "      <td>4.400000</td>\n",
       "      <td>6.900000</td>\n",
       "      <td>2.500000</td>\n",
       "    </tr>\n",
       "  </tbody>\n",
       "</table>\n",
       "</div>"
      ],
      "text/plain": [
       "               Id  SepalLengthCm  SepalWidthCm  PetalLengthCm  PetalWidthCm\n",
       "count  150.000000     150.000000    150.000000     150.000000    150.000000\n",
       "mean    75.500000       5.843333      3.054000       3.758667      1.198667\n",
       "std     43.445368       0.828066      0.433594       1.764420      0.763161\n",
       "min      1.000000       4.300000      2.000000       1.000000      0.100000\n",
       "25%     38.250000       5.100000      2.800000       1.600000      0.300000\n",
       "50%     75.500000       5.800000      3.000000       4.350000      1.300000\n",
       "75%    112.750000       6.400000      3.300000       5.100000      1.800000\n",
       "max    150.000000       7.900000      4.400000       6.900000      2.500000"
      ]
     },
     "execution_count": 6,
     "metadata": {},
     "output_type": "execute_result"
    }
   ],
   "source": [
    "df.describe()"
   ]
  },
  {
   "cell_type": "code",
   "execution_count": 7,
   "id": "ee10300c",
   "metadata": {},
   "outputs": [
    {
     "name": "stdout",
     "output_type": "stream",
     "text": [
      "      Id  SepalLengthCm  SepalWidthCm  PetalLengthCm  PetalWidthCm  \\\n",
      "146  147            6.3           2.5            5.0           1.9   \n",
      "147  148            6.5           3.0            5.2           2.0   \n",
      "148  149            6.2           3.4            5.4           2.3   \n",
      "149  150            5.9           3.0            5.1           1.8   \n",
      "150  151           20.0           3.0            4.0           1.0   \n",
      "\n",
      "            Species  \n",
      "146  Iris-virginica  \n",
      "147  Iris-virginica  \n",
      "148  Iris-virginica  \n",
      "149  Iris-virginica  \n",
      "150     Iris-setosa  \n"
     ]
    }
   ],
   "source": [
    "# Menambahkan 1 baris outlier ke dataframe\n",
    "df.loc[len(df)] = [151, 20.0, 3.0, 4.0, 1.0, 'Iris-setosa']\n",
    "\n",
    "# Menampilkan 5 data terakhir untuk cek apakah sudah masuk\n",
    "print(df.tail())"
   ]
  },
  {
   "cell_type": "code",
   "execution_count": 8,
   "id": "5f3c8ab7",
   "metadata": {},
   "outputs": [
    {
     "data": {
      "application/vnd.microsoft.datawrangler.viewer.v0+json": {
       "columns": [
        {
         "name": "index",
         "rawType": "object",
         "type": "string"
        },
        {
         "name": "Id",
         "rawType": "float64",
         "type": "float"
        },
        {
         "name": "SepalLengthCm",
         "rawType": "float64",
         "type": "float"
        },
        {
         "name": "SepalWidthCm",
         "rawType": "float64",
         "type": "float"
        },
        {
         "name": "PetalLengthCm",
         "rawType": "float64",
         "type": "float"
        },
        {
         "name": "PetalWidthCm",
         "rawType": "float64",
         "type": "float"
        }
       ],
       "ref": "17855143-3712-4cba-8381-fc0d755d806a",
       "rows": [
        [
         "count",
         "151.0",
         "151.0",
         "151.0",
         "151.0",
         "151.0"
        ],
        [
         "mean",
         "76.0",
         "5.937086092715232",
         "3.0536423841059603",
         "3.7602649006622513",
         "1.1973509933774835"
        ],
        [
         "std",
         "43.734044709661454",
         "1.417162229905936",
         "0.4321689229050891",
         "1.7586388475256909",
         "0.7607844214903062"
        ],
        [
         "min",
         "1.0",
         "4.3",
         "2.0",
         "1.0",
         "0.1"
        ],
        [
         "25%",
         "38.5",
         "5.1",
         "2.8",
         "1.6",
         "0.3"
        ],
        [
         "50%",
         "76.0",
         "5.8",
         "3.0",
         "4.3",
         "1.3"
        ],
        [
         "75%",
         "113.5",
         "6.4",
         "3.3",
         "5.1",
         "1.8"
        ],
        [
         "max",
         "151.0",
         "20.0",
         "4.4",
         "6.9",
         "2.5"
        ]
       ],
       "shape": {
        "columns": 5,
        "rows": 8
       }
      },
      "text/html": [
       "<div>\n",
       "<style scoped>\n",
       "    .dataframe tbody tr th:only-of-type {\n",
       "        vertical-align: middle;\n",
       "    }\n",
       "\n",
       "    .dataframe tbody tr th {\n",
       "        vertical-align: top;\n",
       "    }\n",
       "\n",
       "    .dataframe thead th {\n",
       "        text-align: right;\n",
       "    }\n",
       "</style>\n",
       "<table border=\"1\" class=\"dataframe\">\n",
       "  <thead>\n",
       "    <tr style=\"text-align: right;\">\n",
       "      <th></th>\n",
       "      <th>Id</th>\n",
       "      <th>SepalLengthCm</th>\n",
       "      <th>SepalWidthCm</th>\n",
       "      <th>PetalLengthCm</th>\n",
       "      <th>PetalWidthCm</th>\n",
       "    </tr>\n",
       "  </thead>\n",
       "  <tbody>\n",
       "    <tr>\n",
       "      <th>count</th>\n",
       "      <td>151.000000</td>\n",
       "      <td>151.000000</td>\n",
       "      <td>151.000000</td>\n",
       "      <td>151.000000</td>\n",
       "      <td>151.000000</td>\n",
       "    </tr>\n",
       "    <tr>\n",
       "      <th>mean</th>\n",
       "      <td>76.000000</td>\n",
       "      <td>5.937086</td>\n",
       "      <td>3.053642</td>\n",
       "      <td>3.760265</td>\n",
       "      <td>1.197351</td>\n",
       "    </tr>\n",
       "    <tr>\n",
       "      <th>std</th>\n",
       "      <td>43.734045</td>\n",
       "      <td>1.417162</td>\n",
       "      <td>0.432169</td>\n",
       "      <td>1.758639</td>\n",
       "      <td>0.760784</td>\n",
       "    </tr>\n",
       "    <tr>\n",
       "      <th>min</th>\n",
       "      <td>1.000000</td>\n",
       "      <td>4.300000</td>\n",
       "      <td>2.000000</td>\n",
       "      <td>1.000000</td>\n",
       "      <td>0.100000</td>\n",
       "    </tr>\n",
       "    <tr>\n",
       "      <th>25%</th>\n",
       "      <td>38.500000</td>\n",
       "      <td>5.100000</td>\n",
       "      <td>2.800000</td>\n",
       "      <td>1.600000</td>\n",
       "      <td>0.300000</td>\n",
       "    </tr>\n",
       "    <tr>\n",
       "      <th>50%</th>\n",
       "      <td>76.000000</td>\n",
       "      <td>5.800000</td>\n",
       "      <td>3.000000</td>\n",
       "      <td>4.300000</td>\n",
       "      <td>1.300000</td>\n",
       "    </tr>\n",
       "    <tr>\n",
       "      <th>75%</th>\n",
       "      <td>113.500000</td>\n",
       "      <td>6.400000</td>\n",
       "      <td>3.300000</td>\n",
       "      <td>5.100000</td>\n",
       "      <td>1.800000</td>\n",
       "    </tr>\n",
       "    <tr>\n",
       "      <th>max</th>\n",
       "      <td>151.000000</td>\n",
       "      <td>20.000000</td>\n",
       "      <td>4.400000</td>\n",
       "      <td>6.900000</td>\n",
       "      <td>2.500000</td>\n",
       "    </tr>\n",
       "  </tbody>\n",
       "</table>\n",
       "</div>"
      ],
      "text/plain": [
       "               Id  SepalLengthCm  SepalWidthCm  PetalLengthCm  PetalWidthCm\n",
       "count  151.000000     151.000000    151.000000     151.000000    151.000000\n",
       "mean    76.000000       5.937086      3.053642       3.760265      1.197351\n",
       "std     43.734045       1.417162      0.432169       1.758639      0.760784\n",
       "min      1.000000       4.300000      2.000000       1.000000      0.100000\n",
       "25%     38.500000       5.100000      2.800000       1.600000      0.300000\n",
       "50%     76.000000       5.800000      3.000000       4.300000      1.300000\n",
       "75%    113.500000       6.400000      3.300000       5.100000      1.800000\n",
       "max    151.000000      20.000000      4.400000       6.900000      2.500000"
      ]
     },
     "execution_count": 8,
     "metadata": {},
     "output_type": "execute_result"
    }
   ],
   "source": [
    "df.describe()"
   ]
  },
  {
   "cell_type": "markdown",
   "id": "3d1ce9b3",
   "metadata": {},
   "source": [
    "### Measure of Central Tendency"
   ]
  },
  {
   "cell_type": "code",
   "execution_count": 9,
   "id": "e2ae6648",
   "metadata": {},
   "outputs": [],
   "source": [
    "# Fungsi Mean Manual\n",
    "\n",
    "def manual_mean(data):\n",
    "    total = 0\n",
    "    for i in data:\n",
    "        total += i\n",
    "    return total / len(data)"
   ]
  },
  {
   "cell_type": "code",
   "execution_count": 10,
   "id": "4c25448e",
   "metadata": {},
   "outputs": [],
   "source": [
    "# Fungsi Median Manual\n",
    "\n",
    "def manual_median(data):\n",
    "    sorted_data = sorted(data)\n",
    "    n = len(sorted_data)\n",
    "    middle = n // 2\n",
    "\n",
    "    if n % 2 == 0:  # Kalau jumlah data genap\n",
    "        return (sorted_data[middle - 1] + sorted_data[middle]) / 2\n",
    "    else:  # Kalau jumlah data ganjil\n",
    "        return sorted_data[middle]"
   ]
  },
  {
   "cell_type": "code",
   "execution_count": 11,
   "id": "90d21277",
   "metadata": {},
   "outputs": [],
   "source": [
    "# Fungsi Modus Manual\n",
    "\n",
    "def manual_mode(data):\n",
    "    freq = {}\n",
    "    for i in data:\n",
    "        if i in freq:\n",
    "            freq[i] += 1\n",
    "        else:\n",
    "            freq[i] = 1\n",
    "\n",
    "    max_count = max(freq.values())\n",
    "    modes = [key for key, value in freq.items() if value == max_count]\n",
    "\n",
    "    if len(modes) == len(data):  # Kalau semua frekuensinya sama\n",
    "        return None\n",
    "    return modes"
   ]
  },
  {
   "cell_type": "code",
   "execution_count": 12,
   "id": "9839094f",
   "metadata": {},
   "outputs": [
    {
     "name": "stdout",
     "output_type": "stream",
     "text": [
      "Mean dari SepalLengthCm: 5.937086092715234\n",
      "Median dari SepalLengthCm: 5.8\n",
      "Mode dari SepalLengthCm: [5.0]\n"
     ]
    }
   ],
   "source": [
    "# EDA Central Tendency\n",
    "\n",
    "def eda_central_tendency(df, column):\n",
    "    data = df[column].tolist()\n",
    "\n",
    "    mean = manual_mean(data)\n",
    "    median = manual_median(data)\n",
    "    mode = manual_mode(data)\n",
    "\n",
    "    print(f\"Mean dari {column}: {mean}\")\n",
    "    print(f\"Median dari {column}: {median}\")\n",
    "    print(f\"Mode dari {column}: {mode}\")\n",
    "\n",
    "eda_central_tendency(df, 'SepalLengthCm')\n"
   ]
  },
  {
   "cell_type": "markdown",
   "id": "a95c665e",
   "metadata": {},
   "source": [
    "### Measure of Dispersion"
   ]
  },
  {
   "cell_type": "code",
   "execution_count": 13,
   "id": "08df51b0",
   "metadata": {},
   "outputs": [],
   "source": [
    "# Fungsi Range Manual\n",
    "\n",
    "def manual_range(data):\n",
    "    return max(data) - min(data)"
   ]
  },
  {
   "cell_type": "code",
   "execution_count": 14,
   "id": "6142b530",
   "metadata": {},
   "outputs": [],
   "source": [
    "# Fungsi IQR (Inter Quartile Range) Manual\n",
    "# Rumus : Q3 - Q1\n",
    "\n",
    "def manual_iqr(data):\n",
    "    sorted_data = sorted(data)\n",
    "    n = len(sorted_data)\n",
    "\n",
    "    # Hitung Q1\n",
    "    q1_index = n // 4\n",
    "    q1 = sorted_data[q1_index]\n",
    "\n",
    "    # Hitung Q3\n",
    "    q3_index = (3 * n) // 4\n",
    "    q3 = sorted_data[q3_index]\n",
    "\n",
    "    iqr = q3 - q1\n",
    "    return q1, q3, iqr"
   ]
  },
  {
   "cell_type": "code",
   "execution_count": 15,
   "id": "3c08e75d",
   "metadata": {},
   "outputs": [],
   "source": [
    "# Fungsi Variance Manual\n",
    "\n",
    "def manual_variance(data):\n",
    "    mean = manual_mean(data)\n",
    "    squared_diffs = [(x - mean) ** 2 for x in data] #menghitung selisih setiap data dengan mean, lalu dikuadratkan.\n",
    "    return sum(squared_diffs) / len(data) #menghitung rata-rata dari hasil kuadrat selisih tadi."
   ]
  },
  {
   "cell_type": "code",
   "execution_count": 16,
   "id": "6f84fc06",
   "metadata": {},
   "outputs": [],
   "source": [
    "# Fungsi Standar Deviasi Manual\n",
    "# Standar Deviasi = Akar dari variance\n",
    "\n",
    "def manual_std_dev(data):\n",
    "    # Varians dulu\n",
    "    variance = manual_variance(data)\n",
    "    \n",
    "    # Akar kuadrat manual pakai pangkat 0.5\n",
    "    std_dev = variance ** 0.5\n",
    "    \n",
    "    return std_dev"
   ]
  },
  {
   "cell_type": "code",
   "execution_count": 17,
   "id": "10061629",
   "metadata": {},
   "outputs": [],
   "source": [
    "# Fungsi Manual Peak to Peak\n",
    "\n",
    "def manual_ptp(data):\n",
    "    max_value = max(data)\n",
    "    min_value = min(data)\n",
    "    ptp_value = max_value - min_value\n",
    "    return ptp_value"
   ]
  },
  {
   "cell_type": "code",
   "execution_count": 22,
   "id": "c0d53e77",
   "metadata": {},
   "outputs": [],
   "source": [
    "# Fungsi mencari lower bound dan upper bound untuk deteksi outlier\n",
    "# Lower Bound = Q1 - 1.5 * IQR\n",
    "# Upper Bound = Q3 + 1.5 * IQR\n",
    "\n",
    "def calculate_bounds(data):\n",
    "    sorted_data = sorted(data)\n",
    "    n = len(sorted_data)\n",
    "\n",
    "    # Hitung IQR pakai fungsi manual\n",
    "    q1, q3, iqr = manual_iqr(data)\n",
    "\n",
    "    # Hitung lower dan upper bound\n",
    "    lower_bound = q1 - 1.5 * iqr\n",
    "    upper_bound = q3 + 1.5 * iqr\n",
    "\n",
    "\n",
    "    return lower_bound, upper_bound\n"
   ]
  },
  {
   "cell_type": "code",
   "execution_count": 24,
   "id": "5ea9d6cd",
   "metadata": {},
   "outputs": [
    {
     "name": "stdout",
     "output_type": "stream",
     "text": [
      "Range: 15.7\n",
      "Q1: 5.1\n",
      "Q3: 6.4\n",
      "IQR: 1.3000000000000007\n",
      "Variance: 1.9950484627867202\n",
      "Standard Deviation: 1.4124618447189008\n",
      "PTP: 15.7\n",
      "Lower Bound: 3\n",
      "Upper Bound: 8\n",
      "Outliers: [20.0]\n"
     ]
    }
   ],
   "source": [
    "# EDA Dispersion\n",
    "\n",
    "# Misalnya kita ambil kolom SepalLengthCm\n",
    "data = df['SepalLengthCm'].tolist()\n",
    "\n",
    "# 1. Range\n",
    "range_value = manual_range(data)\n",
    "print(f'Range: {range_value}')\n",
    "\n",
    "# 2. IQR\n",
    "q1, q3, iqr_value = manual_iqr(data)\n",
    "print(f'Q1: {q1}')\n",
    "print(f'Q3: {q3}')\n",
    "print(f'IQR: {iqr_value}')\n",
    "\n",
    "# 3. Variance\n",
    "variance_value = manual_variance(data)\n",
    "print(f'Variance: {variance_value}')\n",
    "\n",
    "# 4. Standard Deviation\n",
    "std_dev_value = manual_std_dev(data)\n",
    "print(f'Standard Deviation: {std_dev_value}')\n",
    "\n",
    "# 5. Peak to Peak\n",
    "ptp_value = manual_ptp(data)\n",
    "print(f'PTP: {ptp_value}')\n",
    "\n",
    "# 6. Lower bound & upper bound\n",
    "lower_bound, upper_bound = calculate_bounds(data)\n",
    "print(f'Lower Bound: {round(lower_bound)}')\n",
    "print(f'Upper Bound: {round(upper_bound)}')\n",
    "\n",
    "# 7. Outlier Detection\n",
    "def detect_outliers_with_iqr(data):\n",
    "    outliers = [x for x in data if x < lower_bound or x > upper_bound]\n",
    "    return outliers\n",
    "\n",
    "outliers = detect_outliers_with_iqr(data)\n",
    "print(f'Outliers: {outliers}')"
   ]
  },
  {
   "cell_type": "code",
   "execution_count": 25,
   "id": "a88474ef",
   "metadata": {},
   "outputs": [
    {
     "data": {
      "image/png": "[encoded data removed]",
      "text/plain": [
       "<Figure size 800x600 with 1 Axes>"
      ]
     },
     "metadata": {},
     "output_type": "display_data"
    }
   ],
   "source": [
    "import matplotlib.pyplot as plt\n",
    "import seaborn as sns\n",
    "\n",
    "plt.figure(figsize=(8,6))\n",
    "sns.boxplot(y=df['SepalLengthCm'], color='pink')\n",
    "plt.title('Boxplot SepalLengthCm')\n",
    "plt.ylabel('SepalLengthCm')\n",
    "plt.show()"
   ]
  },
  {
   "cell_type": "code",
   "execution_count": 26,
   "id": "8dbd065c",
   "metadata": {},
   "outputs": [
    {
     "name": "stdout",
     "output_type": "stream",
     "text": [
      "Outlier ditemukan di index: [150]\n"
     ]
    }
   ],
   "source": [
    "# Deteksi outlier\n",
    "outliers = detect_outliers_with_iqr(df['SepalLengthCm'].tolist())\n",
    "\n",
    "# Cari index dari semua outlier\n",
    "outlier_indices = df[df['SepalLengthCm'].isin(outliers)].index.tolist()\n",
    "\n",
    "# Tampilkan hasilnya\n",
    "print(f'Outlier ditemukan di index: {outlier_indices}')"
   ]
  },
  {
   "cell_type": "code",
   "execution_count": 27,
   "id": "5a469a49",
   "metadata": {},
   "outputs": [
    {
     "name": "stdout",
     "output_type": "stream",
     "text": [
      "Id                       151\n",
      "SepalLengthCm           20.0\n",
      "SepalWidthCm             3.0\n",
      "PetalLengthCm            4.0\n",
      "PetalWidthCm             1.0\n",
      "Species          Iris-setosa\n",
      "Name: 150, dtype: object\n"
     ]
    }
   ],
   "source": [
    "print(df.loc[150])"
   ]
  },
  {
   "cell_type": "code",
   "execution_count": 28,
   "id": "5ea309a9",
   "metadata": {},
   "outputs": [
    {
     "name": "stdout",
     "output_type": "stream",
     "text": [
      "      Id  SepalLengthCm  SepalWidthCm  PetalLengthCm  PetalWidthCm  \\\n",
      "145  146            6.7           3.0            5.2           2.3   \n",
      "146  147            6.3           2.5            5.0           1.9   \n",
      "147  148            6.5           3.0            5.2           2.0   \n",
      "148  149            6.2           3.4            5.4           2.3   \n",
      "149  150            5.9           3.0            5.1           1.8   \n",
      "\n",
      "            Species  \n",
      "145  Iris-virginica  \n",
      "146  Iris-virginica  \n",
      "147  Iris-virginica  \n",
      "148  Iris-virginica  \n",
      "149  Iris-virginica  \n"
     ]
    }
   ],
   "source": [
    "# Drop row dengan index 150\n",
    "df = df.drop(index=150)\n",
    "\n",
    "# Reset index supaya rapi lagi\n",
    "df = df.reset_index(drop=True)\n",
    "\n",
    "# Cek hasilnya\n",
    "print(df.tail())"
   ]
  },
  {
   "cell_type": "code",
   "execution_count": 29,
   "id": "cd72a828",
   "metadata": {},
   "outputs": [
    {
     "name": "stdout",
     "output_type": "stream",
     "text": [
      "Outlier ditemukan di index: []\n"
     ]
    }
   ],
   "source": [
    "outliers = detect_outliers_with_iqr(df['SepalLengthCm'].tolist())\n",
    "\n",
    "# Cari semua index dari outliers yang ketemu\n",
    "outlier_indices = df[df['SepalLengthCm'].isin(outliers)].index.tolist()\n",
    "\n",
    "print(f'Outlier ditemukan di index: {outlier_indices}')"
   ]
  },
  {
   "cell_type": "code",
   "execution_count": 31,
   "id": "5bc39a0c",
   "metadata": {},
   "outputs": [
    {
     "name": "stdout",
     "output_type": "stream",
     "text": [
      "Mean dari SepalLengthCm: 5.843333333333335\n",
      "Median dari SepalLengthCm: 5.8\n",
      "Mode dari SepalLengthCm: [5.0]\n",
      "Variance: 0.6811222222222223\n",
      "Standard Deviation: 0.8253012917851409\n",
      "PTP: 3.6000000000000005\n",
      "Q1: 5.1\n",
      "Q3: 6.4\n",
      "IQR: 1.3000000000000007\n",
      "Lower Bound: 3\n",
      "Upper Bound: 8\n"
     ]
    }
   ],
   "source": [
    "# EDA Central Tendency\n",
    "\n",
    "def eda_central_tendency(df, column):\n",
    "    data = df[column].tolist()\n",
    "\n",
    "    # Hitung Mean, Median, Mode, Variance\n",
    "    mean = manual_mean(data)\n",
    "    median = manual_median(data)\n",
    "    mode = manual_mode(data)\n",
    "    variance_value = manual_variance(data)\n",
    "    std_dev_value = manual_std_dev(data)\n",
    "    ptp_value = manual_ptp(data)\n",
    "\n",
    "    # Print hasil\n",
    "    print(f\"Mean dari {column}: {mean}\")\n",
    "    print(f\"Median dari {column}: {median}\")\n",
    "    print(f\"Mode dari {column}: {mode}\")\n",
    "    print(f'Variance: {variance_value}')\n",
    "    print(f'Standard Deviation: {std_dev_value}')\n",
    "    print(f'PTP: {ptp_value}')\n",
    "    print(f'Q1: {q1}')\n",
    "    print(f'Q3: {q3}')\n",
    "    print(f'IQR: {iqr_value}')\n",
    "    print(f'Lower Bound: {round(lower_bound)}')\n",
    "    print(f'Upper Bound: {round(upper_bound)}')\n",
    "\n",
    "# Panggil fungsi\n",
    "eda_central_tendency(df, 'SepalLengthCm')"
   ]
  }
 ],
 "metadata": {
  "kernelspec": {
   "display_name": "myvenv",
   "language": "python",
   "name": "python3"
  },
  "language_info": {
   "codemirror_mode": {
    "name": "ipython",
    "version": 3
   },
   "file_extension": ".py",
   "mimetype": "text/x-python",
   "name": "python",
   "nbconvert_exporter": "python",
   "pygments_lexer": "ipython3",
   "version": "3.13.3"
  }
 },
 "nbformat": 4,
 "nbformat_minor": 5
}

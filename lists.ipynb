{
 "cells": [
  {
   "cell_type": "markdown",
   "id": "af8c2112",
   "metadata": {},
   "source": [
    "### Python Deep Dive"
   ]
  },
  {
   "cell_type": "markdown",
   "id": "500b5389",
   "metadata": {},
   "source": [
    "####  🌼🌾🌱 Non Primitived Data Type (Data Structures)"
   ]
  },
  {
   "cell_type": "markdown",
   "id": "781e8acb",
   "metadata": {},
   "source": [
    "##### 🎅🏻 List"
   ]
  },
  {
   "cell_type": "code",
   "execution_count": null,
   "id": "99672aca",
   "metadata": {},
   "outputs": [],
   "source": [
    "# index selalu dimulai dari 0\n",
    "# elemen dimulai dari 1\n",
    "# kalau index ke 2 berarti elemen ke 3"
   ]
  },
  {
   "cell_type": "code",
   "execution_count": 1,
   "id": "9b404119",
   "metadata": {},
   "outputs": [
    {
     "name": "stdout",
     "output_type": "stream",
     "text": [
      "list1[0]:  physics\n",
      "list2[1:5]:  [2, 3, 4, 5]\n"
     ]
    }
   ],
   "source": [
    "# buat list\n",
    "\n",
    "list1 = ['physics', 'chemistry', 1997, 2000];\n",
    "list2 = [1, 2, 3, 4, 5, 6, 7 ];\n",
    "print (\"list1[0]: \", list1[0])\n",
    "print (\"list2[1:5]: \", list2[1:5])"
   ]
  },
  {
   "cell_type": "code",
   "execution_count": 2,
   "id": "b4d73d84",
   "metadata": {},
   "outputs": [
    {
     "name": "stdout",
     "output_type": "stream",
     "text": [
      "Value available at index 2 : \n",
      "1997\n",
      "New value available at index 2 : \n",
      "2001\n"
     ]
    }
   ],
   "source": [
    "# updating list\n",
    "\n",
    "list = ['physics', 'chemistry', 1997, 2000];\n",
    "print (\"Value available at index 2 : \")\n",
    "print (list[2])\n",
    "list[2] = 2001;\n",
    "print (\"New value available at index 2 : \")\n",
    "print (list[2])"
   ]
  },
  {
   "cell_type": "code",
   "execution_count": 3,
   "id": "c01dca5c",
   "metadata": {},
   "outputs": [
    {
     "name": "stdout",
     "output_type": "stream",
     "text": [
      "['physics', 'chemistry', 1997, 2000]\n",
      "After deleting value at index 2 : \n",
      "['physics', 'chemistry', 2000]\n"
     ]
    }
   ],
   "source": [
    "# delete elemen di list\n",
    "\n",
    "list1 = ['physics', 'chemistry', 1997, 2000];\n",
    "print (list1)\n",
    "del list1[2];\n",
    "print (\"After deleting value at index 2 : \")\n",
    "print (list1)"
   ]
  },
  {
   "cell_type": "markdown",
   "id": "dd1f618e",
   "metadata": {},
   "source": [
    "##### 🎅🏻 Loop"
   ]
  },
  {
   "cell_type": "code",
   "execution_count": 6,
   "id": "52c3b910",
   "metadata": {},
   "outputs": [
    {
     "name": "stdout",
     "output_type": "stream",
     "text": [
      "25 12 10 -21 10 100 "
     ]
    }
   ],
   "source": [
    "# FOR LOOP\n",
    "\n",
    "lst = [25, 12, 10, -21, 10, 100]\n",
    "for num in lst:\n",
    " print (num, end = ' ')"
   ]
  },
  {
   "cell_type": "code",
   "execution_count": 7,
   "id": "17ac0c01",
   "metadata": {},
   "outputs": [
    {
     "name": "stdout",
     "output_type": "stream",
     "text": [
      "1\n",
      "2\n",
      "3\n",
      "4\n",
      "5\n"
     ]
    }
   ],
   "source": [
    "# WHILE LOOP\n",
    "my_list = [1, 2, 3, 4, 5]\n",
    "index = 0\n",
    "while index < len(my_list):\n",
    " print(my_list[index])\n",
    " index += 1"
   ]
  },
  {
   "cell_type": "code",
   "execution_count": 17,
   "id": "fd3790db",
   "metadata": {},
   "outputs": [
    {
     "name": "stdout",
     "output_type": "stream",
     "text": [
      "['genap', 'ganjil', 'genap', 'ganjil', 'genap', 'ganjil', 'genap', 'ganjil']\n"
     ]
    }
   ],
   "source": [
    "#buat list baru yang memberikan keterangan plat ganjil atau genap\n",
    "\n",
    "plat_mobil = [2222, 3333, 4444, 5555, 6666, 7777, 8888, 9999]\n",
    "ganjil_genap = []\n",
    "for check in plat_mobil:\n",
    "    if (check % 2 == 0):\n",
    "        ganjil_genap.append('genap')\n",
    "        # ganjil_genap = ganjil_genap + 'genap' \n",
    "        # ganjil_genap += 'genap'\n",
    "    else:\n",
    "        ganjil_genap.append('ganjil')\n",
    "print(ganjil_genap)\n"
   ]
  },
  {
   "cell_type": "code",
   "execution_count": 18,
   "id": "07cae2e3",
   "metadata": {},
   "outputs": [
    {
     "name": "stdout",
     "output_type": "stream",
     "text": [
      "['genap', 'ganjil', 'genap', 'ganjil', 'genap', 'ganjil', 'genap', 'ganjil']\n"
     ]
    }
   ],
   "source": [
    "plat_mobil = [2222, 3333, 4444, 5555, 6666, 7777, 8888, 9999]\n",
    "ganjil_genap = []\n",
    "for check in plat_mobil:\n",
    "    ganjil_genap.append('genap') if (check % 2 == 0) else ganjil_genap.append('ganjil')\n",
    "print (ganjil_genap)"
   ]
  },
  {
   "cell_type": "code",
   "execution_count": null,
   "id": "f72b89ad",
   "metadata": {},
   "outputs": [
    {
     "name": "stdout",
     "output_type": "stream",
     "text": [
      "[0, 1, 2, 3, 4, 5, 6, 7, 8, 9, 10, 11, 12, 13, 14, 15, 16, 17, 18, 19]\n"
     ]
    }
   ],
   "source": [
    "# bikin list 0 - 20\n",
    "# menggunakan loop append\n",
    "\n",
    "angka = []\n",
    "for x in range(20):\n",
    "    angka.append(x)\n",
    "print(angka)"
   ]
  },
  {
   "cell_type": "code",
   "execution_count": 1,
   "id": "f24e5297",
   "metadata": {},
   "outputs": [
    {
     "name": "stdout",
     "output_type": "stream",
     "text": [
      "[0, 1, 2, 3, 4, 5, 6, 7, 8, 9, 10, 11, 12, 13, 14, 15, 16, 17, 18, 19]\n"
     ]
    }
   ],
   "source": [
    "# bikin list 0 - 20\n",
    "# menggunakan list\n",
    "\n",
    "angka = list(range(20))\n",
    "print(angka)"
   ]
  },
  {
   "cell_type": "markdown",
   "id": "5e357561",
   "metadata": {},
   "source": [
    "##### 🎅🏻 List Comprehensif"
   ]
  },
  {
   "cell_type": "code",
   "execution_count": null,
   "id": "71dd72be",
   "metadata": {},
   "outputs": [
    {
     "name": "stdout",
     "output_type": "stream",
     "text": [
      "[0, 1, 2, 3, 4, 5, 6, 7, 8, 9, 10, 11, 12, 13, 14, 15, 16, 17, 18, 19]\n"
     ]
    }
   ],
   "source": [
    "# rumus:\n",
    "# [ekspression \"for x in sequence\"]\n",
    "# ekspression adalah apa yang mau kita masukin di list\n",
    "\n",
    "angka = [i for i in range(20)]\n",
    "print(angka)"
   ]
  },
  {
   "cell_type": "code",
   "execution_count": 4,
   "id": "b6654741",
   "metadata": {},
   "outputs": [
    {
     "name": "stdout",
     "output_type": "stream",
     "text": [
      "[0, 1, 4, 9, 16, 25, 36, 49, 64, 81, 100]\n"
     ]
    }
   ],
   "source": [
    "#tampilkan list kuadrat 10\n",
    "\n",
    "kuadrat = [i**2 for i in range(11)]\n",
    "print(kuadrat)"
   ]
  },
  {
   "cell_type": "code",
   "execution_count": 7,
   "id": "c16ac69d",
   "metadata": {},
   "outputs": [
    {
     "name": "stdout",
     "output_type": "stream",
     "text": [
      "[0, 2, 4, 6, 8, 10]\n"
     ]
    }
   ],
   "source": [
    "#tampilkan list genap 0-10\n",
    "\n",
    "genap = [i for i in range(0,11,2)]\n",
    "print(genap)"
   ]
  },
  {
   "cell_type": "code",
   "execution_count": 8,
   "id": "5fba19d8",
   "metadata": {},
   "outputs": [
    {
     "name": "stdout",
     "output_type": "stream",
     "text": [
      "[0, 2, 4, 6, 8, 10]\n"
     ]
    }
   ],
   "source": [
    "#tampilkan list genap 0-10 dengan if\n",
    "\n",
    "genap = [i for i in range(11) if (i % 2 == 0)]\n",
    "print(genap)"
   ]
  },
  {
   "cell_type": "code",
   "execution_count": 11,
   "id": "7e85659a",
   "metadata": {},
   "outputs": [
    {
     "name": "stdout",
     "output_type": "stream",
     "text": [
      "['genap', 'ganjil', 'genap', 'ganjil', 'genap', 'ganjil', 'genap', 'ganjil']\n"
     ]
    }
   ],
   "source": [
    "#buat list baru yang memberikan keterangan plat ganjil atau genap\n",
    "#dengan list comprehension\n",
    "\n",
    "plat_mobil = [2222, 3333, 4444, 5555, 6666, 7777, 8888, 9999]\n",
    "gage = ['genap' if i % 2 == 0 else 'ganjil' for i in plat_mobil ]\n",
    "print (gage)"
   ]
  },
  {
   "cell_type": "code",
   "execution_count": 16,
   "id": "df733277",
   "metadata": {},
   "outputs": [
    {
     "name": "stdout",
     "output_type": "stream",
     "text": [
      "0 apple\n",
      "1 banana\n",
      "2 cherry\n"
     ]
    }
   ],
   "source": [
    "#enumerate adalah sebuah fungsi yang menelusuri setiap index dari list\n",
    "#beserta value dari index tersebut\n",
    "\n",
    "fruits = [\"apple\", \"banana\", \"cherry\"]\n",
    "for index, fruits in enumerate(fruits):\n",
    "    print(index,fruits)"
   ]
  },
  {
   "cell_type": "markdown",
   "id": "305aab56",
   "metadata": {},
   "source": [
    "#### 🎅🏻 QUIZ TIME"
   ]
  },
  {
   "cell_type": "code",
   "execution_count": 29,
   "id": "170d1357",
   "metadata": {},
   "outputs": [
    {
     "name": "stdout",
     "output_type": "stream",
     "text": [
      "Total penjualan: 2860\n",
      "Hari dengan penjualan tertinggi: 7.00\n",
      "Rata-rata penjualan harian: 238.33\n",
      "Standar deviasi: 49.32882862316247\n"
     ]
    }
   ],
   "source": [
    "# QUIZ PAGE 29\n",
    "import statistics\n",
    "\n",
    "penjualan = [150, 200, 250, 180, 300, 220, 270, 310, 230,\n",
    "210, 250, 290]\n",
    "\n",
    "#total penjualan\n",
    "print(f'Total penjualan: {sum(penjualan)}')\n",
    "#temukan hari dgn penjualan tertinggi\n",
    "print(f'Hari dengan penjualan tertinggi: {penjualan.index(max(penjualan)):.2f}')\n",
    "#rata-rata penjualan harian\n",
    "print(f'Rata-rata penjualan harian: {statistics.mean(penjualan):.2f}')\n",
    "#standar deviasi dari penjualan harian untuk melihat seberapa besar variasi penjualan\n",
    "print(f'Standar deviasi: {statistics.stdev(penjualan)}')\n",
    "\n"
   ]
  },
  {
   "cell_type": "code",
   "execution_count": null,
   "id": "0f6a257d",
   "metadata": {},
   "outputs": [
    {
     "name": "stdout",
     "output_type": "stream",
     "text": [
      "['Dokumen', 'Desain', 'Pengembangan', 'Pengujian', 'Peluncuran', 'Dokumentasi']\n",
      "['Dokumen', 'Desain', 'Pengembangan', 'Peluncuran', 'Dokumentasi']\n",
      "['Pengembangan', 'Peluncuran', 'Dokumentasi', 'Dokumen', 'Desain']\n",
      "['Pengembangan', 'Evaluasi', 'Peluncuran', 'Dokumentasi', 'Dokumen', 'Desain']\n"
     ]
    }
   ],
   "source": [
    "#QUIZ PAGE 30\n",
    "tugas = [\"Dokumen\", \"Desain\", \"Pengembangan\", \"Pengujian\", \"Peluncuran\"]\n",
    "tugas.append(\"Dokumentasi\")\n",
    "print(tugas)\n",
    "\n",
    "tugas.remove('Pengujian')\n",
    "print(tugas)\n",
    "\n",
    "\n",
    "tugas2 = tugas.copy()\n",
    "tugas2\n",
    "\n",
    "tugas.count('Desain')\n",
    "\n",
    "tugas.sort()\n",
    "\n",
    "tugas.reverse()\n",
    "\n",
    "tugas.insert(1,\"Evaluasi\")\n"
   ]
  },
  {
   "cell_type": "code",
   "execution_count": 60,
   "id": "d3738a83",
   "metadata": {},
   "outputs": [
    {
     "name": "stdout",
     "output_type": "stream",
     "text": [
      "[200, 150, 175, 125]\n",
      "[50, 75, 100, 200, 150, 175, 125]\n",
      "[45.0, 67.5, 90.0, 180.0, 135.0, 157.5, 112.5]\n"
     ]
    }
   ],
   "source": [
    "#QUIZ PAGE 31\n",
    "\n",
    "harga_produk = [50, 75, 100, 200, 150, 175, 125]\n",
    "filter = [i for i in harga_produk if (i > 100)]\n",
    "print (filter)\n",
    "\n",
    "diskon = [i-(i*10/100) for i in harga_produk]\n",
    "print(harga_produk)\n",
    "print(diskon)"
   ]
  },
  {
   "cell_type": "markdown",
   "id": "b27637dd",
   "metadata": {},
   "source": [
    "#### 🎅🏻 Tupple"
   ]
  },
  {
   "cell_type": "code",
   "execution_count": 65,
   "id": "4c424516",
   "metadata": {},
   "outputs": [
    {
     "name": "stdout",
     "output_type": "stream",
     "text": [
      "(50,)\n"
     ]
    }
   ],
   "source": [
    "tup1 = (\"Rohan\", \"Physics\", 21, 69.75)\n",
    "tup2 = (1, 2, 3, 4, 5)\n",
    "tup3 = (\"a\", \"b\", \"c\", \"d\")\n",
    "tup4 = (25.50, True, -55, 1+2j)\n",
    "\n",
    "tup1 = ()\n",
    "tup1 = (50,)\n",
    "print(tup1)"
   ]
  },
  {
   "cell_type": "code",
   "execution_count": 72,
   "id": "f6a77806",
   "metadata": {},
   "outputs": [
    {
     "name": "stdout",
     "output_type": "stream",
     "text": [
      "tup1[0]:  physics\n",
      "tup2[1:5]:  (2, 3, 4, 5)\n"
     ]
    },
    {
     "ename": "NameError",
     "evalue": "name 'tup' is not defined",
     "output_type": "error",
     "traceback": [
      "\u001b[31m---------------------------------------------------------------------------\u001b[39m",
      "\u001b[31mNameError\u001b[39m                                 Traceback (most recent call last)",
      "\u001b[36mCell\u001b[39m\u001b[36m \u001b[39m\u001b[32mIn[72]\u001b[39m\u001b[32m, line 6\u001b[39m\n\u001b[32m      3\u001b[39m \u001b[38;5;28mprint\u001b[39m (\u001b[33m\"\u001b[39m\u001b[33mtup1[0]: \u001b[39m\u001b[33m\"\u001b[39m, tup1[\u001b[32m0\u001b[39m])\n\u001b[32m      4\u001b[39m \u001b[38;5;28mprint\u001b[39m (\u001b[33m\"\u001b[39m\u001b[33mtup2[1:5]: \u001b[39m\u001b[33m\"\u001b[39m, tup2[\u001b[32m1\u001b[39m:\u001b[32m5\u001b[39m])\n\u001b[32m----> \u001b[39m\u001b[32m6\u001b[39m \u001b[43mtup\u001b[49m[\u001b[32m0\u001b[39m] = \u001b[32m100\u001b[39m \u001b[38;5;66;03m#gabisa karena imutable\u001b[39;00m\n\u001b[32m      8\u001b[39m \u001b[38;5;28mtuple\u001b[39m(\u001b[38;5;28mfilter\u001b[39m) \u001b[38;5;66;03m#convert list jadi tuple\u001b[39;00m\n",
      "\u001b[31mNameError\u001b[39m: name 'tup' is not defined"
     ]
    }
   ],
   "source": [
    "tup1 = ('physics', 'chemistry', 1997, 2000)\n",
    "tup2 = (1, 2, 3, 4, 5, 6, 7 )\n",
    "print (\"tup1[0]: \", tup1[0])\n",
    "print (\"tup2[1:5]: \", tup2[1:5])\n",
    "\n",
    "tup[0] = 100 #gabisa karena imutable\n",
    "\n",
    "tuple(filter) #convert list jadi tuple"
   ]
  },
  {
   "cell_type": "code",
   "execution_count": null,
   "id": "bf019b4e",
   "metadata": {},
   "outputs": [
    {
     "name": "stdout",
     "output_type": "stream",
     "text": [
      "(12, 34.56, 'abc', 'xyz')\n"
     ]
    }
   ],
   "source": [
    "tup1 = (12, 34.56)\n",
    "tup2 = ('abc', 'xyz')\n",
    "# Following action is not valid for tuples\n",
    "# tup1[0] = 100;\n",
    "# So let's create a new tuple as follows\n",
    "tup3 = tup1 + tup2\n",
    "print (tup3)\n"
   ]
  },
  {
   "cell_type": "code",
   "execution_count": 73,
   "id": "742907af",
   "metadata": {},
   "outputs": [
    {
     "name": "stdout",
     "output_type": "stream",
     "text": [
      "('physics', 'chemistry', 1997, 2000)\n",
      "After deleting tup : \n"
     ]
    }
   ],
   "source": [
    "tup = ('physics', 'chemistry', 1997, 2000)\n",
    "print (tup)\n",
    "del tup\n",
    "print (\"After deleting tup : \")"
   ]
  },
  {
   "cell_type": "markdown",
   "id": "e2170c9b",
   "metadata": {},
   "source": [
    "####  🎅🏻 QUIZ PAGE 41"
   ]
  },
  {
   "cell_type": "code",
   "execution_count": 108,
   "id": "6169232d",
   "metadata": {},
   "outputs": [
    {
     "name": "stdout",
     "output_type": "stream",
     "text": [
      "Total Penjualan Mingguan: 1570\n",
      "Penjualan tertinggi: 300\n",
      "Penjualan tertinggi: 150\n",
      "Rata-rata penjualan harian: 224.29\n",
      "Rata-rata penjualan harian: 224.29\n",
      "Rata-rata penjualan harian: 224.29\n",
      "Penjualan harian yang melebihi rata-rata: [250, 300, 270]\n",
      "Hari yang memiliki penjualan diatas rata-rata: [3, 5, 7]\n",
      "Penjualan diatas rata-rata pada hari ke-3,5,7\n",
      "\n",
      "Hari ke 3 memiliki penjualan diatas rata-rata\n",
      "Hari ke 5 memiliki penjualan diatas rata-rata\n",
      "Hari ke 7 memiliki penjualan diatas rata-rata\n",
      "Penjualan diatas rata-rata pada hari ke- 3,5,7,"
     ]
    }
   ],
   "source": [
    "import statistics as stat \n",
    "penjualan_mingguan = (150, 200, 250, 180, 300, 220, 270)\n",
    "\n",
    "print(f'Total Penjualan Mingguan: {sum(penjualan_mingguan)}')\n",
    "print(f'Penjualan tertinggi: {max(penjualan_mingguan)}')\n",
    "print(f'Penjualan tertinggi: {min(penjualan_mingguan)}')\n",
    "print(f'Rata-rata penjualan harian: {stat.mean(penjualan_mingguan):.2f}')\n",
    "print(f'Rata-rata penjualan harian: {sum(penjualan_mingguan)/7:.2f}')\n",
    "print(f'Rata-rata penjualan harian: {sum(penjualan_mingguan)/7:.2f}')\n",
    "\n",
    "diatas_avg = [i for i in penjualan_mingguan if (i > sum(penjualan_mingguan)/7)]\n",
    "print(f'Penjualan harian yang melebihi rata-rata:', diatas_avg)\n",
    "\n",
    "hari_diatas_avg = [penjualan_mingguan.index(i)+1 for i in penjualan_mingguan if (i > sum(penjualan_mingguan)/len(penjualan_mingguan))]\n",
    "print(f'Hari yang memiliki penjualan diatas rata-rata:', hari_diatas_avg)\n",
    "print(f'Penjualan diatas rata-rata pada hari ke-{hari_diatas_avg[0]},{hari_diatas_avg[1]},{hari_diatas_avg[2]}\\n')\n",
    "for i in (hari_diatas_avg):print(f'Hari ke {i} memiliki penjualan diatas rata-rata')\n",
    "\n",
    "print('Penjualan diatas rata-rata pada hari ke- ', end='')\n",
    "for hari in hari_diatas_avg:\n",
    "    print(f'{hari}', end=',')"
   ]
  },
  {
   "cell_type": "markdown",
   "id": "36f1dbc6",
   "metadata": {},
   "source": [
    "#### 🎅🏻 Python Set"
   ]
  },
  {
   "cell_type": "code",
   "execution_count": 93,
   "id": "3fef5ef2",
   "metadata": {},
   "outputs": [
    {
     "name": "stdout",
     "output_type": "stream",
     "text": [
      "{1, 2, 3, 4, 5}\n"
     ]
    }
   ],
   "source": [
    "#membuat set di python dengan kurung kurawal\n",
    "my_set = {1, 2, 3, 4, 5}\n",
    "print (my_set)"
   ]
  },
  {
   "cell_type": "code",
   "execution_count": 94,
   "id": "ae6daaf2",
   "metadata": {},
   "outputs": [
    {
     "name": "stdout",
     "output_type": "stream",
     "text": [
      "{1, 2, 3, 4, 5}\n"
     ]
    }
   ],
   "source": [
    "#membuat set di python dengan set()\n",
    "my_set = set([1, 2, 3, 4, 5])\n",
    "print (my_set)"
   ]
  },
  {
   "cell_type": "code",
   "execution_count": 97,
   "id": "34ef2441",
   "metadata": {},
   "outputs": [
    {
     "name": "stdout",
     "output_type": "stream",
     "text": [
      "{1, 2, 3, 4, 5}\n",
      "{1, (1, 2, 3), 'hello'}\n"
     ]
    },
    {
     "data": {
      "text/plain": [
       "{(1, 2, 3), 1, 'hello'}"
      ]
     },
     "execution_count": 97,
     "metadata": {},
     "output_type": "execute_result"
    }
   ],
   "source": [
    "my_set = {1, 2, 2, 3, 3, 4, 5, 5}\n",
    "print (my_set)\n",
    "\n",
    "mixed_set = {1, 'hello', (1, 2, 3)}\n",
    "print (mixed_set)\n",
    "\n",
    "{1, 'hello', (1, 2, 3)}"
   ]
  },
  {
   "cell_type": "code",
   "execution_count": 98,
   "id": "b9174b0d",
   "metadata": {},
   "outputs": [
    {
     "name": "stdout",
     "output_type": "stream",
     "text": [
      "{1, 2, 3, 4}\n"
     ]
    }
   ],
   "source": [
    "my_set = {1, 2, 3, 3}\n",
    "# Adding an element 4 to the set\n",
    "my_set.add(4)\n",
    "print (my_set)"
   ]
  },
  {
   "cell_type": "code",
   "execution_count": 99,
   "id": "a54017b7",
   "metadata": {},
   "outputs": [
    {
     "name": "stdout",
     "output_type": "stream",
     "text": [
      "{1, 2, 4}\n"
     ]
    }
   ],
   "source": [
    "my_set = {1, 2, 3, 4}\n",
    "# Removes the element 3 from the set\n",
    "my_set.remove(3)\n",
    "print (my_set)"
   ]
  },
  {
   "cell_type": "code",
   "execution_count": 100,
   "id": "06c98e39",
   "metadata": {},
   "outputs": [
    {
     "name": "stdout",
     "output_type": "stream",
     "text": [
      "2 is present in the set\n"
     ]
    }
   ],
   "source": [
    "my_set = {1, 2, 3, 4}\n",
    "if 2 in my_set:\n",
    " print(\"2 is present in the set\")\n",
    "else:\n",
    " print(\"2 is not present in the set\")"
   ]
  },
  {
   "cell_type": "code",
   "execution_count": 101,
   "id": "db1d9d4d",
   "metadata": {},
   "outputs": [
    {
     "name": "stdout",
     "output_type": "stream",
     "text": [
      "{1, 4, 9, 16, 25}\n"
     ]
    }
   ],
   "source": [
    "squared_set = {x**2 for x in range(1, 6)}\n",
    "print(squared_set)"
   ]
  },
  {
   "cell_type": "code",
   "execution_count": 102,
   "id": "877a48e8",
   "metadata": {},
   "outputs": [
    {
     "name": "stdout",
     "output_type": "stream",
     "text": [
      "{(1, 1), (1, 2), (2, 1), (2, 2)}\n"
     ]
    }
   ],
   "source": [
    "nested_set = {(x, y) for x in range(1, 3) for y in range(1, 3)}\n",
    "print(nested_set)\n"
   ]
  },
  {
   "cell_type": "code",
   "execution_count": null,
   "id": "82e83d8d",
   "metadata": {},
   "outputs": [
    {
     "name": "stdout",
     "output_type": "stream",
     "text": [
      "frozenset({1, 2, 3})\n"
     ]
    },
    {
     "ename": "AttributeError",
     "evalue": "'frozenset' object has no attribute 'add'",
     "output_type": "error",
     "traceback": [
      "\u001b[31m---------------------------------------------------------------------------\u001b[39m",
      "\u001b[31mAttributeError\u001b[39m                            Traceback (most recent call last)",
      "\u001b[36mCell\u001b[39m\u001b[36m \u001b[39m\u001b[32mIn[103]\u001b[39m\u001b[32m, line 3\u001b[39m\n\u001b[32m      1\u001b[39m my_frozen_set = \u001b[38;5;28mfrozenset\u001b[39m([\u001b[32m1\u001b[39m, \u001b[32m2\u001b[39m, \u001b[32m3\u001b[39m])\n\u001b[32m      2\u001b[39m \u001b[38;5;28mprint\u001b[39m(my_frozen_set)\n\u001b[32m----> \u001b[39m\u001b[32m3\u001b[39m \u001b[43mmy_frozen_set\u001b[49m\u001b[43m.\u001b[49m\u001b[43madd\u001b[49m(\u001b[32m4\u001b[39m) \n",
      "\u001b[31mAttributeError\u001b[39m: 'frozenset' object has no attribute 'add'"
     ]
    }
   ],
   "source": [
    "#frozen set kayak tupple gabisa diganti\n",
    "my_frozen_set = frozenset([1, 2, 3])\n",
    "print(my_frozen_set)\n",
    "my_frozen_set.add(4) "
   ]
  },
  {
   "cell_type": "code",
   "execution_count": 104,
   "id": "0cc8c6f4",
   "metadata": {},
   "outputs": [
    {
     "name": "stdout",
     "output_type": "stream",
     "text": [
      "{1, 2, 3, 4, 5, 6, 7, 8}\n"
     ]
    }
   ],
   "source": [
    "#Join in python pake tanda |\n",
    "s1={1,2,3,4,5}\n",
    "s2={4,5,6,7,8}\n",
    "s3 = s1|s2\n",
    "print (s3)"
   ]
  },
  {
   "cell_type": "code",
   "execution_count": 109,
   "id": "d54f26b3",
   "metadata": {},
   "outputs": [
    {
     "name": "stdout",
     "output_type": "stream",
     "text": [
      "{1, 2, 3, 4, 5, 6, 7, 8}\n"
     ]
    }
   ],
   "source": [
    "s1={1,2,3,4,5}\n",
    "s2={4,5,6,7,8}\n",
    "s3 = s1.union(s2)\n",
    "print (s3)"
   ]
  },
  {
   "cell_type": "code",
   "execution_count": null,
   "id": "4e37ea04",
   "metadata": {},
   "outputs": [
    {
     "name": "stdout",
     "output_type": "stream",
     "text": [
      "The union of set1 and set2 is {1, 2, 3, 4, 5}\n",
      "The union of set3 and set4 is {73, 6, 8, 9, 45}\n"
     ]
    }
   ],
   "source": [
    "#Membuat set union dengan operator |\n",
    "\n",
    "set1 = {1, 2, 3}\n",
    "set2 = {3, 4, 5}\n",
    "set3 = {6, 8, 9}\n",
    "set4 = {9, 45, 73}\n",
    "union_set1 = set1.union(set2)\n",
    "union_set2 = set3 | set4\n",
    "print ('The union of set1 and set2 is', union_set1)\n",
    "print ('The union of set3 and set4 is', union_set2)"
   ]
  },
  {
   "cell_type": "code",
   "execution_count": null,
   "id": "f1b4b936",
   "metadata": {},
   "outputs": [
    {
     "name": "stdout",
     "output_type": "stream",
     "text": [
      "The intersection of set1 and set2 is {3}\n",
      "The intersection of set3 and set4 is {8, 9}\n"
     ]
    }
   ],
   "source": [
    "#Python set intersection operator (&)\n",
    "\n",
    "set1 = {1, 2, 3}\n",
    "set2 = {3, 4, 5}\n",
    "set3 = {6, 8, 9}\n",
    "set4 = {9, 8, 73}\n",
    "intersection_set1 = set1.intersection(set2)\n",
    "intersection_set2 = set3 & set4\n",
    "print ('The intersection of set1 and set2 is', intersection_set1)\n",
    "print ('The intersection of set3 and set4 is', intersection_set2)"
   ]
  },
  {
   "cell_type": "code",
   "execution_count": 112,
   "id": "35abfd49",
   "metadata": {},
   "outputs": [
    {
     "name": "stdout",
     "output_type": "stream",
     "text": [
      "The difference between set1 and set2 is {1, 2}\n",
      "The difference between set3 and set4 is {6}\n"
     ]
    }
   ],
   "source": [
    "#Python set difference operator (-)\n",
    "\n",
    "set1 = {1, 2, 3}\n",
    "set2 = {3, 4, 5}\n",
    "set3 = {6, 8, 9}\n",
    "set4 = {9, 8, 73}\n",
    "difference_set1 = set1.difference(set2)\n",
    "difference_set2 = set3 - set4\n",
    "print ('The difference between set1 and set2 is', difference_set1)\n",
    "print ('The difference between set3 and set4 is', difference_set2)"
   ]
  },
  {
   "cell_type": "code",
   "execution_count": 113,
   "id": "f640b0c0",
   "metadata": {},
   "outputs": [
    {
     "name": "stdout",
     "output_type": "stream",
     "text": [
      "The symmetric difference of set1 and set2 is {1, 2, 4, 5}\n",
      "The symmetric difference of set3 and set4 is {73, 6}\n"
     ]
    }
   ],
   "source": [
    "#Python set symmetric difference operator\n",
    "\n",
    "set1 = {1, 2, 3}\n",
    "set2 = {3, 4, 5}\n",
    "set3 = {6, 8, 9}\n",
    "set4 = {9, 8, 73}\n",
    "symmetric_difference_set1 = set1.symmetric_difference(set2)\n",
    "symmetric_difference_set2 = set3 ^ set4\n",
    "print ('The symmetric difference of set1 and set2 is', symmetric_difference_set1)\n",
    "print ('The symmetric difference of set3 and set4 is', symmetric_difference_set2)\n"
   ]
  },
  {
   "cell_type": "markdown",
   "id": "28cc4580",
   "metadata": {},
   "source": [
    "#### 🎅🏻 QUIZ PAGE 62"
   ]
  },
  {
   "cell_type": "code",
   "execution_count": 117,
   "id": "37fc8048",
   "metadata": {},
   "outputs": [
    {
     "name": "stdout",
     "output_type": "stream",
     "text": [
      "Produk yang ada di kedua gudang {104, 105, 106}\n",
      "Produk yang hanya ada di gudang A, tidak ada di gudang B {101, 102, 103}\n",
      "The union of stock gudang A and B is {101, 102, 103, 104, 105, 106, 107, 108, 109}\n",
      "Produk yang hanya ada di gudang B, tidak ada di gudang A {107, 108, 109}\n"
     ]
    }
   ],
   "source": [
    "stok_gudang_A = {101, 102, 103, 104, 105, 106}\n",
    "stok_gudang_B = {104, 105, 106, 107, 108, 109}\n",
    "\n",
    "#Menemukan produk yang ada di kedua gudang dengan set\n",
    "intersection_stok_gudang_A = stok_gudang_A.intersection(stok_gudang_B)\n",
    "print ('Produk yang ada di kedua gudang', intersection_stok_gudang_A)\n",
    "\n",
    "#Menemukan produk yang hanya ada di gudang A, tidak ada di gudang B\n",
    "difference_stok_gudang_A = stok_gudang_A.difference(stok_gudang_B)\n",
    "print ('Produk yang hanya ada di gudang A, tidak ada di gudang B', difference_stok_gudang_A)\n",
    "\n",
    "#Temukan produk yang setidaknya ada di salah satu gudang\n",
    "union_stok_gudang_A = stok_gudang_A.union(stok_gudang_B)\n",
    "print ('The union of stock gudang A and B is', union_stok_gudang_A)\n",
    "\n",
    "#Menemukan produk yang hanya ada di gudang B, tidak ada di gudang A\n",
    "difference_stok_gudang_B = stok_gudang_B.difference(stok_gudang_A)\n",
    "print ('Produk yang hanya ada di gudang B, tidak ada di gudang A', difference_stok_gudang_B)"
   ]
  },
  {
   "cell_type": "markdown",
   "id": "7ed8c7b0",
   "metadata": {},
   "source": [
    "#### 🎅🏻 Dictionaries"
   ]
  },
  {
   "cell_type": "code",
   "execution_count": 123,
   "id": "89d10941",
   "metadata": {},
   "outputs": [
    {
     "name": "stdout",
     "output_type": "stream",
     "text": [
      "Dictionary using curly braces: {'Name': 'Sachin Tendulkar', 'Age': 48, 'Sport': 'Cricket'}\n",
      "Dictionary using dict(): {'name': 'Alice', 'age': 21, 'major': 'Computer Science'}\n"
     ]
    }
   ],
   "source": [
    "sports_player = {\n",
    " \"Name\": \"Sachin Tendulkar\",\n",
    " \"Age\": 48,\n",
    " \"Sport\": \"Cricket\"\n",
    "}\n",
    "print (\"Dictionary using curly braces:\", sports_player)\n",
    "\n",
    "# Creating a dictionary using the dict() function\n",
    "student_info = dict(name=\"Alice\", age=21, major=\"Computer Science\")\n",
    "print(\"Dictionary using dict():\",student_info)"
   ]
  },
  {
   "cell_type": "code",
   "execution_count": 120,
   "id": "d4744d2a",
   "metadata": {},
   "outputs": [
    {
     "name": "stdout",
     "output_type": "stream",
     "text": [
      "Name: Alice\n",
      "Age: 21\n"
     ]
    }
   ],
   "source": [
    "student_info = {\n",
    " \"name\": \"Alice\",\n",
    " \"age\": 21,\n",
    " \"major\": \"Computer Science\"\n",
    "}\n",
    "# Accessing values using square brackets\n",
    "name = student_info[\"name\"]\n",
    "print(\"Name:\",name)\n",
    "# Accessing values using the get() method\n",
    "age = student_info.get(\"age\")\n",
    "print(\"Age:\",age)"
   ]
  },
  {
   "cell_type": "code",
   "execution_count": 121,
   "id": "ad76751c",
   "metadata": {},
   "outputs": [
    {
     "name": "stdout",
     "output_type": "stream",
     "text": [
      "The modified dictionary is: {'name': 'Alice', 'age': 22, 'major': 'Computer Science', 'graduation_year': 2023}\n"
     ]
    }
   ],
   "source": [
    "#Modifying Dictionary Items\n",
    "\n",
    "student_info = {\n",
    " \"name\": \"Alice\",\n",
    " \"age\": 21,\n",
    " \"major\": \"Computer Science\"\n",
    "}\n",
    "# Modifying an existing key-value pair\n",
    "student_info[\"age\"] = 22\n",
    "# Adding a new key-value pair\n",
    "student_info[\"graduation_year\"] = 2023\n",
    "print(\"The modified dictionary is:\",student_info)"
   ]
  },
  {
   "cell_type": "code",
   "execution_count": 122,
   "id": "bc4ce303",
   "metadata": {},
   "outputs": [
    {
     "name": "stdout",
     "output_type": "stream",
     "text": [
      "{'name': 'Alice', 'age': 22}\n"
     ]
    }
   ],
   "source": [
    "#Removing Dictionary Items\n",
    "\n",
    "student_info = {\n",
    " \"name\": \"Alice\",\n",
    " \"age\": 22,\n",
    " \"major\": \"Computer Science\",\n",
    " \"graduation_year\": 2023\n",
    "}\n",
    "# Removing an item using the del statement\n",
    "del student_info[\"major\"]\n",
    "# Removing an item using the pop() method\n",
    "graduation_year = student_info.pop(\"graduation_year\")\n",
    "print(student_info) "
   ]
  },
  {
   "cell_type": "code",
   "execution_count": 125,
   "id": "6a5a840b",
   "metadata": {},
   "outputs": [
    {
     "name": "stdout",
     "output_type": "stream",
     "text": [
      "Name: ['Alice', 'Cella', 'Lala']\n",
      "Age: [21, 22, 23]\n"
     ]
    }
   ],
   "source": [
    "#Bikin dictionary jadi list\n",
    "\n",
    "student_info = {\n",
    " \"name\": [\"Alice\",\"Cella\",\"Lala\"],\n",
    " \"age\": [21,22,23],\n",
    " \"major\": [\"Computer Science\",\"DKV\",\"Doctor\"]\n",
    "}\n",
    "# Accessing values using square brackets\n",
    "name = student_info[\"name\"]\n",
    "print(\"Name:\",name)\n",
    "# Accessing values using the get() method\n",
    "age = student_info.get(\"age\")\n",
    "print(\"Age:\",age)"
   ]
  },
  {
   "cell_type": "code",
   "execution_count": 126,
   "id": "7f8e2235",
   "metadata": {},
   "outputs": [
    {
     "name": "stdout",
     "output_type": "stream",
     "text": [
      "Keys:  name Alice\n",
      "Keys:  age 22\n",
      "Keys:  major Computer Science\n",
      "Keys:  graduation_year 2023\n",
      "Values: Alice\n",
      "Values: 22\n",
      "Values: Computer Science\n",
      "Values: 2023\n",
      "Key:Value: name Alice\n",
      "Key:Value: age 22\n",
      "Key:Value: major Computer Science\n",
      "Key:Value: graduation_year 2023\n"
     ]
    }
   ],
   "source": [
    "student_info = {\n",
    " \"name\": \"Alice\",\n",
    " \"age\": 22,\n",
    " \"major\": \"Computer Science\",\n",
    " \"graduation_year\": 2023\n",
    "}\n",
    "#Iterating through keys\n",
    "for key in student_info:\n",
    "    print(\"Keys: \",key, student_info[key])\n",
    "\n",
    "#Iterating through values\n",
    "for value in student_info.values():\n",
    "    print(\"Values:\",value)\n",
    "\n",
    "#Iterating through key-value pairs\n",
    "for key, value in student_info.items():\n",
    "    print(\"Key:Value:\",key, value)"
   ]
  },
  {
   "cell_type": "code",
   "execution_count": 133,
   "id": "bf20cf5f",
   "metadata": {},
   "outputs": [
    {
     "name": "stdout",
     "output_type": "stream",
     "text": [
      "Key: Name , Value: Alice \n",
      "\n",
      "Key: Age , Value: 21 \n",
      "\n",
      "Key: Major , Value: Computer Science \n",
      "\n",
      "Key: Name , Value: Bob \n",
      "\n",
      "Key: Age , Value: 22 \n",
      "\n",
      "Key: Major , Value: Mathematics \n",
      "\n",
      "Key: Name , Value: Charlie \n",
      "\n",
      "Key: Age , Value: 23 \n",
      "\n",
      "Key: Major , Value: Physics \n",
      "\n"
     ]
    }
   ],
   "source": [
    "#Bikin list yang berisi dictionary\n",
    "#Tampilkan keyvalue dari dictionary\n",
    "\n",
    "students = [\n",
    "    {\"Name\": \"Alice\", \"Age\": 21, \"Major\": \"Computer Science\"},\n",
    "    {\"Name\": \"Bob\", \"Age\": 22, \"Major\": \"Mathematics\"},\n",
    "    {\"Name\": \"Charlie\", \"Age\": 23, \"Major\": \"Physics\"}\n",
    "]\n",
    "for student in students:\n",
    "    for key, value in student.items():\n",
    "        print(\"Key:\", key, \", Value:\", value, \"\\n\")"
   ]
  },
  {
   "cell_type": "code",
   "execution_count": 141,
   "id": "f9507ea0",
   "metadata": {},
   "outputs": [
    {
     "name": "stdout",
     "output_type": "stream",
     "text": [
      "name Alice\n",
      "age 22\n",
      "major Computer Science\n"
     ]
    }
   ],
   "source": [
    "#Loop through dictionary using for loop\n",
    "\n",
    "students ={\n",
    "    \"name\": \"Alice\",\n",
    "    \"age\": 22,\n",
    "    \"major\": \"Computer Science\"\n",
    "}\n",
    "for key in students:\n",
    "    print(key, students[key])\n"
   ]
  },
  {
   "cell_type": "code",
   "execution_count": 143,
   "id": "b0ef976d",
   "metadata": {},
   "outputs": [
    {
     "name": "stdout",
     "output_type": "stream",
     "text": [
      "Name Charlie\n",
      "Age 23\n",
      "Major Physics\n"
     ]
    }
   ],
   "source": [
    "#Loop through dictionary using while loop\n",
    "students ={\n",
    "    \"name\": \"Alice\",\n",
    "    \"age\": 20,\n",
    "    \"major\": \"Computer Science\"\n",
    "}\n",
    "for key, value in student.items():\n",
    "    print(key, value)"
   ]
  },
  {
   "cell_type": "code",
   "execution_count": 144,
   "id": "d92888d3",
   "metadata": {},
   "outputs": [
    {
     "name": "stdout",
     "output_type": "stream",
     "text": [
      "{'Alice': {'age': 21, 'major': 'Computer Science', 'GPA': 4.0}, 'Bob': {'age': 20, 'major': 'Engineering'}, 'Charlie': {'age': 23, 'major': 'Mathematics', 'GPA': 3.8}}\n"
     ]
    }
   ],
   "source": [
    "#Initial nested dictionary\n",
    "students = {\n",
    "    \"Alice\" : {\"age\": 21, \"major\": \"Computer Science\"},\n",
    "    \"Bob\": {\"age\": 20, \"major\": \"Engineering\"}\n",
    "}\n",
    "\n",
    "#Adding a new key value pair to Alice's nested dictionary\n",
    "students[\"Alice\"][\"GPA\"] = 4.0\n",
    "\n",
    "#Adding a new nested dictionary for a new student\n",
    "students[\"Charlie\"] = {\"age\":23, \"major\": \"Mathematics\", \"GPA\" : 3.8}\n",
    "\n",
    "print(students)"
   ]
  },
  {
   "cell_type": "code",
   "execution_count": 167,
   "id": "181adb9b",
   "metadata": {},
   "outputs": [
    {
     "name": "stdout",
     "output_type": "stream",
     "text": [
      "Student: Alice\n",
      "age 21\n",
      "major Computer Science\n",
      "GPA 4.0\n",
      "Student: Bob\n",
      "age 20\n",
      "major Engineering\n",
      "Student: Charlie\n",
      "age 23\n",
      "major Mathematics\n",
      "GPA 3.8\n",
      "{'age': 21, 'major': 'Computer Science', 'GPA': 4.0}\n",
      "dict_keys(['Alice', 'Bob', 'Charlie'])\n",
      "Alice\n"
     ]
    }
   ],
   "source": [
    "#Initial nested dictionary\n",
    "students = {\n",
    "    \"Alice\" : {\"age\": 21, \"major\": \"Computer Science\"},\n",
    "    \"Bob\": {\"age\": 20, \"major\": \"Engineering\"}\n",
    "}\n",
    "\n",
    "#Adding a new key value pair to Alice's nested dictionary\n",
    "students[\"Alice\"][\"GPA\"] = 4.0\n",
    "\n",
    "#Adding a new nested dictionary for a new student\n",
    "students[\"Charlie\"] = {\"age\":23, \"major\": \"Mathematics\", \"GPA\" : 3.8}\n",
    "\n",
    "for student, details in students.items():\n",
    "    print(f\"Student: {student}\")\n",
    "    for key, value in details.items():\n",
    "        print(key, value)\n",
    "\n",
    "print(students[\"Alice\"]) #menampilkan isi dari key Alice\n",
    "print(students.keys()) #menampilkan semua key dari dictionary\n",
    "\n",
    "#bikin list dari dictionary\n",
    "print(list(students.keys())[0])"
   ]
  },
  {
   "cell_type": "markdown",
   "id": "b8f030b8",
   "metadata": {},
   "source": [
    "#### 🎅🏻 QUIZ PAGE 81"
   ]
  },
  {
   "cell_type": "code",
   "execution_count": 175,
   "id": "b803ba7e",
   "metadata": {},
   "outputs": [
    {
     "name": "stdout",
     "output_type": "stream",
     "text": [
      "Mahasiswa dengan usia tertinggi adalah Charlie yang berumur 22 tahun.\n",
      "Rata-rata usia mahasiswa adalah 21.0 tahun.\n",
      "Mahasiswa Charlie berumur 22 tahun dari jurusan Mathematics\n"
     ]
    }
   ],
   "source": [
    "students = {\n",
    " \"Alice\": {\"age\": 21, \"major\": \"Computer Science\"},\n",
    " \"Bob\": {\"age\": 20, \"major\": \"Engineering\"},\n",
    " \"Charlie\": {\"age\": 22, \"major\": \"Mathematics\"}\n",
    "}\n",
    "\n",
    "# Menemukan nama mahasiswa dengan usia tertinggi\n",
    "#jangan pakai lambda\n",
    "#menggunakan if else\n",
    "oldest_student = 0\n",
    "for student, details in students.items():\n",
    "    if details[\"age\"] > oldest_student:\n",
    "        oldest_student = details[\"age\"]\n",
    "        oldest_name = student\n",
    "print(f\"Mahasiswa dengan usia tertinggi adalah {oldest_name} yang berumur {oldest_student} tahun.\")\n",
    "\n",
    "#Hitung rata-rata usia mahasiswa\n",
    "total = 0\n",
    "for student, details in students.items():\n",
    "    total += details[\"age\"]\n",
    "    average_age = total / len(students)\n",
    "print(f'Rata-rata usia mahasiswa adalah {average_age} tahun.')\n",
    "\n",
    "#Menemukan mahasiswa yang usianya lebih dari 21 tahun dan berikan informasinya\n",
    "for student, details in students.items():\n",
    "    if details[\"age\"] > 21:\n",
    "        print(f'Mahasiswa {student} berumur {details[\"age\"]} tahun dari jurusan {details[\"major\"]}')"
   ]
  },
  {
   "cell_type": "markdown",
   "id": "6fe5f5ce",
   "metadata": {},
   "source": [
    "#### 🎅🏻 Array in Python"
   ]
  },
  {
   "cell_type": "code",
   "execution_count": 176,
   "id": "8ad19627",
   "metadata": {},
   "outputs": [
    {
     "name": "stdout",
     "output_type": "stream",
     "text": [
      "<class 'array.array'> array('i', [1, 2, 3])\n",
      "<class 'array.array'> array('u', 'BAT')\n",
      "<class 'array.array'> array('d', [1.1, 2.2, 3.3])\n"
     ]
    },
    {
     "name": "stderr",
     "output_type": "stream",
     "text": [
      "C:\\Users\\71485\\AppData\\Local\\Temp\\ipykernel_23548\\3849706547.py:8: DeprecationWarning: The 'u' type code is deprecated and will be removed in Python 3.16\n",
      "  a = arr.array('u', 'BAT')\n"
     ]
    }
   ],
   "source": [
    "import array as arr\n",
    "\n",
    "#creating an array with integer type\n",
    "a = arr.array('i', [1,2,3])\n",
    "print (type(a),a)\n",
    "\n",
    "#Creating an array with char type\n",
    "a = arr.array('u', 'BAT')\n",
    "print (type(a),a)\n",
    "\n",
    "#Creating an array with float type\n",
    "a = arr.array('d', [1.1,2.2,3.3])\n",
    "print (type(a),a)\n"
   ]
  },
  {
   "cell_type": "markdown",
   "id": "a0eb9663",
   "metadata": {},
   "source": [
    "#### 🎅🏻 Numpy"
   ]
  },
  {
   "cell_type": "code",
   "execution_count": 177,
   "id": "296fbce3",
   "metadata": {},
   "outputs": [
    {
     "name": "stdout",
     "output_type": "stream",
     "text": [
      "Collecting numpy\n",
      "  Downloading numpy-2.3.0-cp313-cp313-win_amd64.whl.metadata (60 kB)\n",
      "Downloading numpy-2.3.0-cp313-cp313-win_amd64.whl (12.7 MB)\n",
      "   ---------------------------------------- 0.0/12.7 MB ? eta -:--:--\n",
      "   ------- -------------------------------- 2.4/12.7 MB 13.0 MB/s eta 0:00:01\n",
      "   -------------- ------------------------- 4.5/12.7 MB 11.5 MB/s eta 0:00:01\n",
      "   -------------------------- ------------- 8.4/12.7 MB 13.7 MB/s eta 0:00:01\n",
      "   ---------------------------------- ----- 11.0/12.7 MB 13.9 MB/s eta 0:00:01\n",
      "   ---------------------------------- ----- 11.0/12.7 MB 13.9 MB/s eta 0:00:01\n",
      "   ---------------------------------------  12.6/12.7 MB 10.2 MB/s eta 0:00:01\n",
      "   ---------------------------------------- 12.7/12.7 MB 9.9 MB/s eta 0:00:00\n",
      "Installing collected packages: numpy\n",
      "Successfully installed numpy-2.3.0\n",
      "Note: you may need to restart the kernel to use updated packages.\n"
     ]
    },
    {
     "name": "stderr",
     "output_type": "stream",
     "text": [
      "\n",
      "[notice] A new release of pip is available: 25.0.1 -> 25.1.1\n",
      "[notice] To update, run: python.exe -m pip install --upgrade pip\n"
     ]
    }
   ],
   "source": [
    "pip install numpy"
   ]
  },
  {
   "cell_type": "code",
   "execution_count": 178,
   "id": "28745f6e",
   "metadata": {},
   "outputs": [],
   "source": [
    "import numpy as np\n",
    "#berfungsi untuk menghandle matriks 2 dimensi di python"
   ]
  },
  {
   "cell_type": "code",
   "execution_count": 185,
   "id": "21edd9e6",
   "metadata": {},
   "outputs": [
    {
     "name": "stdout",
     "output_type": "stream",
     "text": [
      "[1 2 3]\n"
     ]
    },
    {
     "data": {
      "text/plain": [
       "1"
      ]
     },
     "execution_count": 185,
     "metadata": {},
     "output_type": "execute_result"
    }
   ],
   "source": [
    "#1 dimensi\n",
    "import numpy as np\n",
    "a = np.array([1,2,3])\n",
    "print (a)\n",
    "a.ndim"
   ]
  },
  {
   "cell_type": "code",
   "execution_count": 186,
   "id": "2f6102d6",
   "metadata": {},
   "outputs": [
    {
     "name": "stdout",
     "output_type": "stream",
     "text": [
      "[[1 2]\n",
      " [3 4]]\n"
     ]
    },
    {
     "data": {
      "text/plain": [
       "2"
      ]
     },
     "execution_count": 186,
     "metadata": {},
     "output_type": "execute_result"
    }
   ],
   "source": [
    "#2 dimensi\n",
    "import numpy as np\n",
    "a = np.array([[1,2],[3,4]])\n",
    "print (a)\n",
    "a.ndim"
   ]
  },
  {
   "cell_type": "code",
   "execution_count": 191,
   "id": "25f01857",
   "metadata": {},
   "outputs": [
    {
     "name": "stdout",
     "output_type": "stream",
     "text": [
      "[[1 2 3 4 5]]\n"
     ]
    }
   ],
   "source": [
    "#minimum dimension\n",
    "import numpy as np\n",
    "a = np.array([1, 2, 3, 4, 5], ndmin = 2)\n",
    "print (a)"
   ]
  },
  {
   "cell_type": "code",
   "execution_count": 194,
   "id": "c5737207",
   "metadata": {},
   "outputs": [
    {
     "name": "stdout",
     "output_type": "stream",
     "text": [
      "[[1 2 3]\n",
      " [4 5 6]]\n",
      "(2, 3)\n"
     ]
    }
   ],
   "source": [
    "import numpy as np\n",
    "a = np.array([[1,2,3],[4,5,6]])\n",
    "print (a)\n",
    "print (a.shape)"
   ]
  },
  {
   "cell_type": "code",
   "execution_count": 196,
   "id": "b62bf6c2",
   "metadata": {},
   "outputs": [
    {
     "name": "stdout",
     "output_type": "stream",
     "text": [
      "[[1 2]\n",
      " [3 4]\n",
      " [5 6]]\n"
     ]
    },
    {
     "data": {
      "text/plain": [
       "2"
      ]
     },
     "execution_count": 196,
     "metadata": {},
     "output_type": "execute_result"
    }
   ],
   "source": [
    "import numpy as np\n",
    "a = np.array([[1,2,3],[4,5,6]])\n",
    "a.shape = (3,2)\n",
    "print (a)\n",
    "a.ndim"
   ]
  },
  {
   "cell_type": "code",
   "execution_count": 202,
   "id": "23f9199f",
   "metadata": {},
   "outputs": [
    {
     "name": "stdout",
     "output_type": "stream",
     "text": [
      "[[1 2]\n",
      " [3 4]\n",
      " [5 6]]\n"
     ]
    },
    {
     "data": {
      "text/plain": [
       "2"
      ]
     },
     "execution_count": 202,
     "metadata": {},
     "output_type": "execute_result"
    }
   ],
   "source": [
    "import numpy as np\n",
    "a = np.array([[1,2,3],[4,5,6]])\n",
    "b = a.reshape(3,2)\n",
    "print (b)\n",
    "b.ndim"
   ]
  },
  {
   "cell_type": "code",
   "execution_count": 210,
   "id": "3ee4464a",
   "metadata": {},
   "outputs": [
    {
     "name": "stdout",
     "output_type": "stream",
     "text": [
      "[[1 2 3]\n",
      " [4 5 6]]\n",
      "[[1 2]\n",
      " [3 4]\n",
      " [5 6]]\n",
      "[[1]\n",
      " [2]\n",
      " [3]\n",
      " [4]\n",
      " [5]\n",
      " [6]]\n",
      "[[1 2 3 4 5 6]]\n"
     ]
    }
   ],
   "source": [
    "import numpy as np\n",
    "a = np.array([[1,2,3],[4,5,6]])\n",
    "b = a.reshape(3,2)\n",
    "c = b.reshape(-1,1) #jadi matriks kolom\n",
    "d = b.reshape(1,-1) #jadi matriks baris\n",
    "print (a)\n",
    "print (b)\n",
    "print (c)\n",
    "print (d)"
   ]
  },
  {
   "cell_type": "code",
   "execution_count": 203,
   "id": "6407ffe7",
   "metadata": {},
   "outputs": [
    {
     "name": "stdout",
     "output_type": "stream",
     "text": [
      "[ 0  1  2  3  4  5  6  7  8  9 10 11 12 13 14 15 16 17 18 19 20 21 22 23]\n"
     ]
    }
   ],
   "source": [
    "# an array of evenly spaced numbers\n",
    "import numpy as np\n",
    "a = np.arange(24)\n",
    "print (a)\n"
   ]
  },
  {
   "cell_type": "code",
   "execution_count": null,
   "id": "f75a1d16",
   "metadata": {},
   "outputs": [
    {
     "name": "stdout",
     "output_type": "stream",
     "text": [
      "[ 0  1  2  3  4  5  6  7  8  9 10 11 12 13 14 15 16 17 18 19 20 21 22 23]\n",
      "[[[ 0  1  2]\n",
      "  [ 3  4  5]\n",
      "  [ 6  7  8]\n",
      "  [ 9 10 11]]\n",
      "\n",
      " [[12 13 14]\n",
      "  [15 16 17]\n",
      "  [18 19 20]\n",
      "  [21 22 23]]]\n",
      "[[[ 0  1]\n",
      "  [ 2  3]]\n",
      "\n",
      " [[ 4  5]\n",
      "  [ 6  7]]\n",
      "\n",
      " [[ 8  9]\n",
      "  [10 11]]\n",
      "\n",
      " [[12 13]\n",
      "  [14 15]]\n",
      "\n",
      " [[16 17]\n",
      "  [18 19]]\n",
      "\n",
      " [[20 21]\n",
      "  [22 23]]]\n"
     ]
    }
   ],
   "source": [
    "# this is one dimensional array\n",
    "import numpy as np\n",
    "a = np.arange(24)\n",
    "print (a)\n",
    "a.ndim\n",
    "# now reshape it\n",
    "b = a.reshape(2,4,3)\n",
    "c = a.reshape(6,2,2)\n",
    "print (b)\n",
    "print (c)\n",
    "# b is having three dimensions"
   ]
  },
  {
   "cell_type": "code",
   "execution_count": null,
   "id": "c0c847cb",
   "metadata": {},
   "outputs": [
    {
     "name": "stdout",
     "output_type": "stream",
     "text": [
      "[0 1 2 3 4 5 6 7 8 9]\n",
      "[2 4 6]\n"
     ]
    }
   ],
   "source": [
    "import numpy as np\n",
    "a = np.arange(10)\n",
    "s = slice(2,7,2) #start, stop, step\n",
    "print(a)\n",
    "print (a[s])"
   ]
  },
  {
   "cell_type": "code",
   "execution_count": null,
   "id": "aea9a5e0",
   "metadata": {},
   "outputs": [
    {
     "name": "stdout",
     "output_type": "stream",
     "text": [
      "[[1 2 3]\n",
      " [3 4 5]\n",
      " [4 5 6]]\n",
      "Now we will slice the array from the index a[1:]\n",
      "[[1 2 3]\n",
      " [3 4 5]]\n",
      "[[3 4 5]\n",
      " [4 5 6]]\n",
      "Test slicing baris dan kolom\n",
      "[3 4]\n"
     ]
    }
   ],
   "source": [
    "#SLICING ARRAY RUMUSNYA:\n",
    "# [baris:kolom]\n",
    "\n",
    "import numpy as np\n",
    "a = np.array([[1,2,3],\n",
    "              [3,4,5],\n",
    "              [4,5,6]])\n",
    "print (a)\n",
    "# slice items starting from index\n",
    "print ('Now we will slice the array from the index a[1:]')\n",
    "print (a[0:2])\n",
    "print (a[1:])\n",
    "print ('Test slicing baris dan kolom')\n",
    "#ini tetap jadi 1 dimensi\n",
    "print (a[1:,0]) #x[baris[start:stop], kolom[start:stop]]\n"
   ]
  },
  {
   "cell_type": "code",
   "execution_count": 233,
   "id": "19a10213",
   "metadata": {},
   "outputs": [
    {
     "name": "stdout",
     "output_type": "stream",
     "text": [
      "[[3]\n",
      " [4]]\n"
     ]
    }
   ],
   "source": [
    "#kalau mau jadi 2 dimensi (matriks)\n",
    "print (a[1:,:1])"
   ]
  },
  {
   "cell_type": "code",
   "execution_count": null,
   "id": "9fd92325",
   "metadata": {},
   "outputs": [
    {
     "name": "stdout",
     "output_type": "stream",
     "text": [
      "X: [[1 2]\n",
      " [3 4]\n",
      " [4 5]]\n",
      "y: [[3]\n",
      " [5]\n",
      " [6]]\n"
     ]
    }
   ],
   "source": [
    "#Slicing array\n",
    "\n",
    "a = np.array([[1,2,3],\n",
    "              [3,4,5],\n",
    "              [4,5,6]])\n",
    "X = (a[:, :2])\n",
    "y = (a[:, 2:])\n",
    "print(\"X:\", X)\n",
    "print(\"y:\", y)"
   ]
  },
  {
   "cell_type": "code",
   "execution_count": 253,
   "id": "605cd7fe",
   "metadata": {},
   "outputs": [
    {
     "name": "stdout",
     "output_type": "stream",
     "text": [
      "X: [[1 2]\n",
      " [3 4]\n",
      " [4 5]]\n",
      "y: [[3]\n",
      " [5]\n",
      " [6]]\n"
     ]
    }
   ],
   "source": [
    "#Slicing array\n",
    "\n",
    "a = np.array([[1,2,3],\n",
    "              [3,4,5],\n",
    "              [4,5,6]])\n",
    "X = (a[:, :-1]) #Mengambil semua baris, kecuali kolom terakhir\n",
    "y = (a[:, -1:]) #Mengambil semua baris, hanya kolom terakhir\n",
    "print(\"X:\", X)\n",
    "print(\"y:\", y)"
   ]
  },
  {
   "cell_type": "code",
   "execution_count": null,
   "id": "c0c4dd36",
   "metadata": {},
   "outputs": [
    {
     "name": "stdout",
     "output_type": "stream",
     "text": [
      "Original array is:\n",
      "[[ 0  5 10 15]\n",
      " [20 25 30 35]\n",
      " [40 45 50 55]]\n",
      "\n",
      "\n",
      "Modified array is:\n",
      "0\n",
      "5\n",
      "10\n",
      "15\n",
      "20\n",
      "25\n",
      "30\n",
      "35\n",
      "40\n",
      "45\n",
      "50\n",
      "55\n"
     ]
    }
   ],
   "source": [
    "import numpy as np\n",
    "a = np.arange(0,60,5)\n",
    "a = a.reshape(3,4)\n",
    "print ('Original array is:')\n",
    "print (a)\n",
    "print (\"\\n\")\n",
    "print ('Modified array is:')\n",
    "for x in np.nditer(a): #untuk membaca semua array\n",
    "    print (x)"
   ]
  },
  {
   "cell_type": "markdown",
   "id": "849f03a8",
   "metadata": {},
   "source": [
    "#### Trigonometri Function"
   ]
  },
  {
   "cell_type": "code",
   "execution_count": 252,
   "id": "67aaa8d6",
   "metadata": {},
   "outputs": [
    {
     "name": "stdout",
     "output_type": "stream",
     "text": [
      "Sine of different angles:\n",
      "[0.         0.5        0.70710678 0.8660254  1.        ]\n",
      "\n",
      "\n",
      "Cosine values for angles in array:\n",
      "[1.00000000e+00 8.66025404e-01 7.07106781e-01 5.00000000e-01\n",
      " 6.12323400e-17]\n",
      "\n",
      "\n",
      "Tangent values for given angles:\n",
      "[0.00000000e+00 5.77350269e-01 1.00000000e+00 1.73205081e+00\n",
      " 1.63312394e+16]\n"
     ]
    }
   ],
   "source": [
    "import numpy as np\n",
    "a = np.array([0,30,45,60,90])\n",
    "print ('Sine of different angles:')\n",
    "# Convert to radians by multiplying with pi/180\n",
    "print (np.sin(a*np.pi/180))\n",
    "print ('\\n')\n",
    "print ('Cosine values for angles in array:')\n",
    "print (np.cos(a*np.pi/180))\n",
    "print ('\\n')\n",
    "print ('Tangent values for given angles:')\n",
    "print (np.tan(a*np.pi/180))"
   ]
  },
  {
   "cell_type": "markdown",
   "id": "7bc6f5e5",
   "metadata": {},
   "source": [
    "#### Rounding (Pembulatan)"
   ]
  },
  {
   "cell_type": "code",
   "execution_count": 255,
   "id": "acecbf74",
   "metadata": {},
   "outputs": [
    {
     "name": "stdout",
     "output_type": "stream",
     "text": [
      "Original array:\n",
      "[  1.      5.55  123.      0.567  25.532]\n",
      "\n",
      "\n",
      "After rounding:\n",
      "[  1.   6. 123.   1.  26.]\n",
      "[  1.    5.6 123.    0.6  25.5]\n",
      "[  0.  10. 120.   0.  30.]\n"
     ]
    }
   ],
   "source": [
    "import numpy as np\n",
    "a = np.array([1.0,5.55, 123, 0.567, 25.532])\n",
    "print ('Original array:')\n",
    "print (a)\n",
    "print ('\\n')\n",
    "print ('After rounding:')\n",
    "print (np.around(a))\n",
    "print (np.around(a, decimals = 1))\n",
    "print (np.around(a, decimals = -1))"
   ]
  },
  {
   "cell_type": "code",
   "execution_count": null,
   "id": "7c5ef315",
   "metadata": {},
   "outputs": [],
   "source": [
    "# argmax() untuk mencari index yang nilainya paling besar"
   ]
  },
  {
   "cell_type": "markdown",
   "id": "becaf0c8",
   "metadata": {},
   "source": [
    "#### Matplotlib"
   ]
  },
  {
   "cell_type": "code",
   "execution_count": 260,
   "id": "64528d76",
   "metadata": {},
   "outputs": [
    {
     "name": "stdout",
     "output_type": "stream",
     "text": [
      "Requirement already satisfied: matplotlib in c:\\users\\71485\\documents\\introphyton\\myvenv\\lib\\site-packages (3.10.3)\n",
      "Requirement already satisfied: contourpy>=1.0.1 in c:\\users\\71485\\documents\\introphyton\\myvenv\\lib\\site-packages (from matplotlib) (1.3.2)\n",
      "Requirement already satisfied: cycler>=0.10 in c:\\users\\71485\\documents\\introphyton\\myvenv\\lib\\site-packages (from matplotlib) (0.12.1)\n",
      "Requirement already satisfied: fonttools>=4.22.0 in c:\\users\\71485\\documents\\introphyton\\myvenv\\lib\\site-packages (from matplotlib) (4.58.2)\n",
      "Requirement already satisfied: kiwisolver>=1.3.1 in c:\\users\\71485\\documents\\introphyton\\myvenv\\lib\\site-packages (from matplotlib) (1.4.8)\n",
      "Requirement already satisfied: numpy>=1.23 in c:\\users\\71485\\documents\\introphyton\\myvenv\\lib\\site-packages (from matplotlib) (2.3.0)\n",
      "Requirement already satisfied: packaging>=20.0 in c:\\users\\71485\\documents\\introphyton\\myvenv\\lib\\site-packages (from matplotlib) (25.0)\n",
      "Requirement already satisfied: pillow>=8 in c:\\users\\71485\\documents\\introphyton\\myvenv\\lib\\site-packages (from matplotlib) (11.2.1)\n",
      "Requirement already satisfied: pyparsing>=2.3.1 in c:\\users\\71485\\documents\\introphyton\\myvenv\\lib\\site-packages (from matplotlib) (3.2.3)\n",
      "Requirement already satisfied: python-dateutil>=2.7 in c:\\users\\71485\\documents\\introphyton\\myvenv\\lib\\site-packages (from matplotlib) (2.9.0.post0)\n",
      "Requirement already satisfied: six>=1.5 in c:\\users\\71485\\documents\\introphyton\\myvenv\\lib\\site-packages (from python-dateutil>=2.7->matplotlib) (1.17.0)\n",
      "Note: you may need to restart the kernel to use updated packages.\n"
     ]
    },
    {
     "name": "stderr",
     "output_type": "stream",
     "text": [
      "\n",
      "[notice] A new release of pip is available: 25.0.1 -> 25.1.1\n",
      "[notice] To update, run: python.exe -m pip install --upgrade pip\n"
     ]
    }
   ],
   "source": [
    "%pip install matplotlib\n",
    "import matplotlib.pyplot as plt"
   ]
  },
  {
   "cell_type": "code",
   "execution_count": 263,
   "id": "9c34b61e",
   "metadata": {},
   "outputs": [
    {
     "data": {
      "image/png": "[encoded data removed]",
      "text/plain": [
       "<Figure size 640x480 with 1 Axes>"
      ]
     },
     "metadata": {},
     "output_type": "display_data"
    }
   ],
   "source": [
    "import numpy as np\n",
    "from matplotlib import pyplot as plt\n",
    "\n",
    "x = np.arange(1,11)\n",
    "y = 2 * x + 5\n",
    "plt.title(\"Matplotlib demo\")\n",
    "plt.xlabel(\"x axis caption\")\n",
    "plt.ylabel(\"y axis caption\")\n",
    "plt.plot(x,y)\n",
    "plt.show()"
   ]
  },
  {
   "cell_type": "code",
   "execution_count": 264,
   "id": "6ac0334c",
   "metadata": {},
   "outputs": [
    {
     "data": {
      "image/png": "[encoded data removed]",
      "text/plain": [
       "<Figure size 640x480 with 1 Axes>"
      ]
     },
     "metadata": {},
     "output_type": "display_data"
    }
   ],
   "source": [
    "import numpy as np\n",
    "from matplotlib import pyplot as plt\n",
    "x = np.arange(1,11)\n",
    "y = 2 * x + 5\n",
    "plt.title(\"Matplotlib demo\")\n",
    "plt.xlabel(\"x axis caption\")\n",
    "plt.ylabel(\"y axis caption\")\n",
    "plt.plot(x,y,\"ob\")\n",
    "plt.show()\n"
   ]
  },
  {
   "cell_type": "code",
   "execution_count": 265,
   "id": "b95bc141",
   "metadata": {},
   "outputs": [
    {
     "data": {
      "image/png": "[encoded data removed]",
      "text/plain": [
       "<Figure size 640x480 with 1 Axes>"
      ]
     },
     "metadata": {},
     "output_type": "display_data"
    }
   ],
   "source": [
    "from matplotlib import pyplot as plt\n",
    "x = [5,8,10]\n",
    "y = [12,16,6]\n",
    "x2 = [6,9,11]\n",
    "y2 = [6,15,7]\n",
    "plt.bar(x, y, align = 'center')\n",
    "plt.bar(x2, y2, color = 'g', align = 'center')\n",
    "plt.title('Bar graph')\n",
    "plt.ylabel('Y axis')\n",
    "plt.xlabel('X axis')\n",
    "plt.show()"
   ]
  },
  {
   "cell_type": "code",
   "execution_count": null,
   "id": "6d6edf49",
   "metadata": {},
   "outputs": [
    {
     "name": "stdout",
     "output_type": "stream",
     "text": [
      "Rata-rata suhu harian untuk setiap kota: [30.57 22.86 20.43 26.71 29.14]\n",
      "Rata-rata suhu harian untuk semua kota: [25.  25.4 25.8 25.  26.8 27.4 26.2]\n"
     ]
    }
   ],
   "source": [
    "import numpy as np\n",
    "from matplotlib import pyplot as plt\n",
    "\n",
    "#data suhu harian dalam derajat celcius dari 5 kota selama 7 hari\n",
    "data_suhu = np.array([\n",
    "    [29, 31, 30, 28, 32, 33, 31], # Kota 1\n",
    "    [22, 21, 23, 22, 24, 25, 23], # Kota 2\n",
    "    [19, 20, 21, 20, 22, 21, 20], # Kota 3\n",
    "    [25, 26, 27, 28, 26, 27, 28], # Kota 4\n",
    "    [30, 29, 28, 27, 30, 31, 29] # Kota 5\n",
    "])\n",
    "#hitung rata-rata suhu selama 7 hari untuk setiap kota\n",
    "rata_rata_suhu = np.mean(data_suhu, axis=1) #untuk mangambil rata2 perbaris\n",
    "print(f'Rata-rata suhu harian untuk setiap kota: {np.round(rata_rata_suhu,2)}')\n",
    "      \n",
    "#hitung rata_rata suhu perhari untuk semua kota\n",
    "rata_rata_suhu_harian = np.mean(data_suhu, axis=0) #untuk mengambil rata2 perkolom\n",
    "print(f'Rata-rata suhu harian untuk semua kota: {np.round(rata_rata_suhu_harian,2)}')"
   ]
  },
  {
   "cell_type": "code",
   "execution_count": null,
   "id": "e5eac6d8",
   "metadata": {},
   "outputs": [
    {
     "name": "stdout",
     "output_type": "stream",
     "text": [
      "Indeks kolom dimana hari mencapai suhu tertinggi untuk masing2 kota: [5 5 4 3 5]\n",
      "Value kolom dimana hari mencapai suhu tertinggi untuk masing2 kota: [33 25 22 28 31]\n",
      "Hari mencapai suhu tertinggi untuk masing2 kota: [6 6 5 4 6]\n",
      "Kota dengan variasi suhu terkecil adalah kota  3\n",
      "Perubahan suhu harian antara hari berturut2 untuk setiap kota adalah  [[ 2 -1 -2  4  1 -2]\n",
      " [-1  2 -1  2  1 -2]\n",
      " [ 1  1 -1  2 -1 -1]\n",
      " [ 1  1  1 -2  1  1]\n",
      " [-1 -1 -1  3  1 -2]]\n",
      "Jumlah hari dengan suhu diatas 30 C untuk setiap kota: [4 0 0 0 1]\n",
      "Jumlah hari di setiap kota 1 untuk suhu diatas 30 C: 4\n",
      "Jumlah hari di setiap kota 2 untuk suhu diatas 30 C: 0\n",
      "Jumlah hari di setiap kota 3 untuk suhu diatas 30 C: 0\n",
      "Jumlah hari di setiap kota 4 untuk suhu diatas 30 C: 0\n",
      "Jumlah hari di setiap kota 5 untuk suhu diatas 30 C: 1\n"
     ]
    }
   ],
   "source": [
    "import numpy as np\n",
    "from matplotlib import pyplot as plt\n",
    "\n",
    "#data suhu harian dalam derajat celcius dari 5 kota selama 7 hari\n",
    "data_suhu = np.array([\n",
    "    [29, 31, 30, 28, 32, 33, 31], # Kota 1\n",
    "    [22, 21, 23, 22, 24, 25, 23], # Kota 2\n",
    "    [19, 20, 21, 20, 22, 21, 20], # Kota 3\n",
    "    [25, 26, 27, 28, 26, 27, 28], # Kota 4\n",
    "    [30, 29, 28, 27, 30, 31, 29] # Kota 5\n",
    "])\n",
    "\n",
    "#hitung hari terpanas untuk setiap kota\n",
    "#menemukan indeks kolom dimana hari mencapai suhu tertinggi untuk masing2 kota\n",
    "hottest_index = np.argmax(data_suhu, axis=1)\n",
    "hottest_value = np.max(data_suhu, axis=1)\n",
    "print('Indeks kolom dimana hari mencapai suhu tertinggi untuk masing2 kota:', hottest_index)\n",
    "print('Value kolom dimana hari mencapai suhu tertinggi untuk masing2 kota:', hottest_value)\n",
    "print('Hari mencapai suhu tertinggi untuk masing2 kota:', hottest_index+1)\n",
    "\n",
    "#kota dengan variasi suhu terkecil\n",
    "#hitung variasi suhu (range-max-min) untuk setiap kota dan temukan kota dengan variasi suhu terkecil\n",
    "#variasi = max - min\n",
    "#ptp = peak to peak (max-min)\n",
    "variasi_suhu = np.ptp(data_suhu, axis=1)\n",
    "print('Kota dengan variasi suhu terkecil adalah kota ', np.argmin(variasi_suhu)+1)\n",
    "\n",
    "#Buat array baru yang menunjukkan perubahan suhu harian antara hari berturut2 untuk setiap kota\n",
    "perubahan_suhu = np.diff(data_suhu, axis=1)\n",
    "print('Perubahan suhu harian antara hari berturut2 untuk setiap kota adalah ', perubahan_suhu)\n",
    "\n",
    "#analisis suhu dengan tresholder (ambang batas)\n",
    "thresholder = 30\n",
    "suhu_diatas_thresholder = np.sum(data_suhu > thresholder, axis=1)\n",
    "print('Jumlah hari dengan suhu diatas 30 C untuk setiap kota:', suhu_diatas_thresholder)\n",
    "\n",
    "\n",
    "for x in range(len(suhu_diatas_thresholder)):\n",
    "    print('Jumlah hari di setiap kota',x+1,'untuk suhu diatas 30 C:',suhu_diatas_thresholder[x])"
   ]
  },
  {
   "cell_type": "markdown",
   "id": "c0d7e0ca",
   "metadata": {},
   "source": [
    "#### Quiz Page 119"
   ]
  },
  {
   "cell_type": "code",
   "execution_count": 18,
   "id": "e2c4089a",
   "metadata": {},
   "outputs": [
    {
     "data": {
      "image/png": "[encoded data removed]",
      "text/plain": [
       "<Figure size 640x480 with 1 Axes>"
      ]
     },
     "metadata": {},
     "output_type": "display_data"
    }
   ],
   "source": [
    "import numpy as np\n",
    "from matplotlib import pyplot as plt\n",
    "\n",
    "data_penjualan = np.array([\n",
    " [50, 60, 55, 70], # Produk A\n",
    " [40, 45, 50, 55], # Produk B\n",
    " [30, 35, 30, 40] # Produk C \n",
    "])\n",
    "\n",
    "#visualisasi penjualan tiap produk dengan plot garis\n",
    "#yang menampilkan jumlah penjualan tiap produk selama 4 minggu\n",
    "#berikan label pada sumbu x dan y serta judul untuk grafik\n",
    "\n",
    "x = np.arange(1,5)\n",
    "y1 = data_penjualan[0]\n",
    "y2 = data_penjualan[1]\n",
    "y3 = data_penjualan[2]\n",
    "plt.title(\"Data Penjualan Setiap Produk Selama 4 Minggu\")\n",
    "plt.xlabel(\"Minggu ke-\")\n",
    "plt.ylabel(\"Jumlah Penjualan\")\n",
    "plt.plot(x, y1, label='Produk A',color = 'cyan') \n",
    "plt.plot(x, y2, label='Produk B',color = 'purple')\n",
    "plt.plot(x, y3, label='Produk C',color = 'pink')\n",
    "\n",
    "plt.legend()\n",
    "plt.show()"
   ]
  },
  {
   "cell_type": "code",
   "execution_count": 38,
   "id": "fa1c0db7",
   "metadata": {},
   "outputs": [
    {
     "data": {
      "image/png": "[encoded data removed]",
      "text/plain": [
       "<Figure size 1000x600 with 1 Axes>"
      ]
     },
     "metadata": {},
     "output_type": "display_data"
    }
   ],
   "source": [
    "import numpy as np\n",
    "from matplotlib import pyplot as plt\n",
    "\n",
    "data_penjualan = np.array([\n",
    " [50, 60, 55, 70], # Produk A\n",
    " [40, 45, 50, 55], # Produk B\n",
    " [30, 35, 30, 40] # Produk C \n",
    "])\n",
    "\n",
    "weeks = np.arange(1, 5)\n",
    "plt.figure(figsize = (10,6))\n",
    "for i, produk in enumerate(data_penjualan):\n",
    "    plt.plot(weeks, produk, marker='o', label=f'Produk {chr(65+i)}')\n",
    "plt.title(\"Tren Penjualan Produk\")\n",
    "plt.xlabel(\"Minggu\")\n",
    "plt.ylabel(\"Unit Terjual\")\n",
    "\n",
    "plt.legend()\n",
    "plt.grid()\n",
    "plt.show()"
   ]
  },
  {
   "cell_type": "code",
   "execution_count": 17,
   "id": "724b6624",
   "metadata": {},
   "outputs": [
    {
     "data": {
      "image/png": "[encoded data removed]",
      "text/plain": [
       "<Figure size 640x480 with 1 Axes>"
      ]
     },
     "metadata": {},
     "output_type": "display_data"
    }
   ],
   "source": [
    "import numpy as np\n",
    "from matplotlib import pyplot as plt\n",
    "\n",
    "data_penjualan = np.array([\n",
    " [50, 60, 55, 70], # Produk A\n",
    " [40, 45, 50, 55], # Produk B\n",
    " [30, 35, 30, 40] # Produk C \n",
    "])\n",
    "\n",
    "#visualisasi penjualan tiap produk dengan plot garis\n",
    "#yang menampilkan jumlah penjualan tiap produk selama 4 minggu\n",
    "#berikan label pada sumbu x dan y serta judul untuk grafik\n",
    "\n",
    "x = np.arange(1,5)\n",
    "# x = np.linspace(1,4,4) -> (start-include, stop-include, dibagi berapa)\n",
    "\n",
    "y1 = data_penjualan[0]\n",
    "y2 = data_penjualan[1]\n",
    "y3 = data_penjualan[2]\n",
    "plt.title(\"Data Penjualan Setiap Produk Selama 4 Minggu\")\n",
    "plt.xlabel(\"Minggu ke-\")\n",
    "plt.ylabel(\"Jumlah Penjualan\")\n",
    "plt.bar(x, y1, label='Produk A',color = 'cyan') \n",
    "plt.bar(x, y2, label='Produk B',color = 'purple')\n",
    "plt.bar(x, y3, label='Produk C',color = 'pink')\n",
    "\n",
    "plt.legend()\n",
    "plt.show()"
   ]
  },
  {
   "cell_type": "code",
   "execution_count": 19,
   "id": "8fcb44ba",
   "metadata": {},
   "outputs": [
    {
     "name": "stderr",
     "output_type": "stream",
     "text": [
      "C:\\Users\\71485\\AppData\\Local\\Temp\\ipykernel_8160\\2555470934.py:20: UserWarning: No artists with labels found to put in legend.  Note that artists whose label start with an underscore are ignored when legend() is called with no argument.\n",
      "  plt.legend()\n"
     ]
    },
    {
     "data": {
      "image/png": "[encoded data removed]",
      "text/plain": [
       "<Figure size 640x480 with 1 Axes>"
      ]
     },
     "metadata": {},
     "output_type": "display_data"
    }
   ],
   "source": [
    "#Menghitung total penjualan semua produk pada tiap minggu\n",
    "#Barchart untuk visualisasi\n",
    "\n",
    "import numpy as np\n",
    "from matplotlib import pyplot as plt\n",
    "\n",
    "data_penjualan = np.array([\n",
    " [50, 60, 55, 70], # Produk A\n",
    " [40, 45, 50, 55], # Produk B\n",
    " [30, 35, 30, 40] # Produk C \n",
    "])\n",
    "\n",
    "data_total_penjualan = np.sum(data_penjualan, axis=0)\n",
    "x = np.arange(1,5) #np.arange (start - termasuk, stop - ga termasuk, step)\n",
    "plt.bar(x, data_total_penjualan, color = 'pink', align = 'center')\n",
    "plt.title(\"Data Total Penjualan Semua Produk Selama 4 Minggu\")\n",
    "plt.xlabel(\"Minggu ke-\")\n",
    "plt.ylabel(\"Total Penjualan\")\n",
    "\n",
    "plt.legend()\n",
    "plt.show()"
   ]
  },
  {
   "cell_type": "code",
   "execution_count": 28,
   "id": "66ab1b80",
   "metadata": {},
   "outputs": [
    {
     "name": "stderr",
     "output_type": "stream",
     "text": [
      "C:\\Users\\71485\\AppData\\Local\\Temp\\ipykernel_8160\\1000162020.py:21: UserWarning: No artists with labels found to put in legend.  Note that artists whose label start with an underscore are ignored when legend() is called with no argument.\n",
      "  plt.legend()\n"
     ]
    },
    {
     "data": {
      "image/png": "[encoded data removed]",
      "text/plain": [
       "<Figure size 640x480 with 1 Axes>"
      ]
     },
     "metadata": {},
     "output_type": "display_data"
    }
   ],
   "source": [
    "#Menghitung total penjualan tiap produk per 4 minggu\n",
    "#Barchart untuk visualisasi\n",
    "\n",
    "import numpy as np\n",
    "from matplotlib import pyplot as plt\n",
    "\n",
    "data_penjualan = np.array([\n",
    " [50, 60, 55, 70], # Produk A\n",
    " [40, 45, 50, 55], # Produk B\n",
    " [30, 35, 30, 40] # Produk C \n",
    "])\n",
    "\n",
    "data_total_penjualan = np.sum(data_penjualan, axis=1)\n",
    "x = np.arange(1,4) #np.arange (start - termasuk, stop - ga termasuk, step)\n",
    "plt.bar(x, data_total_penjualan, color = 'pink', align = 'center')\n",
    "plt.title(\"Data Total Penjualan Tiap Produk Selama 4 Minggu\")\n",
    "plt.xlabel(\"Produk\")\n",
    "plt.xticks(x,['Produk A','Produk B','Produk C'])\n",
    "plt.ylabel(\"Total Penjualan\")\n",
    "\n",
    "plt.legend()\n",
    "plt.show()"
   ]
  },
  {
   "cell_type": "code",
   "execution_count": 32,
   "id": "c894a23f",
   "metadata": {},
   "outputs": [
    {
     "data": {
      "image/png": "[encoded data removed]",
      "text/plain": [
       "<Figure size 1000x600 with 1 Axes>"
      ]
     },
     "metadata": {},
     "output_type": "display_data"
    }
   ],
   "source": [
    "#Membuat plot garis untuk menunjukkan perubahan selisih penjualan dari minggu ke minggu untuk setiap produk\n",
    "\n",
    "import numpy as np\n",
    "from matplotlib import pyplot as plt\n",
    "\n",
    "data_penjualan = np.array([\n",
    " [50, 60, 55, 70], # Produk A\n",
    " [40, 45, 50, 55], # Produk B\n",
    " [30, 35, 30, 40] # Produk C \n",
    "])\n",
    "\n",
    "#Hitung selisih penjualan antar minggu\n",
    "#np.diff untuk menghitung selisih antar elemen\n",
    "\n",
    "selisih_y1 = np.diff(data_penjualan[0])\n",
    "selisih_y2 = np.diff(data_penjualan[1])\n",
    "selisih_y3 = np.diff(data_penjualan[2])\n",
    "\n",
    "x = np.arange(2,5)\n",
    "plt.figure(figsize=(10,6))\n",
    "\n",
    "plt.title(\"Data Selisih Penjualan Setiap Produk Selama 4 Minggu\")\n",
    "plt.xlabel(\"Minggu ke-\")\n",
    "plt.ylabel(\"Selisih Penjualan\")\n",
    "plt.plot(x, selisih_y1, label='Produk A',marker = 'o',color = 'cyan') \n",
    "plt.plot(x, selisih_y2, label='Produk B',marker = 'o',color = 'm')\n",
    "plt.plot(x, selisih_y3, label='Produk C',marker = 'o',color = 'pink')\n",
    "\n",
    "plt.grid()\n",
    "plt.legend()\n",
    "plt.show()"
   ]
  },
  {
   "cell_type": "code",
   "execution_count": null,
   "id": "35140a0f",
   "metadata": {},
   "outputs": [
    {
     "data": {
      "image/png": "[encoded data removed]",
      "text/plain": [
       "<Figure size 640x480 with 1 Axes>"
      ]
     },
     "metadata": {},
     "output_type": "display_data"
    }
   ],
   "source": [
    "# Kalau mau ada legend berupa angka\n",
    "\n",
    "import numpy as np\n",
    "from matplotlib import pyplot as plt\n",
    "\n",
    "data_penjualan = np.array([\n",
    " [50, 60, 55, 70], # Produk A\n",
    " [40, 45, 50, 55], # Produk B\n",
    " [30, 35, 30, 40] # Produk C \n",
    "])\n",
    "\n",
    "#Hitung selisih penjualan antar minggu\n",
    "#np.diff untuk menghitung selisih antar elemen\n",
    "\n",
    "selisih_y1 = np.diff(data_penjualan[0])\n",
    "selisih_y2 = np.diff(data_penjualan[1])\n",
    "selisih_y3 = np.diff(data_penjualan[2])\n",
    "\n",
    "x = np.arange(2,5)\n",
    "\n",
    "plt.title(\"Data Selisih Penjualan Setiap Produk Selama 4 Minggu\")\n",
    "plt.xlabel(\"Minggu ke-\")\n",
    "plt.ylabel(\"Selisih Penjualan\")\n",
    "plt.plot(x, selisih_y1, label='Produk A') \n",
    "plt.plot(x, selisih_y2, label='Produk B')\n",
    "plt.plot(x, selisih_y3, label='Produk C')\n",
    "\n",
    "# Tambahkan label di atas titik\n",
    "for i in range(len(x)):\n",
    "    plt.text(x[i], selisih_y1[i], f'{selisih_y1[i]}', ha='center', va='bottom', fontsize=9)\n",
    "    plt.text(x[i], selisih_y2[i], f'{selisih_y2[i]}', ha='center', va='bottom', fontsize=9)\n",
    "    plt.text(x[i], selisih_y3[i], f'{selisih_y3[i]}', ha='center', va='bottom', fontsize=9)\n",
    "\n",
    "plt.legend()\n",
    "plt.show()"
   ]
  },
  {
   "cell_type": "code",
   "execution_count": 326,
   "id": "2c3a1562",
   "metadata": {},
   "outputs": [
    {
     "data": {
      "image/png": "[encoded data removed]",
      "text/plain": [
       "<Figure size 640x480 with 1 Axes>"
      ]
     },
     "metadata": {},
     "output_type": "display_data"
    }
   ],
   "source": [
    "# Kalau mau ada legend berupa tulisan\n",
    "\n",
    "import numpy as np\n",
    "from matplotlib import pyplot as plt\n",
    "\n",
    "data_penjualan = np.array([\n",
    " [50, 60, 55, 70], # Produk A\n",
    " [40, 45, 50, 55], # Produk B\n",
    " [30, 35, 30, 40] # Produk C \n",
    "])\n",
    "\n",
    "#Hitung selisih penjualan antar minggu\n",
    "#np.diff untuk menghitung selisih antar elemen\n",
    "\n",
    "selisih_y1 = np.diff(data_penjualan[0])\n",
    "selisih_y2 = np.diff(data_penjualan[1])\n",
    "selisih_y3 = np.diff(data_penjualan[2])\n",
    "\n",
    "x = np.arange(2,5)\n",
    "\n",
    "plt.title(\"Data Selisih Penjualan Setiap Produk Selama 4 Minggu\")\n",
    "plt.xlabel(\"Minggu ke-\")\n",
    "plt.ylabel(\"Selisih Penjualan\")\n",
    "plt.plot(x, selisih_y1, label='Produk A') \n",
    "plt.plot(x, selisih_y2, label='Produk B')\n",
    "plt.plot(x, selisih_y3, label='Produk C')\n",
    "\n",
    "# Tambahkan label di atas titik\n",
    "for i in range(len(x)):\n",
    "    plt.text(x[i], selisih_y1[i], 'Produk A', ha='center', va='bottom', fontsize=9)\n",
    "    plt.text(x[i], selisih_y2[i], 'Produk B', ha='center', va='bottom', fontsize=9)\n",
    "    plt.text(x[i], selisih_y3[i], 'Produk C', ha='center', va='bottom', fontsize=9)\n",
    "\n",
    "plt.legend()\n",
    "plt.show()"
   ]
  },
  {
   "cell_type": "code",
   "execution_count": 327,
   "id": "6712fbb3",
   "metadata": {},
   "outputs": [
    {
     "name": "stdout",
     "output_type": "stream",
     "text": [
      "Produk A tidak punya tren positif.\n",
      "Produk B punya tren positif (naik terus).\n",
      "Produk C tidak punya tren positif.\n"
     ]
    }
   ],
   "source": [
    "#Identifikasi produk dengan tren positif (Cari Produk yang penjualannya selalu naik)\n",
    "#Visualisasi data untuk menemukan produk mana yang menunjukkan peningkatan konsistem selama 4 minggu\n",
    "\n",
    "import numpy as np\n",
    "from matplotlib import pyplot as plt\n",
    "\n",
    "data_penjualan = np.array([\n",
    " [50, 60, 55, 70], # Produk A\n",
    " [40, 45, 50, 55], # Produk B\n",
    " [30, 35, 30, 40] # Produk C \n",
    "])\n",
    "\n",
    "produk_labels = ['Produk A', 'Produk B', 'Produk C']\n",
    "\n",
    "for i in range(len(data_penjualan)):\n",
    "    produk = data_penjualan[i]\n",
    "    konsisten_naik = True  # Asumsikan dia naik dulu\n",
    "\n",
    "    for j in range(1, len(produk)):\n",
    "        if produk[j] <= produk[j - 1]:  # Kalau ada yang turun atau sama, berarti nggak konsisten\n",
    "            konsisten_naik = False\n",
    "            break  # Keluar dari loop karena ketemu yang turun\n",
    "\n",
    "    if konsisten_naik:\n",
    "        print(f'{produk_labels[i]} punya tren positif (naik terus).')\n",
    "    else:\n",
    "        print(f'{produk_labels[i]} tidak punya tren positif.')"
   ]
  },
  {
   "cell_type": "markdown",
   "id": "77ef3c6d",
   "metadata": {},
   "source": [
    "#### 🐼 Pandas"
   ]
  },
  {
   "cell_type": "code",
   "execution_count": 328,
   "id": "57f24f9d",
   "metadata": {},
   "outputs": [
    {
     "name": "stdout",
     "output_type": "stream",
     "text": [
      "Collecting pandas\n",
      "  Downloading pandas-2.3.0-cp313-cp313-win_amd64.whl.metadata (19 kB)\n",
      "Requirement already satisfied: numpy>=1.26.0 in c:\\users\\71485\\documents\\introphyton\\myvenv\\lib\\site-packages (from pandas) (2.3.0)\n",
      "Requirement already satisfied: python-dateutil>=2.8.2 in c:\\users\\71485\\documents\\introphyton\\myvenv\\lib\\site-packages (from pandas) (2.9.0.post0)\n",
      "Collecting pytz>=2020.1 (from pandas)\n",
      "  Downloading pytz-2025.2-py2.py3-none-any.whl.metadata (22 kB)\n",
      "Collecting tzdata>=2022.7 (from pandas)\n",
      "  Downloading tzdata-2025.2-py2.py3-none-any.whl.metadata (1.4 kB)\n",
      "Requirement already satisfied: six>=1.5 in c:\\users\\71485\\documents\\introphyton\\myvenv\\lib\\site-packages (from python-dateutil>=2.8.2->pandas) (1.17.0)\n",
      "Downloading pandas-2.3.0-cp313-cp313-win_amd64.whl (11.0 MB)\n",
      "   ---------------------------------------- 0.0/11.0 MB ? eta -:--:--\n",
      "   ---------------------------------------- 0.0/11.0 MB ? eta -:--:--\n",
      "   ---------------------------------------- 0.0/11.0 MB ? eta -:--:--\n",
      "   ---------------------------------------- 0.0/11.0 MB ? eta -:--:--\n",
      "   ---------------------------------------- 0.0/11.0 MB ? eta -:--:--\n",
      "   ---------------------------------------- 0.0/11.0 MB ? eta -:--:--\n",
      "   ---------------------------------------- 0.0/11.0 MB ? eta -:--:--\n",
      "   ---------------------------------------- 0.0/11.0 MB ? eta -:--:--\n",
      "   ---------------------------------------- 0.0/11.0 MB ? eta -:--:--\n",
      "   ---------------------------------------- 0.0/11.0 MB ? eta -:--:--\n",
      "   ---------------------------------------- 0.0/11.0 MB ? eta -:--:--\n",
      "    --------------------------------------- 0.3/11.0 MB ? eta -:--:--\n",
      "    --------------------------------------- 0.3/11.0 MB ? eta -:--:--\n",
      "    --------------------------------------- 0.3/11.0 MB ? eta -:--:--\n",
      "    --------------------------------------- 0.3/11.0 MB ? eta -:--:--\n",
      "    --------------------------------------- 0.3/11.0 MB ? eta -:--:--\n",
      "    --------------------------------------- 0.3/11.0 MB ? eta -:--:--\n",
      "    --------------------------------------- 0.3/11.0 MB ? eta -:--:--\n",
      "    --------------------------------------- 0.3/11.0 MB ? eta -:--:--\n",
      "    --------------------------------------- 0.3/11.0 MB ? eta -:--:--\n",
      "    --------------------------------------- 0.3/11.0 MB ? eta -:--:--\n",
      "    --------------------------------------- 0.3/11.0 MB ? eta -:--:--\n",
      "    --------------------------------------- 0.3/11.0 MB ? eta -:--:--\n",
      "    --------------------------------------- 0.3/11.0 MB ? eta -:--:--\n",
      "   - -------------------------------------- 0.5/11.0 MB 103.7 kB/s eta 0:01:41\n",
      "   - -------------------------------------- 0.5/11.0 MB 103.7 kB/s eta 0:01:41\n",
      "   - -------------------------------------- 0.5/11.0 MB 103.7 kB/s eta 0:01:41\n",
      "   - -------------------------------------- 0.5/11.0 MB 103.7 kB/s eta 0:01:41\n",
      "   - -------------------------------------- 0.5/11.0 MB 103.7 kB/s eta 0:01:41\n",
      "   - -------------------------------------- 0.5/11.0 MB 103.7 kB/s eta 0:01:41\n",
      "   - -------------------------------------- 0.5/11.0 MB 103.7 kB/s eta 0:01:41\n",
      "   - -------------------------------------- 0.5/11.0 MB 103.7 kB/s eta 0:01:41\n",
      "   -- ------------------------------------- 0.8/11.0 MB 120.9 kB/s eta 0:01:25\n",
      "   -- ------------------------------------- 0.8/11.0 MB 120.9 kB/s eta 0:01:25\n",
      "   -- ------------------------------------- 0.8/11.0 MB 120.9 kB/s eta 0:01:25\n",
      "   -- ------------------------------------- 0.8/11.0 MB 120.9 kB/s eta 0:01:25\n",
      "   -- ------------------------------------- 0.8/11.0 MB 120.9 kB/s eta 0:01:25\n",
      "   -- ------------------------------------- 0.8/11.0 MB 120.9 kB/s eta 0:01:25\n",
      "   -- ------------------------------------- 0.8/11.0 MB 120.9 kB/s eta 0:01:25\n",
      "   -- ------------------------------------- 0.8/11.0 MB 120.9 kB/s eta 0:01:25\n",
      "   -- ------------------------------------- 0.8/11.0 MB 120.9 kB/s eta 0:01:25\n",
      "   -- ------------------------------------- 0.8/11.0 MB 120.9 kB/s eta 0:01:25\n",
      "   -- ------------------------------------- 0.8/11.0 MB 120.9 kB/s eta 0:01:25\n",
      "   -- ------------------------------------- 0.8/11.0 MB 120.9 kB/s eta 0:01:25\n",
      "   --- ------------------------------------ 1.0/11.0 MB 114.8 kB/s eta 0:01:27\n",
      "   --- ------------------------------------ 1.0/11.0 MB 114.8 kB/s eta 0:01:27\n",
      "   --- ------------------------------------ 1.0/11.0 MB 114.8 kB/s eta 0:01:27\n",
      "   --- ------------------------------------ 1.0/11.0 MB 114.8 kB/s eta 0:01:27\n",
      "   --- ------------------------------------ 1.0/11.0 MB 114.8 kB/s eta 0:01:27\n",
      "   --- ------------------------------------ 1.0/11.0 MB 114.8 kB/s eta 0:01:27\n",
      "   --- ------------------------------------ 1.0/11.0 MB 114.8 kB/s eta 0:01:27\n",
      "   --- ------------------------------------ 1.0/11.0 MB 114.8 kB/s eta 0:01:27\n",
      "   --- ------------------------------------ 1.0/11.0 MB 114.8 kB/s eta 0:01:27\n",
      "   --- ------------------------------------ 1.0/11.0 MB 114.8 kB/s eta 0:01:27\n",
      "   --- ------------------------------------ 1.0/11.0 MB 114.8 kB/s eta 0:01:27\n",
      "   --- ------------------------------------ 1.0/11.0 MB 114.8 kB/s eta 0:01:27\n",
      "   --- ------------------------------------ 1.0/11.0 MB 114.8 kB/s eta 0:01:27\n",
      "   --- ------------------------------------ 1.0/11.0 MB 114.8 kB/s eta 0:01:27\n",
      "   --- ------------------------------------ 1.0/11.0 MB 114.8 kB/s eta 0:01:27\n",
      "   --- ------------------------------------ 1.0/11.0 MB 114.8 kB/s eta 0:01:27\n",
      "   --- ------------------------------------ 1.0/11.0 MB 114.8 kB/s eta 0:01:27\n",
      "   --- ------------------------------------ 1.0/11.0 MB 114.8 kB/s eta 0:01:27\n",
      "   --- ------------------------------------ 1.0/11.0 MB 114.8 kB/s eta 0:01:27\n",
      "   --- ------------------------------------ 1.0/11.0 MB 114.8 kB/s eta 0:01:27\n",
      "   --- ------------------------------------ 1.0/11.0 MB 114.8 kB/s eta 0:01:27\n",
      "   --- ------------------------------------ 1.0/11.0 MB 114.8 kB/s eta 0:01:27\n",
      "   --- ------------------------------------ 1.0/11.0 MB 114.8 kB/s eta 0:01:27\n",
      "   --- ------------------------------------ 1.0/11.0 MB 114.8 kB/s eta 0:01:27\n",
      "   --- ------------------------------------ 1.0/11.0 MB 114.8 kB/s eta 0:01:27\n",
      "   --- ------------------------------------ 1.0/11.0 MB 114.8 kB/s eta 0:01:27\n",
      "   --- ------------------------------------ 1.0/11.0 MB 114.8 kB/s eta 0:01:27\n",
      "   --- ------------------------------------ 1.0/11.0 MB 114.8 kB/s eta 0:01:27\n",
      "   --- ------------------------------------ 1.0/11.0 MB 114.8 kB/s eta 0:01:27\n",
      "   --- ------------------------------------ 1.0/11.0 MB 114.8 kB/s eta 0:01:27\n",
      "   --- ------------------------------------ 1.0/11.0 MB 114.8 kB/s eta 0:01:27\n",
      "   ---- ----------------------------------- 1.3/11.0 MB 79.3 kB/s eta 0:02:02\n",
      "   ---- ----------------------------------- 1.3/11.0 MB 79.3 kB/s eta 0:02:02\n",
      "   ---- ----------------------------------- 1.3/11.0 MB 79.3 kB/s eta 0:02:02\n",
      "   ---- ----------------------------------- 1.3/11.0 MB 79.3 kB/s eta 0:02:02\n",
      "   ---- ----------------------------------- 1.3/11.0 MB 79.3 kB/s eta 0:02:02\n",
      "   ---- ----------------------------------- 1.3/11.0 MB 79.3 kB/s eta 0:02:02\n",
      "   ---- ----------------------------------- 1.3/11.0 MB 79.3 kB/s eta 0:02:02\n",
      "   ---- ----------------------------------- 1.3/11.0 MB 79.3 kB/s eta 0:02:02\n",
      "   ---- ----------------------------------- 1.3/11.0 MB 79.3 kB/s eta 0:02:02\n",
      "   ---- ----------------------------------- 1.3/11.0 MB 79.3 kB/s eta 0:02:02\n",
      "   ---- ----------------------------------- 1.3/11.0 MB 79.3 kB/s eta 0:02:02\n",
      "   ---- ----------------------------------- 1.3/11.0 MB 79.3 kB/s eta 0:02:02\n",
      "   ----- ---------------------------------- 1.6/11.0 MB 83.2 kB/s eta 0:01:53\n",
      "   ----- ---------------------------------- 1.6/11.0 MB 83.2 kB/s eta 0:01:53\n",
      "   ----- ---------------------------------- 1.6/11.0 MB 83.2 kB/s eta 0:01:53\n",
      "   ----- ---------------------------------- 1.6/11.0 MB 83.2 kB/s eta 0:01:53\n",
      "   ----- ---------------------------------- 1.6/11.0 MB 83.2 kB/s eta 0:01:53\n",
      "   ----- ---------------------------------- 1.6/11.0 MB 83.2 kB/s eta 0:01:53\n",
      "   ----- ---------------------------------- 1.6/11.0 MB 83.2 kB/s eta 0:01:53\n",
      "   ----- ---------------------------------- 1.6/11.0 MB 83.2 kB/s eta 0:01:53\n",
      "   ----- ---------------------------------- 1.6/11.0 MB 83.2 kB/s eta 0:01:53\n",
      "   ------ --------------------------------- 1.8/11.0 MB 89.1 kB/s eta 0:01:43\n",
      "   ------ --------------------------------- 1.8/11.0 MB 89.1 kB/s eta 0:01:43\n",
      "   ------ --------------------------------- 1.8/11.0 MB 89.1 kB/s eta 0:01:43\n",
      "   ------ --------------------------------- 1.8/11.0 MB 89.1 kB/s eta 0:01:43\n",
      "   ------ --------------------------------- 1.8/11.0 MB 89.1 kB/s eta 0:01:43\n",
      "   ------ --------------------------------- 1.8/11.0 MB 89.1 kB/s eta 0:01:43\n",
      "   ------ --------------------------------- 1.8/11.0 MB 89.1 kB/s eta 0:01:43\n",
      "   ------ --------------------------------- 1.8/11.0 MB 89.1 kB/s eta 0:01:43\n",
      "   ------ --------------------------------- 1.8/11.0 MB 89.1 kB/s eta 0:01:43\n",
      "   ------ --------------------------------- 1.8/11.0 MB 89.1 kB/s eta 0:01:43\n",
      "   ------ --------------------------------- 1.8/11.0 MB 89.1 kB/s eta 0:01:43\n",
      "   ------ --------------------------------- 1.8/11.0 MB 89.1 kB/s eta 0:01:43\n",
      "   ------ --------------------------------- 1.8/11.0 MB 89.1 kB/s eta 0:01:43\n",
      "   ------ --------------------------------- 1.8/11.0 MB 89.1 kB/s eta 0:01:43\n",
      "   ------ --------------------------------- 1.8/11.0 MB 89.1 kB/s eta 0:01:43\n",
      "   ------ --------------------------------- 1.8/11.0 MB 89.1 kB/s eta 0:01:43\n",
      "   ------ --------------------------------- 1.8/11.0 MB 89.1 kB/s eta 0:01:43\n",
      "   ------ --------------------------------- 1.8/11.0 MB 89.1 kB/s eta 0:01:43\n",
      "   ------- -------------------------------- 2.1/11.0 MB 86.0 kB/s eta 0:01:44\n",
      "   ------- -------------------------------- 2.1/11.0 MB 86.0 kB/s eta 0:01:44\n",
      "   ------- -------------------------------- 2.1/11.0 MB 86.0 kB/s eta 0:01:44\n",
      "   ------- -------------------------------- 2.1/11.0 MB 86.0 kB/s eta 0:01:44\n",
      "   ------- -------------------------------- 2.1/11.0 MB 86.0 kB/s eta 0:01:44\n",
      "   ------- -------------------------------- 2.1/11.0 MB 86.0 kB/s eta 0:01:44\n",
      "   ------- -------------------------------- 2.1/11.0 MB 86.0 kB/s eta 0:01:44\n",
      "   ------- -------------------------------- 2.1/11.0 MB 86.0 kB/s eta 0:01:44\n",
      "   ------- -------------------------------- 2.1/11.0 MB 86.0 kB/s eta 0:01:44\n",
      "   ------- -------------------------------- 2.1/11.0 MB 86.0 kB/s eta 0:01:44\n",
      "   ------- -------------------------------- 2.1/11.0 MB 86.0 kB/s eta 0:01:44\n",
      "   ------- -------------------------------- 2.1/11.0 MB 86.0 kB/s eta 0:01:44\n",
      "   ------- -------------------------------- 2.1/11.0 MB 86.0 kB/s eta 0:01:44\n",
      "   ------- -------------------------------- 2.1/11.0 MB 86.0 kB/s eta 0:01:44\n",
      "   ------- -------------------------------- 2.1/11.0 MB 86.0 kB/s eta 0:01:44\n",
      "   -------- ------------------------------- 2.4/11.0 MB 85.7 kB/s eta 0:01:41\n",
      "   -------- ------------------------------- 2.4/11.0 MB 85.7 kB/s eta 0:01:41\n",
      "   -------- ------------------------------- 2.4/11.0 MB 85.7 kB/s eta 0:01:41\n",
      "   -------- ------------------------------- 2.4/11.0 MB 85.7 kB/s eta 0:01:41\n",
      "   -------- ------------------------------- 2.4/11.0 MB 85.7 kB/s eta 0:01:41\n",
      "   -------- ------------------------------- 2.4/11.0 MB 85.7 kB/s eta 0:01:41\n",
      "   -------- ------------------------------- 2.4/11.0 MB 85.7 kB/s eta 0:01:41\n",
      "   -------- ------------------------------- 2.4/11.0 MB 85.7 kB/s eta 0:01:41\n",
      "   -------- ------------------------------- 2.4/11.0 MB 85.7 kB/s eta 0:01:41\n",
      "   -------- ------------------------------- 2.4/11.0 MB 85.7 kB/s eta 0:01:41\n",
      "   -------- ------------------------------- 2.4/11.0 MB 85.7 kB/s eta 0:01:41\n",
      "   -------- ------------------------------- 2.4/11.0 MB 85.7 kB/s eta 0:01:41\n",
      "   -------- ------------------------------- 2.4/11.0 MB 85.7 kB/s eta 0:01:41\n",
      "   --------- ------------------------------ 2.6/11.0 MB 86.7 kB/s eta 0:01:37\n",
      "   --------- ------------------------------ 2.6/11.0 MB 86.7 kB/s eta 0:01:37\n",
      "   --------- ------------------------------ 2.6/11.0 MB 86.7 kB/s eta 0:01:37\n",
      "   --------- ------------------------------ 2.6/11.0 MB 86.7 kB/s eta 0:01:37\n",
      "   --------- ------------------------------ 2.6/11.0 MB 86.7 kB/s eta 0:01:37\n",
      "   --------- ------------------------------ 2.6/11.0 MB 86.7 kB/s eta 0:01:37\n",
      "   --------- ------------------------------ 2.6/11.0 MB 86.7 kB/s eta 0:01:37\n",
      "   --------- ------------------------------ 2.6/11.0 MB 86.7 kB/s eta 0:01:37\n",
      "   --------- ------------------------------ 2.6/11.0 MB 86.7 kB/s eta 0:01:37\n",
      "   --------- ------------------------------ 2.6/11.0 MB 86.7 kB/s eta 0:01:37\n",
      "   --------- ------------------------------ 2.6/11.0 MB 86.7 kB/s eta 0:01:37\n",
      "   --------- ------------------------------ 2.6/11.0 MB 86.7 kB/s eta 0:01:37\n",
      "   --------- ------------------------------ 2.6/11.0 MB 86.7 kB/s eta 0:01:37\n",
      "   --------- ------------------------------ 2.6/11.0 MB 86.7 kB/s eta 0:01:37\n",
      "   --------- ------------------------------ 2.6/11.0 MB 86.7 kB/s eta 0:01:37\n",
      "   --------- ------------------------------ 2.6/11.0 MB 86.7 kB/s eta 0:01:37\n",
      "   --------- ------------------------------ 2.6/11.0 MB 86.7 kB/s eta 0:01:37\n",
      "   --------- ------------------------------ 2.6/11.0 MB 86.7 kB/s eta 0:01:37\n",
      "   --------- ------------------------------ 2.6/11.0 MB 86.7 kB/s eta 0:01:37\n",
      "   --------- ------------------------------ 2.6/11.0 MB 86.7 kB/s eta 0:01:37\n",
      "   ---------- ----------------------------- 2.9/11.0 MB 81.4 kB/s eta 0:01:40\n",
      "   ---------- ----------------------------- 2.9/11.0 MB 81.4 kB/s eta 0:01:40\n",
      "   ---------- ----------------------------- 2.9/11.0 MB 81.4 kB/s eta 0:01:40\n",
      "   ---------- ----------------------------- 2.9/11.0 MB 81.4 kB/s eta 0:01:40\n",
      "   ---------- ----------------------------- 2.9/11.0 MB 81.4 kB/s eta 0:01:40\n",
      "   ---------- ----------------------------- 2.9/11.0 MB 81.4 kB/s eta 0:01:40\n",
      "   ---------- ----------------------------- 2.9/11.0 MB 81.4 kB/s eta 0:01:40\n",
      "   ---------- ----------------------------- 2.9/11.0 MB 81.4 kB/s eta 0:01:40\n",
      "   ---------- ----------------------------- 2.9/11.0 MB 81.4 kB/s eta 0:01:40\n",
      "   ---------- ----------------------------- 2.9/11.0 MB 81.4 kB/s eta 0:01:40\n",
      "   ----------- ---------------------------- 3.1/11.0 MB 81.1 kB/s eta 0:01:37\n",
      "   ----------- ---------------------------- 3.1/11.0 MB 81.1 kB/s eta 0:01:37\n",
      "   ----------- ---------------------------- 3.1/11.0 MB 81.1 kB/s eta 0:01:37\n",
      "   ----------- ---------------------------- 3.1/11.0 MB 81.1 kB/s eta 0:01:37\n",
      "   ----------- ---------------------------- 3.1/11.0 MB 81.1 kB/s eta 0:01:37\n",
      "   ----------- ---------------------------- 3.1/11.0 MB 81.1 kB/s eta 0:01:37\n",
      "   ----------- ---------------------------- 3.1/11.0 MB 81.1 kB/s eta 0:01:37\n",
      "   ----------- ---------------------------- 3.1/11.0 MB 81.1 kB/s eta 0:01:37\n",
      "   ----------- ---------------------------- 3.1/11.0 MB 81.1 kB/s eta 0:01:37\n",
      "   ----------- ---------------------------- 3.1/11.0 MB 81.1 kB/s eta 0:01:37\n",
      "   ----------- ---------------------------- 3.1/11.0 MB 81.1 kB/s eta 0:01:37\n",
      "   ----------- ---------------------------- 3.1/11.0 MB 81.1 kB/s eta 0:01:37\n",
      "   ----------- ---------------------------- 3.1/11.0 MB 81.1 kB/s eta 0:01:37\n",
      "   ----------- ---------------------------- 3.1/11.0 MB 81.1 kB/s eta 0:01:37\n",
      "   ----------- ---------------------------- 3.1/11.0 MB 81.1 kB/s eta 0:01:37\n",
      "   ----------- ---------------------------- 3.1/11.0 MB 81.1 kB/s eta 0:01:37\n",
      "   ------------ --------------------------- 3.4/11.0 MB 88.7 kB/s eta 0:01:26\n",
      "   ------------ --------------------------- 3.4/11.0 MB 88.7 kB/s eta 0:01:26\n",
      "   ------------ --------------------------- 3.4/11.0 MB 88.7 kB/s eta 0:01:26\n",
      "   ------------ --------------------------- 3.4/11.0 MB 88.7 kB/s eta 0:01:26\n",
      "   ------------ --------------------------- 3.4/11.0 MB 88.7 kB/s eta 0:01:26\n",
      "   ------------ --------------------------- 3.4/11.0 MB 88.7 kB/s eta 0:01:26\n",
      "   ------------ --------------------------- 3.4/11.0 MB 88.7 kB/s eta 0:01:26\n",
      "   ------------ --------------------------- 3.4/11.0 MB 88.7 kB/s eta 0:01:26\n",
      "   ------------- -------------------------- 3.7/11.0 MB 93.0 kB/s eta 0:01:19\n",
      "   ------------- -------------------------- 3.7/11.0 MB 93.0 kB/s eta 0:01:19\n",
      "   ------------- -------------------------- 3.7/11.0 MB 93.0 kB/s eta 0:01:19\n",
      "   ------------- -------------------------- 3.7/11.0 MB 93.0 kB/s eta 0:01:19\n",
      "   ------------- -------------------------- 3.7/11.0 MB 93.0 kB/s eta 0:01:19\n",
      "   ------------- -------------------------- 3.7/11.0 MB 93.0 kB/s eta 0:01:19\n",
      "   ------------- -------------------------- 3.7/11.0 MB 93.0 kB/s eta 0:01:19\n",
      "   ------------- -------------------------- 3.7/11.0 MB 93.0 kB/s eta 0:01:19\n",
      "   ------------- -------------------------- 3.7/11.0 MB 93.0 kB/s eta 0:01:19\n",
      "   ------------- -------------------------- 3.7/11.0 MB 93.0 kB/s eta 0:01:19\n",
      "   ------------- -------------------------- 3.7/11.0 MB 93.0 kB/s eta 0:01:19\n",
      "   ------------- -------------------------- 3.7/11.0 MB 93.0 kB/s eta 0:01:19\n",
      "   ------------- -------------------------- 3.7/11.0 MB 93.0 kB/s eta 0:01:19\n",
      "   -------------- ------------------------- 3.9/11.0 MB 93.9 kB/s eta 0:01:15\n",
      "   -------------- ------------------------- 3.9/11.0 MB 93.9 kB/s eta 0:01:15\n",
      "   -------------- ------------------------- 3.9/11.0 MB 93.9 kB/s eta 0:01:15\n",
      "   -------------- ------------------------- 3.9/11.0 MB 93.9 kB/s eta 0:01:15\n",
      "   -------------- ------------------------- 3.9/11.0 MB 93.9 kB/s eta 0:01:15\n",
      "   -------------- ------------------------- 3.9/11.0 MB 93.9 kB/s eta 0:01:15\n",
      "   -------------- ------------------------- 3.9/11.0 MB 93.9 kB/s eta 0:01:15\n",
      "   -------------- ------------------------- 3.9/11.0 MB 93.9 kB/s eta 0:01:15\n",
      "   -------------- ------------------------- 3.9/11.0 MB 93.9 kB/s eta 0:01:15\n",
      "   -------------- ------------------------- 3.9/11.0 MB 93.9 kB/s eta 0:01:15\n",
      "   -------------- ------------------------- 3.9/11.0 MB 93.9 kB/s eta 0:01:15\n",
      "   -------------- ------------------------- 3.9/11.0 MB 93.9 kB/s eta 0:01:15\n",
      "   -------------- ------------------------- 3.9/11.0 MB 93.9 kB/s eta 0:01:15\n",
      "   -------------- ------------------------- 3.9/11.0 MB 93.9 kB/s eta 0:01:15\n",
      "   -------------- ------------------------- 3.9/11.0 MB 93.9 kB/s eta 0:01:15\n",
      "   --------------- ------------------------ 4.2/11.0 MB 92.0 kB/s eta 0:01:14\n",
      "   --------------- ------------------------ 4.2/11.0 MB 92.0 kB/s eta 0:01:14\n",
      "   --------------- ------------------------ 4.2/11.0 MB 92.0 kB/s eta 0:01:14\n",
      "   --------------- ------------------------ 4.2/11.0 MB 92.0 kB/s eta 0:01:14\n",
      "   --------------- ------------------------ 4.2/11.0 MB 92.0 kB/s eta 0:01:14\n",
      "   --------------- ------------------------ 4.2/11.0 MB 92.0 kB/s eta 0:01:14\n",
      "   --------------- ------------------------ 4.2/11.0 MB 92.0 kB/s eta 0:01:14\n",
      "   --------------- ------------------------ 4.2/11.0 MB 92.0 kB/s eta 0:01:14\n",
      "   --------------- ------------------------ 4.2/11.0 MB 92.0 kB/s eta 0:01:14\n",
      "   --------------- ------------------------ 4.2/11.0 MB 92.0 kB/s eta 0:01:14\n",
      "   --------------- ------------------------ 4.2/11.0 MB 92.0 kB/s eta 0:01:14\n",
      "   --------------- ------------------------ 4.2/11.0 MB 92.0 kB/s eta 0:01:14\n",
      "   ---------------- ----------------------- 4.5/11.0 MB 90.3 kB/s eta 0:01:13\n",
      "   ---------------- ----------------------- 4.5/11.0 MB 90.3 kB/s eta 0:01:13\n",
      "   ---------------- ----------------------- 4.5/11.0 MB 90.3 kB/s eta 0:01:13\n",
      "   ---------------- ----------------------- 4.5/11.0 MB 90.3 kB/s eta 0:01:13\n",
      "   ---------------- ----------------------- 4.5/11.0 MB 90.3 kB/s eta 0:01:13\n",
      "   ---------------- ----------------------- 4.5/11.0 MB 90.3 kB/s eta 0:01:13\n",
      "   ---------------- ----------------------- 4.5/11.0 MB 90.3 kB/s eta 0:01:13\n",
      "   ---------------- ----------------------- 4.5/11.0 MB 90.3 kB/s eta 0:01:13\n",
      "   ---------------- ----------------------- 4.5/11.0 MB 90.3 kB/s eta 0:01:13\n",
      "   ---------------- ----------------------- 4.5/11.0 MB 90.3 kB/s eta 0:01:13\n",
      "   ---------------- ----------------------- 4.5/11.0 MB 90.3 kB/s eta 0:01:13\n",
      "   ---------------- ----------------------- 4.5/11.0 MB 90.3 kB/s eta 0:01:13\n",
      "   ---------------- ----------------------- 4.5/11.0 MB 90.3 kB/s eta 0:01:13\n",
      "   ---------------- ----------------------- 4.5/11.0 MB 90.3 kB/s eta 0:01:13\n",
      "   ---------------- ----------------------- 4.5/11.0 MB 90.3 kB/s eta 0:01:13\n",
      "   ----------------- ---------------------- 4.7/11.0 MB 91.9 kB/s eta 0:01:09\n",
      "   ----------------- ---------------------- 4.7/11.0 MB 91.9 kB/s eta 0:01:09\n",
      "   ----------------- ---------------------- 4.7/11.0 MB 91.9 kB/s eta 0:01:09\n",
      "   ----------------- ---------------------- 4.7/11.0 MB 91.9 kB/s eta 0:01:09\n",
      "   ----------------- ---------------------- 4.7/11.0 MB 91.9 kB/s eta 0:01:09\n",
      "   ----------------- ---------------------- 4.7/11.0 MB 91.9 kB/s eta 0:01:09\n",
      "   ----------------- ---------------------- 4.7/11.0 MB 91.9 kB/s eta 0:01:09\n",
      "   ----------------- ---------------------- 4.7/11.0 MB 91.9 kB/s eta 0:01:09\n",
      "   ----------------- ---------------------- 4.7/11.0 MB 91.9 kB/s eta 0:01:09\n",
      "   ----------------- ---------------------- 4.7/11.0 MB 91.9 kB/s eta 0:01:09\n",
      "   ----------------- ---------------------- 4.7/11.0 MB 91.9 kB/s eta 0:01:09\n",
      "   ----------------- ---------------------- 4.7/11.0 MB 91.9 kB/s eta 0:01:09\n",
      "   ----------------- ---------------------- 4.7/11.0 MB 91.9 kB/s eta 0:01:09\n",
      "   ----------------- ---------------------- 4.7/11.0 MB 91.9 kB/s eta 0:01:09\n",
      "   ------------------ --------------------- 5.0/11.0 MB 92.4 kB/s eta 0:01:05\n",
      "   ------------------ --------------------- 5.0/11.0 MB 92.4 kB/s eta 0:01:05\n",
      "   ------------------ --------------------- 5.0/11.0 MB 92.4 kB/s eta 0:01:05\n",
      "   ------------------ --------------------- 5.0/11.0 MB 92.4 kB/s eta 0:01:05\n",
      "   ------------------ --------------------- 5.0/11.0 MB 92.4 kB/s eta 0:01:05\n",
      "   ------------------ --------------------- 5.0/11.0 MB 92.4 kB/s eta 0:01:05\n",
      "   ------------------ --------------------- 5.0/11.0 MB 92.4 kB/s eta 0:01:05\n",
      "   ------------------ --------------------- 5.0/11.0 MB 92.4 kB/s eta 0:01:05\n",
      "   ------------------ --------------------- 5.0/11.0 MB 92.4 kB/s eta 0:01:05\n",
      "   ------------------ --------------------- 5.0/11.0 MB 92.4 kB/s eta 0:01:05\n",
      "   ------------------ --------------------- 5.0/11.0 MB 92.4 kB/s eta 0:01:05\n",
      "   ------------------ --------------------- 5.0/11.0 MB 92.4 kB/s eta 0:01:05\n",
      "   ------------------ --------------------- 5.0/11.0 MB 92.4 kB/s eta 0:01:05\n",
      "   ------------------ --------------------- 5.0/11.0 MB 92.4 kB/s eta 0:01:05\n",
      "   ------------------ --------------------- 5.0/11.0 MB 92.4 kB/s eta 0:01:05\n",
      "   ------------------ --------------------- 5.0/11.0 MB 92.4 kB/s eta 0:01:05\n",
      "   ------------------- -------------------- 5.2/11.0 MB 90.8 kB/s eta 0:01:04\n",
      "   ------------------- -------------------- 5.2/11.0 MB 90.8 kB/s eta 0:01:04\n",
      "   ------------------- -------------------- 5.2/11.0 MB 90.8 kB/s eta 0:01:04\n",
      "   ------------------- -------------------- 5.2/11.0 MB 90.8 kB/s eta 0:01:04\n",
      "   ------------------- -------------------- 5.2/11.0 MB 90.8 kB/s eta 0:01:04\n",
      "   ------------------- -------------------- 5.2/11.0 MB 90.8 kB/s eta 0:01:04\n",
      "   ------------------- -------------------- 5.2/11.0 MB 90.8 kB/s eta 0:01:04\n",
      "   ------------------- -------------------- 5.2/11.0 MB 90.8 kB/s eta 0:01:04\n",
      "   ------------------- -------------------- 5.2/11.0 MB 90.8 kB/s eta 0:01:04\n",
      "   ------------------- -------------------- 5.2/11.0 MB 90.8 kB/s eta 0:01:04\n",
      "   ------------------- -------------------- 5.2/11.0 MB 90.8 kB/s eta 0:01:04\n",
      "   ------------------- -------------------- 5.2/11.0 MB 90.8 kB/s eta 0:01:04\n",
      "   -------------------- ------------------- 5.5/11.0 MB 96.6 kB/s eta 0:00:57\n",
      "   -------------------- ------------------- 5.5/11.0 MB 96.6 kB/s eta 0:00:57\n",
      "   -------------------- ------------------- 5.5/11.0 MB 96.6 kB/s eta 0:00:57\n",
      "   -------------------- ------------------- 5.5/11.0 MB 96.6 kB/s eta 0:00:57\n",
      "   -------------------- ------------------- 5.5/11.0 MB 96.6 kB/s eta 0:00:57\n",
      "   -------------------- ------------------- 5.5/11.0 MB 96.6 kB/s eta 0:00:57\n",
      "   -------------------- ------------------- 5.5/11.0 MB 96.6 kB/s eta 0:00:57\n",
      "   -------------------- ------------------- 5.5/11.0 MB 96.6 kB/s eta 0:00:57\n",
      "   -------------------- ------------------- 5.5/11.0 MB 96.6 kB/s eta 0:00:57\n",
      "   -------------------- ------------------- 5.5/11.0 MB 96.6 kB/s eta 0:00:57\n",
      "   -------------------- ------------------- 5.5/11.0 MB 96.6 kB/s eta 0:00:57\n",
      "   --------------------- ------------------ 5.8/11.0 MB 98.0 kB/s eta 0:00:54\n",
      "   --------------------- ------------------ 5.8/11.0 MB 98.0 kB/s eta 0:00:54\n",
      "   --------------------- ------------------ 5.8/11.0 MB 98.0 kB/s eta 0:00:54\n",
      "   --------------------- ------------------ 5.8/11.0 MB 98.0 kB/s eta 0:00:54\n",
      "   --------------------- ------------------ 5.8/11.0 MB 98.0 kB/s eta 0:00:54\n",
      "   --------------------- ------------------ 5.8/11.0 MB 98.0 kB/s eta 0:00:54\n",
      "   --------------------- ------------------ 5.8/11.0 MB 98.0 kB/s eta 0:00:54\n",
      "   --------------------- ------------------ 5.8/11.0 MB 98.0 kB/s eta 0:00:54\n",
      "   --------------------- ------------------ 5.8/11.0 MB 98.0 kB/s eta 0:00:54\n",
      "   --------------------- ------------------ 5.8/11.0 MB 98.0 kB/s eta 0:00:54\n",
      "   --------------------- ------------------ 6.0/11.0 MB 97.3 kB/s eta 0:00:51\n",
      "   --------------------- ------------------ 6.0/11.0 MB 97.3 kB/s eta 0:00:51\n",
      "   --------------------- ------------------ 6.0/11.0 MB 97.3 kB/s eta 0:00:51\n",
      "   --------------------- ------------------ 6.0/11.0 MB 97.3 kB/s eta 0:00:51\n",
      "   --------------------- ------------------ 6.0/11.0 MB 97.3 kB/s eta 0:00:51\n",
      "   --------------------- ------------------ 6.0/11.0 MB 97.3 kB/s eta 0:00:51\n",
      "   --------------------- ------------------ 6.0/11.0 MB 97.3 kB/s eta 0:00:51\n",
      "   --------------------- ------------------ 6.0/11.0 MB 97.3 kB/s eta 0:00:51\n",
      "   --------------------- ------------------ 6.0/11.0 MB 97.3 kB/s eta 0:00:51\n",
      "   --------------------- ------------------ 6.0/11.0 MB 97.3 kB/s eta 0:00:51\n",
      "   --------------------- ------------------ 6.0/11.0 MB 97.3 kB/s eta 0:00:51\n",
      "   --------------------- ------------------ 6.0/11.0 MB 97.3 kB/s eta 0:00:51\n",
      "   --------------------- ------------------ 6.0/11.0 MB 97.3 kB/s eta 0:00:51\n",
      "   --------------------- ------------------ 6.0/11.0 MB 97.3 kB/s eta 0:00:51\n",
      "   --------------------- ------------------ 6.0/11.0 MB 97.3 kB/s eta 0:00:51\n",
      "   --------------------- ------------------ 6.0/11.0 MB 97.3 kB/s eta 0:00:51\n",
      "   ---------------------- ----------------- 6.3/11.0 MB 97.8 kB/s eta 0:00:48\n",
      "   ---------------------- ----------------- 6.3/11.0 MB 97.8 kB/s eta 0:00:48\n",
      "   ---------------------- ----------------- 6.3/11.0 MB 97.8 kB/s eta 0:00:48\n",
      "   ---------------------- ----------------- 6.3/11.0 MB 97.8 kB/s eta 0:00:48\n",
      "   ---------------------- ----------------- 6.3/11.0 MB 97.8 kB/s eta 0:00:48\n",
      "   ---------------------- ----------------- 6.3/11.0 MB 97.8 kB/s eta 0:00:48\n",
      "   ----------------------- ---------------- 6.6/11.0 MB 99.6 kB/s eta 0:00:45\n",
      "   ----------------------- ---------------- 6.6/11.0 MB 99.6 kB/s eta 0:00:45\n",
      "   ----------------------- ---------------- 6.6/11.0 MB 99.6 kB/s eta 0:00:45\n",
      "   ----------------------- ---------------- 6.6/11.0 MB 99.6 kB/s eta 0:00:45\n",
      "   ----------------------- ---------------- 6.6/11.0 MB 99.6 kB/s eta 0:00:45\n",
      "   ----------------------- ---------------- 6.6/11.0 MB 99.6 kB/s eta 0:00:45\n",
      "   ----------------------- ---------------- 6.6/11.0 MB 99.6 kB/s eta 0:00:45\n",
      "   ----------------------- ---------------- 6.6/11.0 MB 99.6 kB/s eta 0:00:45\n",
      "   ----------------------- ---------------- 6.6/11.0 MB 99.6 kB/s eta 0:00:45\n",
      "   ------------------------ --------------- 6.8/11.0 MB 101.8 kB/s eta 0:00:41\n",
      "   ------------------------ --------------- 6.8/11.0 MB 101.8 kB/s eta 0:00:41\n",
      "   ------------------------ --------------- 6.8/11.0 MB 101.8 kB/s eta 0:00:41\n",
      "   ------------------------ --------------- 6.8/11.0 MB 101.8 kB/s eta 0:00:41\n",
      "   ------------------------ --------------- 6.8/11.0 MB 101.8 kB/s eta 0:00:41\n",
      "   ------------------------ --------------- 6.8/11.0 MB 101.8 kB/s eta 0:00:41\n",
      "   ------------------------ --------------- 6.8/11.0 MB 101.8 kB/s eta 0:00:41\n",
      "   ------------------------ --------------- 6.8/11.0 MB 101.8 kB/s eta 0:00:41\n",
      "   ------------------------ --------------- 6.8/11.0 MB 101.8 kB/s eta 0:00:41\n",
      "   ------------------------ --------------- 6.8/11.0 MB 101.8 kB/s eta 0:00:41\n",
      "   ------------------------ --------------- 6.8/11.0 MB 101.8 kB/s eta 0:00:41\n",
      "   ------------------------ --------------- 6.8/11.0 MB 101.8 kB/s eta 0:00:41\n",
      "   ------------------------ --------------- 6.8/11.0 MB 101.8 kB/s eta 0:00:41\n",
      "   ------------------------- -------------- 7.1/11.0 MB 103.3 kB/s eta 0:00:38\n",
      "   ------------------------- -------------- 7.1/11.0 MB 103.3 kB/s eta 0:00:38\n",
      "   ------------------------- -------------- 7.1/11.0 MB 103.3 kB/s eta 0:00:38\n",
      "   ------------------------- -------------- 7.1/11.0 MB 103.3 kB/s eta 0:00:38\n",
      "   ------------------------- -------------- 7.1/11.0 MB 103.3 kB/s eta 0:00:38\n",
      "   ------------------------- -------------- 7.1/11.0 MB 103.3 kB/s eta 0:00:38\n",
      "   ------------------------- -------------- 7.1/11.0 MB 103.3 kB/s eta 0:00:38\n",
      "   ------------------------- -------------- 7.1/11.0 MB 103.3 kB/s eta 0:00:38\n",
      "   ------------------------- -------------- 7.1/11.0 MB 103.3 kB/s eta 0:00:38\n",
      "   ------------------------- -------------- 7.1/11.0 MB 103.3 kB/s eta 0:00:38\n",
      "   ------------------------- -------------- 7.1/11.0 MB 103.3 kB/s eta 0:00:38\n",
      "   ------------------------- -------------- 7.1/11.0 MB 103.3 kB/s eta 0:00:38\n",
      "   ------------------------- -------------- 7.1/11.0 MB 103.3 kB/s eta 0:00:38\n",
      "   ------------------------- -------------- 7.1/11.0 MB 103.3 kB/s eta 0:00:38\n",
      "   -------------------------- ------------- 7.3/11.0 MB 101.5 kB/s eta 0:00:36\n",
      "   -------------------------- ------------- 7.3/11.0 MB 101.5 kB/s eta 0:00:36\n",
      "   -------------------------- ------------- 7.3/11.0 MB 101.5 kB/s eta 0:00:36\n",
      "   -------------------------- ------------- 7.3/11.0 MB 101.5 kB/s eta 0:00:36\n",
      "   -------------------------- ------------- 7.3/11.0 MB 101.5 kB/s eta 0:00:36\n",
      "   -------------------------- ------------- 7.3/11.0 MB 101.5 kB/s eta 0:00:36\n",
      "   -------------------------- ------------- 7.3/11.0 MB 101.5 kB/s eta 0:00:36\n",
      "   -------------------------- ------------- 7.3/11.0 MB 101.5 kB/s eta 0:00:36\n",
      "   -------------------------- ------------- 7.3/11.0 MB 101.5 kB/s eta 0:00:36\n",
      "   -------------------------- ------------- 7.3/11.0 MB 101.5 kB/s eta 0:00:36\n",
      "   -------------------------- ------------- 7.3/11.0 MB 101.5 kB/s eta 0:00:36\n",
      "   -------------------------- ------------- 7.3/11.0 MB 101.5 kB/s eta 0:00:36\n",
      "   -------------------------- ------------- 7.3/11.0 MB 101.5 kB/s eta 0:00:36\n",
      "   -------------------------- ------------- 7.3/11.0 MB 101.5 kB/s eta 0:00:36\n",
      "   -------------------------- ------------- 7.3/11.0 MB 101.5 kB/s eta 0:00:36\n",
      "   --------------------------- ------------ 7.6/11.0 MB 101.6 kB/s eta 0:00:34\n",
      "   --------------------------- ------------ 7.6/11.0 MB 101.6 kB/s eta 0:00:34\n",
      "   --------------------------- ------------ 7.6/11.0 MB 101.6 kB/s eta 0:00:34\n",
      "   --------------------------- ------------ 7.6/11.0 MB 101.6 kB/s eta 0:00:34\n",
      "   --------------------------- ------------ 7.6/11.0 MB 101.6 kB/s eta 0:00:34\n",
      "   --------------------------- ------------ 7.6/11.0 MB 101.6 kB/s eta 0:00:34\n",
      "   --------------------------- ------------ 7.6/11.0 MB 101.6 kB/s eta 0:00:34\n",
      "   --------------------------- ------------ 7.6/11.0 MB 101.6 kB/s eta 0:00:34\n",
      "   --------------------------- ------------ 7.6/11.0 MB 101.6 kB/s eta 0:00:34\n",
      "   --------------------------- ------------ 7.6/11.0 MB 101.6 kB/s eta 0:00:34\n",
      "   --------------------------- ------------ 7.6/11.0 MB 101.6 kB/s eta 0:00:34\n",
      "   ---------------------------- ----------- 7.9/11.0 MB 104.6 kB/s eta 0:00:30\n",
      "   ---------------------------- ----------- 7.9/11.0 MB 104.6 kB/s eta 0:00:30\n",
      "   ---------------------------- ----------- 7.9/11.0 MB 104.6 kB/s eta 0:00:30\n",
      "   ---------------------------- ----------- 7.9/11.0 MB 104.6 kB/s eta 0:00:30\n",
      "   ---------------------------- ----------- 7.9/11.0 MB 104.6 kB/s eta 0:00:30\n",
      "   ---------------------------- ----------- 7.9/11.0 MB 104.6 kB/s eta 0:00:30\n",
      "   ---------------------------- ----------- 7.9/11.0 MB 104.6 kB/s eta 0:00:30\n",
      "   ---------------------------- ----------- 7.9/11.0 MB 104.6 kB/s eta 0:00:30\n",
      "   ---------------------------- ----------- 7.9/11.0 MB 104.6 kB/s eta 0:00:30\n",
      "   ---------------------------- ----------- 7.9/11.0 MB 104.6 kB/s eta 0:00:30\n",
      "   ---------------------------- ----------- 7.9/11.0 MB 104.6 kB/s eta 0:00:30\n",
      "   ----------------------------- ---------- 8.1/11.0 MB 105.2 kB/s eta 0:00:28\n",
      "   ----------------------------- ---------- 8.1/11.0 MB 105.2 kB/s eta 0:00:28\n",
      "   ----------------------------- ---------- 8.1/11.0 MB 105.2 kB/s eta 0:00:28\n",
      "   ----------------------------- ---------- 8.1/11.0 MB 105.2 kB/s eta 0:00:28\n",
      "   ----------------------------- ---------- 8.1/11.0 MB 105.2 kB/s eta 0:00:28\n",
      "   ------------------------------ --------- 8.4/11.0 MB 113.3 kB/s eta 0:00:23\n",
      "   ------------------------------ --------- 8.4/11.0 MB 113.3 kB/s eta 0:00:23\n",
      "   ------------------------------ --------- 8.4/11.0 MB 113.3 kB/s eta 0:00:23\n",
      "   ------------------------------ --------- 8.4/11.0 MB 113.3 kB/s eta 0:00:23\n",
      "   ------------------------------ --------- 8.4/11.0 MB 113.3 kB/s eta 0:00:23\n",
      "   ------------------------------ --------- 8.4/11.0 MB 113.3 kB/s eta 0:00:23\n",
      "   ------------------------------ --------- 8.4/11.0 MB 113.3 kB/s eta 0:00:23\n",
      "   ------------------------------ --------- 8.4/11.0 MB 113.3 kB/s eta 0:00:23\n",
      "   ------------------------------ --------- 8.4/11.0 MB 113.3 kB/s eta 0:00:23\n",
      "   ------------------------------ --------- 8.4/11.0 MB 113.3 kB/s eta 0:00:23\n",
      "   ------------------------------ --------- 8.4/11.0 MB 113.3 kB/s eta 0:00:23\n",
      "   ------------------------------ --------- 8.4/11.0 MB 113.3 kB/s eta 0:00:23\n",
      "   ------------------------------ --------- 8.4/11.0 MB 113.3 kB/s eta 0:00:23\n",
      "   ------------------------------ --------- 8.4/11.0 MB 113.3 kB/s eta 0:00:23\n",
      "   ------------------------------ --------- 8.4/11.0 MB 113.3 kB/s eta 0:00:23\n",
      "   ------------------------------ --------- 8.4/11.0 MB 113.3 kB/s eta 0:00:23\n",
      "   ------------------------------ --------- 8.4/11.0 MB 113.3 kB/s eta 0:00:23\n",
      "   ------------------------------ --------- 8.4/11.0 MB 113.3 kB/s eta 0:00:23\n",
      "   ------------------------------ --------- 8.4/11.0 MB 113.3 kB/s eta 0:00:23\n",
      "   ------------------------------ --------- 8.4/11.0 MB 113.3 kB/s eta 0:00:23\n",
      "   ------------------------------ --------- 8.4/11.0 MB 113.3 kB/s eta 0:00:23\n",
      "   ------------------------------ --------- 8.4/11.0 MB 113.3 kB/s eta 0:00:23\n",
      "   ------------------------------ --------- 8.4/11.0 MB 113.3 kB/s eta 0:00:23\n",
      "   ------------------------------ --------- 8.4/11.0 MB 113.3 kB/s eta 0:00:23\n",
      "   ------------------------------- -------- 8.7/11.0 MB 103.1 kB/s eta 0:00:23\n",
      "   ------------------------------- -------- 8.7/11.0 MB 103.1 kB/s eta 0:00:23\n",
      "   ------------------------------- -------- 8.7/11.0 MB 103.1 kB/s eta 0:00:23\n",
      "   ------------------------------- -------- 8.7/11.0 MB 103.1 kB/s eta 0:00:23\n",
      "   ------------------------------- -------- 8.7/11.0 MB 103.1 kB/s eta 0:00:23\n",
      "   ------------------------------- -------- 8.7/11.0 MB 103.1 kB/s eta 0:00:23\n",
      "   ------------------------------- -------- 8.7/11.0 MB 103.1 kB/s eta 0:00:23\n",
      "   ------------------------------- -------- 8.7/11.0 MB 103.1 kB/s eta 0:00:23\n",
      "   ------------------------------- -------- 8.7/11.0 MB 103.1 kB/s eta 0:00:23\n",
      "   ------------------------------- -------- 8.7/11.0 MB 103.1 kB/s eta 0:00:23\n",
      "   ------------------------------- -------- 8.7/11.0 MB 103.1 kB/s eta 0:00:23\n",
      "   ------------------------------- -------- 8.7/11.0 MB 103.1 kB/s eta 0:00:23\n",
      "   ------------------------------- -------- 8.7/11.0 MB 103.1 kB/s eta 0:00:23\n",
      "   ------------------------------- -------- 8.7/11.0 MB 103.1 kB/s eta 0:00:23\n",
      "   ------------------------------- -------- 8.7/11.0 MB 103.1 kB/s eta 0:00:23\n",
      "   -------------------------------- ------- 8.9/11.0 MB 100.0 kB/s eta 0:00:21\n",
      "   -------------------------------- ------- 8.9/11.0 MB 100.0 kB/s eta 0:00:21\n",
      "   -------------------------------- ------- 8.9/11.0 MB 100.0 kB/s eta 0:00:21\n",
      "   -------------------------------- ------- 8.9/11.0 MB 100.0 kB/s eta 0:00:21\n",
      "   -------------------------------- ------- 8.9/11.0 MB 100.0 kB/s eta 0:00:21\n",
      "   -------------------------------- ------- 8.9/11.0 MB 100.0 kB/s eta 0:00:21\n",
      "   -------------------------------- ------- 8.9/11.0 MB 100.0 kB/s eta 0:00:21\n",
      "   -------------------------------- ------- 8.9/11.0 MB 100.0 kB/s eta 0:00:21\n",
      "   -------------------------------- ------- 8.9/11.0 MB 100.0 kB/s eta 0:00:21\n",
      "   -------------------------------- ------- 8.9/11.0 MB 100.0 kB/s eta 0:00:21\n",
      "   --------------------------------- ------ 9.2/11.0 MB 104.3 kB/s eta 0:00:18\n",
      "   --------------------------------- ------ 9.2/11.0 MB 104.3 kB/s eta 0:00:18\n",
      "   --------------------------------- ------ 9.2/11.0 MB 104.3 kB/s eta 0:00:18\n",
      "   --------------------------------- ------ 9.2/11.0 MB 104.3 kB/s eta 0:00:18\n",
      "   --------------------------------- ------ 9.2/11.0 MB 104.3 kB/s eta 0:00:18\n",
      "   --------------------------------- ------ 9.2/11.0 MB 104.3 kB/s eta 0:00:18\n",
      "   --------------------------------- ------ 9.2/11.0 MB 104.3 kB/s eta 0:00:18\n",
      "   --------------------------------- ------ 9.2/11.0 MB 104.3 kB/s eta 0:00:18\n",
      "   --------------------------------- ------ 9.2/11.0 MB 104.3 kB/s eta 0:00:18\n",
      "   --------------------------------- ------ 9.2/11.0 MB 104.3 kB/s eta 0:00:18\n",
      "   --------------------------------- ------ 9.2/11.0 MB 104.3 kB/s eta 0:00:18\n",
      "   --------------------------------- ------ 9.2/11.0 MB 104.3 kB/s eta 0:00:18\n",
      "   --------------------------------- ------ 9.2/11.0 MB 104.3 kB/s eta 0:00:18\n",
      "   --------------------------------- ------ 9.2/11.0 MB 104.3 kB/s eta 0:00:18\n",
      "   ---------------------------------- ----- 9.4/11.0 MB 98.2 kB/s eta 0:00:16\n",
      "   ---------------------------------- ----- 9.4/11.0 MB 98.2 kB/s eta 0:00:16\n",
      "   ---------------------------------- ----- 9.4/11.0 MB 98.2 kB/s eta 0:00:16\n",
      "   ---------------------------------- ----- 9.4/11.0 MB 98.2 kB/s eta 0:00:16\n",
      "   ---------------------------------- ----- 9.4/11.0 MB 98.2 kB/s eta 0:00:16\n",
      "   ---------------------------------- ----- 9.4/11.0 MB 98.2 kB/s eta 0:00:16\n",
      "   ---------------------------------- ----- 9.4/11.0 MB 98.2 kB/s eta 0:00:16\n",
      "   ---------------------------------- ----- 9.4/11.0 MB 98.2 kB/s eta 0:00:16\n",
      "   ---------------------------------- ----- 9.4/11.0 MB 98.2 kB/s eta 0:00:16\n",
      "   ---------------------------------- ----- 9.4/11.0 MB 98.2 kB/s eta 0:00:16\n",
      "   ----------------------------------- ---- 9.7/11.0 MB 97.6 kB/s eta 0:00:14\n",
      "   ----------------------------------- ---- 9.7/11.0 MB 97.6 kB/s eta 0:00:14\n",
      "   ----------------------------------- ---- 9.7/11.0 MB 97.6 kB/s eta 0:00:14\n",
      "   ----------------------------------- ---- 9.7/11.0 MB 97.6 kB/s eta 0:00:14\n",
      "   ----------------------------------- ---- 9.7/11.0 MB 97.6 kB/s eta 0:00:14\n",
      "   ----------------------------------- ---- 9.7/11.0 MB 97.6 kB/s eta 0:00:14\n",
      "   ----------------------------------- ---- 9.7/11.0 MB 97.6 kB/s eta 0:00:14\n",
      "   ----------------------------------- ---- 9.7/11.0 MB 97.6 kB/s eta 0:00:14\n",
      "   ----------------------------------- ---- 9.7/11.0 MB 97.6 kB/s eta 0:00:14\n",
      "   ----------------------------------- ---- 9.7/11.0 MB 97.6 kB/s eta 0:00:14\n",
      "   ----------------------------------- ---- 9.7/11.0 MB 97.6 kB/s eta 0:00:14\n",
      "   ----------------------------------- ---- 9.7/11.0 MB 97.6 kB/s eta 0:00:14\n",
      "   ------------------------------------ --- 10.0/11.0 MB 98.3 kB/s eta 0:00:11\n",
      "   ------------------------------------ --- 10.0/11.0 MB 98.3 kB/s eta 0:00:11\n",
      "   ------------------------------------ --- 10.0/11.0 MB 98.3 kB/s eta 0:00:11\n",
      "   ------------------------------------ --- 10.0/11.0 MB 98.3 kB/s eta 0:00:11\n",
      "   ------------------------------------ --- 10.0/11.0 MB 98.3 kB/s eta 0:00:11\n",
      "   ------------------------------------ --- 10.0/11.0 MB 98.3 kB/s eta 0:00:11\n",
      "   ------------------------------------ --- 10.0/11.0 MB 98.3 kB/s eta 0:00:11\n",
      "   ------------------------------------ --- 10.0/11.0 MB 98.3 kB/s eta 0:00:11\n",
      "   ------------------------------------ --- 10.0/11.0 MB 98.3 kB/s eta 0:00:11\n",
      "   ------------------------------------ --- 10.0/11.0 MB 98.3 kB/s eta 0:00:11\n",
      "   ------------------------------------- -- 10.2/11.0 MB 101.5 kB/s eta 0:00:08\n",
      "   ------------------------------------- -- 10.2/11.0 MB 101.5 kB/s eta 0:00:08\n",
      "   ------------------------------------- -- 10.2/11.0 MB 101.5 kB/s eta 0:00:08\n",
      "   ------------------------------------- -- 10.2/11.0 MB 101.5 kB/s eta 0:00:08\n",
      "   ------------------------------------- -- 10.2/11.0 MB 101.5 kB/s eta 0:00:08\n",
      "   ------------------------------------- -- 10.2/11.0 MB 101.5 kB/s eta 0:00:08\n",
      "   ------------------------------------- -- 10.2/11.0 MB 101.5 kB/s eta 0:00:08\n",
      "   ------------------------------------- -- 10.2/11.0 MB 101.5 kB/s eta 0:00:08\n",
      "   ------------------------------------- -- 10.2/11.0 MB 101.5 kB/s eta 0:00:08\n",
      "   ------------------------------------- -- 10.2/11.0 MB 101.5 kB/s eta 0:00:08\n",
      "   ------------------------------------- -- 10.2/11.0 MB 101.5 kB/s eta 0:00:08\n",
      "   ------------------------------------- -- 10.2/11.0 MB 101.5 kB/s eta 0:00:08\n",
      "   ------------------------------------- -- 10.2/11.0 MB 101.5 kB/s eta 0:00:08\n",
      "   ------------------------------------- -- 10.2/11.0 MB 101.5 kB/s eta 0:00:08\n",
      "   -------------------------------------- - 10.5/11.0 MB 101.8 kB/s eta 0:00:05\n",
      "   -------------------------------------- - 10.5/11.0 MB 101.8 kB/s eta 0:00:05\n",
      "   -------------------------------------- - 10.5/11.0 MB 101.8 kB/s eta 0:00:05\n",
      "   -------------------------------------- - 10.5/11.0 MB 101.8 kB/s eta 0:00:05\n",
      "   -------------------------------------- - 10.5/11.0 MB 101.8 kB/s eta 0:00:05\n",
      "   -------------------------------------- - 10.5/11.0 MB 101.8 kB/s eta 0:00:05\n",
      "   -------------------------------------- - 10.5/11.0 MB 101.8 kB/s eta 0:00:05\n",
      "   -------------------------------------- - 10.5/11.0 MB 101.8 kB/s eta 0:00:05\n",
      "   -------------------------------------- - 10.5/11.0 MB 101.8 kB/s eta 0:00:05\n",
      "   -------------------------------------- - 10.5/11.0 MB 101.8 kB/s eta 0:00:05\n",
      "   -------------------------------------- - 10.5/11.0 MB 101.8 kB/s eta 0:00:05\n",
      "   -------------------------------------- - 10.5/11.0 MB 101.8 kB/s eta 0:00:05\n",
      "   -------------------------------------- - 10.5/11.0 MB 101.8 kB/s eta 0:00:05\n",
      "   -------------------------------------- - 10.5/11.0 MB 101.8 kB/s eta 0:00:05\n",
      "   -------------------------------------- - 10.5/11.0 MB 101.8 kB/s eta 0:00:05\n",
      "   -------------------------------------- - 10.5/11.0 MB 101.8 kB/s eta 0:00:05\n",
      "   -------------------------------------- - 10.5/11.0 MB 101.8 kB/s eta 0:00:05\n",
      "   -------------------------------------- - 10.5/11.0 MB 101.8 kB/s eta 0:00:05\n",
      "   -------------------------------------- - 10.5/11.0 MB 101.8 kB/s eta 0:00:05\n",
      "   ---------------------------------------  10.7/11.0 MB 94.6 kB/s eta 0:00:03\n",
      "   ---------------------------------------  10.7/11.0 MB 94.6 kB/s eta 0:00:03\n",
      "   ---------------------------------------  10.7/11.0 MB 94.6 kB/s eta 0:00:03\n",
      "   ---------------------------------------  10.7/11.0 MB 94.6 kB/s eta 0:00:03\n",
      "   ---------------------------------------  10.7/11.0 MB 94.6 kB/s eta 0:00:03\n",
      "   ---------------------------------------  10.7/11.0 MB 94.6 kB/s eta 0:00:03\n",
      "   ---------------------------------------  10.7/11.0 MB 94.6 kB/s eta 0:00:03\n",
      "   ---------------------------------------  10.7/11.0 MB 94.6 kB/s eta 0:00:03\n",
      "   ---------------------------------------  10.7/11.0 MB 94.6 kB/s eta 0:00:03\n",
      "   ---------------------------------------  10.7/11.0 MB 94.6 kB/s eta 0:00:03\n",
      "   ---------------------------------------  10.7/11.0 MB 94.6 kB/s eta 0:00:03\n",
      "   ---------------------------------------- 11.0/11.0 MB 89.0 kB/s eta 0:00:00\n",
      "Downloading pytz-2025.2-py2.py3-none-any.whl (509 kB)\n",
      "Downloading tzdata-2025.2-py2.py3-none-any.whl (347 kB)\n",
      "Installing collected packages: pytz, tzdata, pandas\n",
      "Successfully installed pandas-2.3.0 pytz-2025.2 tzdata-2025.2\n",
      "Note: you may need to restart the kernel to use updated packages.\n"
     ]
    },
    {
     "name": "stderr",
     "output_type": "stream",
     "text": [
      "\n",
      "[notice] A new release of pip is available: 25.0.1 -> 25.1.1\n",
      "[notice] To update, run: python.exe -m pip install --upgrade pip\n"
     ]
    }
   ],
   "source": [
    "pip install pandas"
   ]
  },
  {
   "cell_type": "markdown",
   "id": "78ad0521",
   "metadata": {},
   "source": [
    "#### DATA FRAME"
   ]
  },
  {
   "cell_type": "code",
   "execution_count": 39,
   "id": "5d15d177",
   "metadata": {},
   "outputs": [
    {
     "name": "stdout",
     "output_type": "stream",
     "text": [
      "   0\n",
      "0  1\n",
      "1  2\n",
      "2  3\n",
      "3  4\n",
      "4  5\n"
     ]
    }
   ],
   "source": [
    "#Create a data drame from list\n",
    "\n",
    "import pandas as pd\n",
    "\n",
    "data = [1,2,3,4,5]\n",
    "df = pd.DataFrame(data)\n",
    "print (df)"
   ]
  },
  {
   "cell_type": "code",
   "execution_count": 332,
   "id": "3086ebc7",
   "metadata": {},
   "outputs": [
    {
     "name": "stdout",
     "output_type": "stream",
     "text": [
      "     Name  Age\n",
      "0    Alex   10\n",
      "1     Bob   12\n",
      "2  Clarke   13\n"
     ]
    }
   ],
   "source": [
    "#another example create data frame\n",
    "\n",
    "import pandas as pd\n",
    "data = [['Alex',10],['Bob',12],['Clarke',13]]\n",
    "df = pd.DataFrame(data,columns=['Name','Age'])\n",
    "print (df)"
   ]
  },
  {
   "cell_type": "code",
   "execution_count": null,
   "id": "6b418daf",
   "metadata": {},
   "outputs": [
    {
     "name": "stdout",
     "output_type": "stream",
     "text": [
      "     Name   Age\n",
      "0    Alex  10.0\n",
      "1     Bob  12.0\n",
      "2  Clarke  13.0\n"
     ]
    }
   ],
   "source": [
    "#another example create data frame\n",
    "\n",
    "import pandas as pd\n",
    "data = [['Alex',10],['Bob',12],['Clarke',13]]\n",
    "df = pd.DataFrame(data,columns=['Name','Age'])\n",
    "\n",
    "#ubah kolom age jadi float\n",
    "df['Age'] = df['Age'].astype(float)\n",
    "print (df)"
   ]
  },
  {
   "cell_type": "code",
   "execution_count": null,
   "id": "ee6f5e22",
   "metadata": {},
   "outputs": [
    {
     "name": "stdout",
     "output_type": "stream",
     "text": [
      "    Nama  Umur      Kota\n",
      "0  Alice    21   Jakarta\n",
      "1   Budi    22   Bandung\n",
      "2  Clara    23  Surabaya\n"
     ]
    }
   ],
   "source": [
    "#create data frame from dictionaries\n",
    "\n",
    "import pandas as pd\n",
    "\n",
    "data = {\n",
    "    'Nama': ['Alice', 'Budi', 'Clara'],\n",
    "    'Umur': [21, 22, 23],\n",
    "    'Kota': ['Jakarta', 'Bandung', 'Surabaya']\n",
    "}\n",
    "\n",
    "df = pd.DataFrame(data)\n",
    "print(df)"
   ]
  },
  {
   "cell_type": "code",
   "execution_count": 336,
   "id": "21f07c32",
   "metadata": {},
   "outputs": [
    {
     "name": "stdout",
     "output_type": "stream",
     "text": [
      "        Name  Age\n",
      "rank1    Tom   28\n",
      "rank2   Jack   34\n",
      "rank3  Steve   29\n",
      "rank4  Ricky   42\n"
     ]
    }
   ],
   "source": [
    "#another example create data frame\n",
    "\n",
    "import pandas as pd\n",
    "data = {\n",
    "    'Name':['Tom', 'Jack', 'Steve','Ricky'],\n",
    "    'Age':[28,34,29,42]\n",
    "}\n",
    "df = pd.DataFrame(data, index=['rank1','rank2','rank3','rank4'])\n",
    "print (df)"
   ]
  },
  {
   "cell_type": "code",
   "execution_count": 339,
   "id": "bce36e64",
   "metadata": {},
   "outputs": [
    {
     "name": "stdout",
     "output_type": "stream",
     "text": [
      "0    100\n",
      "1    150\n",
      "2    200\n",
      "3    250\n",
      "dtype: int64\n",
      "700\n",
      "175.0\n"
     ]
    }
   ],
   "source": [
    "#Create series\n",
    "\n",
    "import pandas as pd\n",
    "\n",
    "penjualan = pd.Series([100, 150, 200, 250])\n",
    "print(penjualan)\n",
    "print(penjualan.sum())  # Total penjualan\n",
    "print(penjualan.mean()) # Rata-rata penjualan"
   ]
  },
  {
   "cell_type": "code",
   "execution_count": null,
   "id": "a04efa2b",
   "metadata": {},
   "outputs": [
    {
     "name": "stdout",
     "output_type": "stream",
     "text": [
      "   one  two\n",
      "a  1.0    1\n",
      "b  2.0    2\n",
      "c  3.0    3\n",
      "d  NaN    4\n"
     ]
    }
   ],
   "source": [
    "#Create a DataFrame from Dict of Series\n",
    "\n",
    "import pandas as pd\n",
    "d = {\n",
    "    'one' : pd.Series([1, 2, 3], index=['a', 'b', 'c']),\n",
    "    'two' : pd.Series([1, 2, 3, 4], index=['a', 'b', 'c', 'd'])\n",
    "    }\n",
    "df = pd.DataFrame(d)\n",
    "print (df)\n",
    "\n",
    "#kalo ada Nan/NULL dia jadi float"
   ]
  },
  {
   "cell_type": "code",
   "execution_count": 40,
   "id": "e50f0daa",
   "metadata": {},
   "outputs": [
    {
     "name": "stdout",
     "output_type": "stream",
     "text": [
      "   one  two\n",
      "a    1    1\n",
      "b    2    2\n",
      "c    3    3\n",
      "d    4    4\n"
     ]
    }
   ],
   "source": [
    "#Create a DataFrame from Dict of Series\n",
    "\n",
    "import pandas as pd\n",
    "d = {\n",
    "    'one' : pd.Series([1, 2, 3, 4], index=['a', 'b', 'c', 'd']),\n",
    "    'two' : pd.Series([1, 2, 3, 4], index=['a', 'b', 'c', 'd'])\n",
    "    }\n",
    "df = pd.DataFrame(d)\n",
    "print (df)"
   ]
  },
  {
   "cell_type": "code",
   "execution_count": null,
   "id": "16d1fe12",
   "metadata": {},
   "outputs": [
    {
     "name": "stdout",
     "output_type": "stream",
     "text": [
      "a    1.0\n",
      "b    2.0\n",
      "c    3.0\n",
      "d    NaN\n",
      "Name: one, dtype: float64\n"
     ]
    }
   ],
   "source": [
    "#COLUMN SELECTION\n",
    "#Cuma mau tampilin 1 kolom\n",
    "\n",
    "import pandas as pd\n",
    "d = {'one' : pd.Series([1, 2, 3], index=['a', 'b', 'c']),\n",
    "    'two' : pd.Series([1, 2, 3, 4], index=['a', 'b', 'c', 'd'])}\n",
    "\n",
    "df = pd.DataFrame(d)\n",
    "print( df ['one'])"
   ]
  },
  {
   "cell_type": "code",
   "execution_count": 42,
   "id": "2488fa39",
   "metadata": {},
   "outputs": [
    {
     "name": "stdout",
     "output_type": "stream",
     "text": [
      "Adding a new column by passing as Series:\n",
      "   one  two  three\n",
      "a  1.0    1   10.0\n",
      "b  2.0    2   20.0\n",
      "c  3.0    3   30.0\n",
      "d  NaN    4    NaN\n",
      "Adding a new column using the existing columns in DataFrame:\n",
      "   one  two  three  four\n",
      "a  1.0    1   10.0  11.0\n",
      "b  2.0    2   20.0  22.0\n",
      "c  3.0    3   30.0  33.0\n",
      "d  NaN    4    NaN   NaN\n"
     ]
    }
   ],
   "source": [
    "#COLUMN ADDITION\n",
    "\n",
    "import pandas as pd\n",
    "d = {'one' : pd.Series([1, 2, 3], index=['a', 'b', 'c']),\n",
    "    'two' : pd.Series([1, 2, 3, 4], index=['a', 'b', 'c', 'd'])}\n",
    "\n",
    "df = pd.DataFrame(d)\n",
    "\n",
    "# Adding a new column to an existing DataFrame object with column label by passing new series\n",
    "\n",
    "print (\"Adding a new column by passing as Series:\")\n",
    "\n",
    "df['three']=pd.Series([10,20,30],index=['a','b','c'])\n",
    "print (df)\n",
    "\n",
    "print (\"Adding a new column using the existing columns in DataFrame:\")\n",
    "\n",
    "df['four']=df['one']+df['three']\n",
    "print (df)"
   ]
  },
  {
   "cell_type": "code",
   "execution_count": 45,
   "id": "c8ad0cdc",
   "metadata": {},
   "outputs": [
    {
     "name": "stdout",
     "output_type": "stream",
     "text": [
      "Our dataframe is:\n",
      "   one  two  three\n",
      "a  1.0    1   10.0\n",
      "b  2.0    2   20.0\n",
      "c  3.0    3   30.0\n",
      "d  NaN    4    NaN\n",
      "Deleting the first column using DEL function:\n",
      "   two  three\n",
      "a    1   10.0\n",
      "b    2   20.0\n",
      "c    3   30.0\n",
      "d    4    NaN\n",
      "Deleting snother column using POP function:\n",
      "   three\n",
      "a   10.0\n",
      "b   20.0\n",
      "c   30.0\n",
      "d    NaN\n"
     ]
    }
   ],
   "source": [
    "import pandas as pf\n",
    "\n",
    "d = {'one' : pd.Series([1, 2, 3], index=['a', 'b', 'c']),\n",
    "    'two' : pd.Series([1, 2, 3, 4], index=['a', 'b', 'c', 'd']),\n",
    "    'three' : pd.Series([10, 20, 30], index=['a', 'b', 'c'])\n",
    "    }\n",
    "\n",
    "df = pd.DataFrame(d)\n",
    "print(\"Our dataframe is:\")\n",
    "print(df)\n",
    "\n",
    "#using del function\n",
    "print(\"Deleting the first column using DEL function:\")\n",
    "del df['one']\n",
    "print(df)\n",
    "\n",
    "#using pop function\n",
    "print (\"Deleting snother column using POP function:\")\n",
    "df.pop('two')\n",
    "print(df)"
   ]
  },
  {
   "cell_type": "markdown",
   "id": "714a55aa",
   "metadata": {},
   "source": [
    "#### SELECTION"
   ]
  },
  {
   "cell_type": "code",
   "execution_count": null,
   "id": "8c3bc316",
   "metadata": {},
   "outputs": [
    {
     "name": "stdout",
     "output_type": "stream",
     "text": [
      "one    2.0\n",
      "two    2.0\n",
      "Name: b, dtype: float64\n"
     ]
    }
   ],
   "source": [
    "#SELECTION BY LABEL\n",
    "#ILOC = MENGAMBIL LABEL/ISI INDEXNYA\n",
    "\n",
    "import pandas as pd\n",
    "d = {'one' : pd.Series([1, 2, 3], index=['a', 'b', 'c']),\n",
    " 'two' : pd.Series([1, 2, 3, 4], index=['a', 'b', 'c', 'd'])}\n",
    "df = pd.DataFrame(d)\n",
    "print (df.loc['b'])"
   ]
  },
  {
   "cell_type": "code",
   "execution_count": null,
   "id": "8824283e",
   "metadata": {},
   "outputs": [
    {
     "name": "stdout",
     "output_type": "stream",
     "text": [
      "one    3.0\n",
      "two    3.0\n",
      "Name: c, dtype: float64\n"
     ]
    }
   ],
   "source": [
    "#SELECTION BY LABEL\n",
    "#ILOC = MENGAMBIL INDEX\n",
    "\n",
    "import pandas as pd\n",
    "d = {'one' : pd.Series([1, 2, 3], index=['a', 'b', 'c']),\n",
    " 'two' : pd.Series([1, 2, 3, 4], index=['a', 'b', 'c', 'd'])}\n",
    "df = pd.DataFrame(d)\n",
    "print (df.iloc[2])"
   ]
  },
  {
   "cell_type": "markdown",
   "id": "395d531f",
   "metadata": {},
   "source": [
    "#### ROWS"
   ]
  },
  {
   "cell_type": "code",
   "execution_count": 49,
   "id": "515894bd",
   "metadata": {},
   "outputs": [
    {
     "name": "stdout",
     "output_type": "stream",
     "text": [
      "   one  two\n",
      "c  3.0    3\n",
      "d  NaN    4\n"
     ]
    }
   ],
   "source": [
    "#SLICE ROWS\n",
    "\n",
    "import pandas as pd\n",
    "d = {'one' : pd.Series([1, 2, 3], index=['a', 'b', 'c']),\n",
    "    'two' : pd.Series([1, 2, 3, 4], index=['a', 'b', 'c', 'd'])}\n",
    "df = pd.DataFrame(d)\n",
    "print (df[2:4]) #menampilkan index baris kedua dan ketiga"
   ]
  },
  {
   "cell_type": "code",
   "execution_count": null,
   "id": "fece4684",
   "metadata": {},
   "outputs": [
    {
     "name": "stdout",
     "output_type": "stream",
     "text": [
      "   a  b\n",
      "0  1  2\n",
      "1  3  4\n",
      "0  5  6\n",
      "1  7  8\n"
     ]
    }
   ],
   "source": [
    "#ADD ROWS\n",
    "\n",
    "import pandas as pd\n",
    "df = pd.DataFrame([[1, 2], [3, 4]], columns = ['a','b'])\n",
    "df2 = pd.DataFrame([[5, 6], [7, 8]], columns = ['a','b'])\n",
    "df = pd.concat([df, df2]) #NANTI DIA INDEXNYA DIULANG DARI 0\n",
    "print (df)"
   ]
  },
  {
   "cell_type": "code",
   "execution_count": 58,
   "id": "d6999999",
   "metadata": {},
   "outputs": [
    {
     "name": "stdout",
     "output_type": "stream",
     "text": [
      "   a  b\n",
      "0  1  2\n",
      "1  3  4\n",
      "2  5  6\n",
      "3  7  8\n"
     ]
    }
   ],
   "source": [
    "#ADD ROWS\n",
    "\n",
    "import pandas as pd\n",
    "df = pd.DataFrame([[1, 2], [3, 4]], columns = ['a','b'])\n",
    "df2 = pd.DataFrame([[5, 6], [7, 8]], columns = ['a','b'])\n",
    "df = pd.concat([df, df2], ignore_index=True) #INDEXNYA BIAR GA NGULANG DAN NGURUT TERUS\n",
    "print (df)"
   ]
  },
  {
   "cell_type": "code",
   "execution_count": 60,
   "id": "1bae4587",
   "metadata": {},
   "outputs": [
    {
     "name": "stdout",
     "output_type": "stream",
     "text": [
      "   a  b\n",
      "1  3  4\n",
      "2  5  6\n",
      "3  7  8\n"
     ]
    }
   ],
   "source": [
    "#DELETE ROWS\n",
    "\n",
    "import pandas as pd\n",
    "df = pd.DataFrame([[1, 2], [3, 4]], columns = ['a','b'])\n",
    "df2 = pd.DataFrame([[5, 6], [7, 8]], columns = ['a','b'])\n",
    "df = pd.concat([df, df2], ignore_index=True)\n",
    "# Drop rows with label 0\n",
    "df = df.drop(0)\n",
    "print (df)"
   ]
  },
  {
   "cell_type": "code",
   "execution_count": 61,
   "id": "c3b9bb45",
   "metadata": {},
   "outputs": [
    {
     "name": "stdout",
     "output_type": "stream",
     "text": [
      "Our data frame is: \n",
      "   a  b\n",
      "1  3  4\n",
      "2  5  6\n",
      "3  7  8\n",
      "The first two rows of the data frame is:\n",
      "   a  b\n",
      "1  3  4\n",
      "2  5  6\n"
     ]
    }
   ],
   "source": [
    "# HEAD AND TAIL\n",
    "\n",
    "#Create a dictionary of series\n",
    "d = {\n",
    "    'Name': pd.Series(['Tom','James','Ricky','Vin','Steve','Smith','Jack']),\n",
    "    'Age' : pd.Series([25,26,25,23,30,29,23]),\n",
    "    'Rating' : pd.Series([4.23,3.24,3.98,2.56,3.20,4.6,3.8])\n",
    "}\n",
    "\n",
    "#Create a DataFrame\n",
    "df = pd.DataFrame(df)\n",
    "print (\"Our data frame is: \")\n",
    "print (df)\n",
    "print (\"The first two rows of the data frame is:\")\n",
    "print (df.head(2))"
   ]
  },
  {
   "cell_type": "code",
   "execution_count": 62,
   "id": "bcccfde7",
   "metadata": {},
   "outputs": [
    {
     "name": "stdout",
     "output_type": "stream",
     "text": [
      "Our data frame is: \n",
      "   a  b\n",
      "1  3  4\n",
      "2  5  6\n",
      "3  7  8\n",
      "The first two rows of the data frame is:\n",
      "   a  b\n",
      "2  5  6\n",
      "3  7  8\n"
     ]
    }
   ],
   "source": [
    "# HEAD AND TAIL\n",
    "\n",
    "#Create a dictionary of series\n",
    "d = {\n",
    "    'Name': pd.Series(['Tom','James','Ricky','Vin','Steve','Smith','Jack']),\n",
    "    'Age' : pd.Series([25,26,25,23,30,29,23]),\n",
    "    'Rating' : pd.Series([4.23,3.24,3.98,2.56,3.20,4.6,3.8])\n",
    "}\n",
    "\n",
    "#Create a DataFrame\n",
    "df = pd.DataFrame(df)\n",
    "print (\"Our data frame is: \")\n",
    "print (df)\n",
    "print (\"The first two rows of the data frame is:\")\n",
    "print (df.tail(2))"
   ]
  },
  {
   "cell_type": "markdown",
   "id": "e92f1c03",
   "metadata": {},
   "source": [
    "#### SUMMARIZING DATA"
   ]
  },
  {
   "cell_type": "code",
   "execution_count": 65,
   "id": "a772dbcf",
   "metadata": {},
   "outputs": [
    {
     "name": "stdout",
     "output_type": "stream",
     "text": [
      "             Age    Rating\n",
      "count   7.000000  7.000000\n",
      "mean   25.857143  3.658571\n",
      "std     2.734262  0.698628\n",
      "min    23.000000  2.560000\n",
      "25%    24.000000  3.220000\n",
      "50%    25.000000  3.800000\n",
      "75%    27.500000  4.105000\n",
      "max    30.000000  4.600000\n"
     ]
    }
   ],
   "source": [
    "#Create a dictionary of series\n",
    "d = {\n",
    "    'Name': pd.Series(['Tom','James','Ricky','Vin','Steve','Smith','Jack']),\n",
    "    'Age' : pd.Series([25,26,25,23,30,29,23]),\n",
    "    'Rating' : pd.Series([4.23,3.24,3.98,2.56,3.20,4.6,3.8])\n",
    "}\n",
    "\n",
    "#Create a DataFrame\n",
    "df = pd.DataFrame(d)\n",
    "print (df.describe())"
   ]
  },
  {
   "cell_type": "code",
   "execution_count": null,
   "id": "5ca9e514",
   "metadata": {},
   "outputs": [
    {
     "name": "stdout",
     "output_type": "stream",
     "text": [
      "          0         1\n",
      "1  0.354780 -0.161715\n",
      "4 -0.942938 -0.523298\n",
      "6 -0.534804 -0.505950\n",
      "2 -0.588623  0.253319\n",
      "3 -0.052837 -1.012056\n",
      "5 -0.456086 -0.229220\n",
      "9  0.619284 -0.265301\n",
      "8  0.076373  0.553952\n",
      "7  0.343603  1.204129\n",
      "0  0.409651 -0.464277\n",
      "          0         1\n",
      "0  0.409651 -0.464277\n",
      "1  0.354780 -0.161715\n",
      "2 -0.588623  0.253319\n",
      "3 -0.052837 -1.012056\n",
      "4 -0.942938 -0.523298\n",
      "5 -0.456086 -0.229220\n",
      "6 -0.534804 -0.505950\n",
      "7  0.343603  1.204129\n",
      "8  0.076373  0.553952\n",
      "9  0.619284 -0.265301\n"
     ]
    }
   ],
   "source": [
    "#PANDAS AXISNYA KEBALIKAN NUMPY\n",
    "# AXIS 0 = BARIS\n",
    "# AXIS 1 = KOLOM\n",
    "\n",
    "#MASUKIN ANGKA RANDOM\n",
    "unsorted_df = pd.DataFrame(np.random.randn(10,2),index=[1,4,6,2,3,5,9,8,7,0])\n",
    "kolom = ['col2','col1']\n",
    "\n",
    "#UNTUK URUTIN INDEX\n",
    "sorted_df=unsorted_df.sort_index()\n",
    "print(unsorted_df)\n",
    "print(sorted_df)"
   ]
  },
  {
   "cell_type": "code",
   "execution_count": 95,
   "id": "4c8e989e",
   "metadata": {},
   "outputs": [
    {
     "name": "stdout",
     "output_type": "stream",
     "text": [
      "   col1  col2\n",
      "0    12     2\n",
      "1    17    12\n",
      "2     0     2\n",
      "3    19    14\n",
      "4     9    20\n",
      "5    20     0\n",
      "6    19     4\n",
      "7     1     0\n",
      "8     8     7\n",
      "9     6    16\n"
     ]
    }
   ],
   "source": [
    "#PANDAS AXISNYA KEBALIKAN NUMPY\n",
    "# AXIS 0 = BARIS\n",
    "# AXIS 1 = KOLOM\n",
    "\n",
    "#MASUKIN ANGKA RANDOM\n",
    "#MAU ANGKA RANDOMNYA AD RANGE\n",
    "\n",
    "import random\n",
    "import pandas as pd\n",
    "import numpy as np\n",
    "\n",
    "random.seed(30)\n",
    "unsorted_df = pd.DataFrame({\n",
    "    'col1': [random.randint(0, 20) for _ in range(10)],\n",
    "    'col2': [random.randint(0, 20) for _ in range(10)]\n",
    "}, index=[1, 4, 6, 2, 3, 5, 9, 8, 7, 0])\n",
    "\n",
    "# UNTUK URUTIN INDEX\n",
    "sorted_df = unsorted_df.sort_index()\n",
    "print(sorted_df)\n"
   ]
  },
  {
   "cell_type": "code",
   "execution_count": null,
   "id": "b6281e2c",
   "metadata": {},
   "outputs": [],
   "source": [
    "import pandas as pd\n",
    "import numpy as np\n",
    "\n",
    "af = pd.DataFrame(np.random.randint(1,11, size(10,2)))"
   ]
  },
  {
   "cell_type": "code",
   "execution_count": null,
   "id": "5f75b857",
   "metadata": {},
   "outputs": [
    {
     "name": "stdout",
     "output_type": "stream",
     "text": [
      "   col1  col2\n",
      "9    17     8\n",
      "8     2    20\n",
      "7    12    17\n",
      "6    16     8\n",
      "5    11     3\n",
      "4    19    18\n",
      "3    20    18\n",
      "2    12    13\n",
      "1     5     7\n",
      "0     0     3\n"
     ]
    }
   ],
   "source": [
    "#ORDER OF SORTING\n",
    "#MAU SORT INDEX DARI BAWAH\n",
    "\n",
    "unsorted_df = pd.DataFrame({\n",
    "    'col1': [random.randint(0, 20) for _ in range(10)],\n",
    "    'col2': [random.randint(0, 20) for _ in range(10)]\n",
    "}, index=[1, 4, 6, 2, 3, 5, 9, 8, 7, 0])\n",
    "\n",
    "sorted_df = unsorted_df.sort_index(ascending=False)\n",
    "print(sorted_df)"
   ]
  },
  {
   "cell_type": "code",
   "execution_count": 97,
   "id": "4bc826a1",
   "metadata": {},
   "outputs": [
    {
     "name": "stdout",
     "output_type": "stream",
     "text": [
      "   col1  col2\n",
      "1    19     7\n",
      "4    15    10\n",
      "6     9     3\n",
      "2     4     0\n",
      "3     9    13\n",
      "5     9    16\n",
      "9     8     9\n",
      "8    16     5\n",
      "7     2    16\n",
      "0     4    20\n"
     ]
    }
   ],
   "source": [
    "#SORT THE COLUMNS\n",
    "\n",
    "unsorted_df = pd.DataFrame({\n",
    "    'col1': [random.randint(0, 20) for _ in range(10)],\n",
    "    'col2': [random.randint(0, 20) for _ in range(10)]\n",
    "}, index=[1, 4, 6, 2, 3, 5, 9, 8, 7, 0])\n",
    "\n",
    "sorted_df = unsorted_df.sort_index(axis = 1)\n",
    "print(sorted_df)"
   ]
  },
  {
   "cell_type": "code",
   "execution_count": 100,
   "id": "7a895b81",
   "metadata": {},
   "outputs": [
    {
     "name": "stdout",
     "output_type": "stream",
     "text": [
      "   col1  col2\n",
      "1     1     3\n",
      "2     1     2\n",
      "3     1     4\n",
      "0     2     1\n"
     ]
    }
   ],
   "source": [
    "#SORT BY VALUE\n",
    "\n",
    "unsorted_df = pd.DataFrame({'col1': [2,1,1,1], 'col2': [1,3,2,4]})\n",
    "sorted_df = unsorted_df.sort_values(by='col1')\n",
    "\n",
    "print(sorted_df)"
   ]
  },
  {
   "cell_type": "code",
   "execution_count": 113,
   "id": "cf155d78",
   "metadata": {},
   "outputs": [
    {
     "name": "stdout",
     "output_type": "stream",
     "text": [
      "a    0.546759\n",
      "b   -2.750367\n",
      "c   -0.611698\n",
      "d    1.487463\n",
      "e   -0.114730\n",
      "f   -0.876875\n",
      "g   -0.229011\n",
      "h    0.329273\n",
      "Name: A, dtype: float64\n"
     ]
    }
   ],
   "source": [
    "#SELECTING WITH LOC()\n",
    "\n",
    "# import the pandas library and aliasing as pd\n",
    "import pandas as pd\n",
    "import numpy as np\n",
    "\n",
    "df = pd.DataFrame(np.random.randn(8, 4),\n",
    "                  index=['a', 'b', 'c', 'd', 'e', 'f', 'g', 'h'],\n",
    "                  columns=['A', 'B', 'C', 'D'])\n",
    "\n",
    "# select all rows for a specific column\n",
    "print(df.loc[:, 'A'])"
   ]
  },
  {
   "cell_type": "code",
   "execution_count": 114,
   "id": "268fb248",
   "metadata": {},
   "outputs": [
    {
     "name": "stdout",
     "output_type": "stream",
     "text": [
      "          A         C\n",
      "a -0.186174  0.585613\n",
      "b  0.137047  1.345362\n",
      "f  0.251476 -0.328054\n",
      "h -1.505245 -0.182796\n"
     ]
    }
   ],
   "source": [
    "#SELECTING WITH LOC()\n",
    "\n",
    "# import the pandas library and aliasing as pd\n",
    "import pandas as pd\n",
    "import numpy as np\n",
    "\n",
    "df = pd.DataFrame(np.random.randn(8, 4),\n",
    "                  index=['a', 'b', 'c', 'd', 'e', 'f', 'g', 'h'],\n",
    "                  columns=['A', 'B', 'C', 'D'])\n",
    "\n",
    "# Select few rows for multiple columns, say list[]\n",
    "print(df.loc[['a', 'b', 'f', 'h'], ['A', 'C']])"
   ]
  },
  {
   "cell_type": "code",
   "execution_count": 120,
   "id": "8b1c2eec",
   "metadata": {},
   "outputs": [
    {
     "name": "stdout",
     "output_type": "stream",
     "text": [
      "          A         B         C         D\n",
      "0 -0.875958  1.279269 -1.122371 -0.734177\n",
      "1 -0.423148 -0.965027  0.104205  2.155096\n",
      "2  0.518139 -0.777503  0.980475  2.152952\n",
      "3 -0.080028 -0.311352  0.841283  0.616596\n",
      "          C         D\n",
      "1  0.104205  2.155096\n",
      "2  0.980475  2.152952\n",
      "3  0.841283  0.616596\n",
      "4 -1.577401 -0.589517\n"
     ]
    }
   ],
   "source": [
    "#SELECTING WITH ILOC()\n",
    "\n",
    "import pandas as pd\n",
    "import numpy as np\n",
    "\n",
    "df = pd.DataFrame(np.random.randn(8, 4), columns=['A', 'B', 'C', 'D'])\n",
    "\n",
    "# Integer Slicing\n",
    "print(df.iloc[:4])\n",
    "print(df.iloc[1:5, 2:4])"
   ]
  },
  {
   "cell_type": "code",
   "execution_count": 121,
   "id": "cf16ba48",
   "metadata": {},
   "outputs": [
    {
     "name": "stdout",
     "output_type": "stream",
     "text": [
      "          B         D\n",
      "1  0.355434 -0.420045\n",
      "3 -0.952231  0.367932\n",
      "5 -0.909053 -0.265120\n",
      "         A         B         C         D\n",
      "1 -0.98344  0.355434 -0.045130 -0.420045\n",
      "2  0.94533 -0.828079  1.497439  1.808404\n",
      "          B         C\n",
      "0  0.601171 -0.896418\n",
      "1  0.355434 -0.045130\n",
      "2 -0.828079  1.497439\n",
      "3 -0.952231  0.610463\n",
      "4  0.380922  1.010893\n",
      "5 -0.909053 -0.066998\n",
      "6 -0.881499  0.589459\n",
      "7  0.148945 -0.900428\n"
     ]
    }
   ],
   "source": [
    "#SELECTING WITH ILOC()\n",
    "\n",
    "import pandas as pd\n",
    "import numpy as np\n",
    "\n",
    "df = pd.DataFrame(np.random.randn(8, 4), columns=['A', 'B', 'C', 'D'])\n",
    "\n",
    "# Slicing through list of values\n",
    "print(df.iloc[[1, 3, 5], [1, 3]])\n",
    "print(df.iloc[1:3, :])\n",
    "print(df.iloc[:, 1:3])"
   ]
  },
  {
   "cell_type": "code",
   "execution_count": null,
   "id": "a0e7bb66",
   "metadata": {},
   "outputs": [
    {
     "name": "stdout",
     "output_type": "stream",
     "text": [
      "    Name  Score  Age\n",
      "0  Alice     99   20\n",
      "1   Lala     90   23\n",
      "2  Angel     98   24\n",
      "3  Cella     97   22\n",
      "4   Abel     89   25\n",
      "5  Ardra     90   30\n",
      "    Name  Score  Age\n",
      "1   Lala     90   23\n",
      "2  Angel     98   24\n",
      "4   Abel     89   25\n",
      "5  Ardra     90   30\n"
     ]
    }
   ],
   "source": [
    "#FILTERING\n",
    "\n",
    "data = {\n",
    "    'Name' : ['Alice', 'Lala', 'Angel', 'Cella', 'Abel','Ardra'],\n",
    "    'Score' : [99,90,98,97,89,90],\n",
    "    'Age' : [20,23,24,22,25,30]\n",
    "}\n",
    "df= pd.DataFrame(data)\n",
    "print(df)\n",
    "\n",
    "#filtering\n",
    "#tampilkan siswa yang umurnya diatas 22\n",
    "#rumus:\n",
    "#df[boolean_expressions]\n",
    "df_umur_diatas_22 = df[df['Age'] > 22]\n",
    "print(df_umur_diatas_22)"
   ]
  },
  {
   "cell_type": "code",
   "execution_count": 137,
   "id": "9de26f54",
   "metadata": {},
   "outputs": [
    {
     "name": "stdout",
     "output_type": "stream",
     "text": [
      "0    Alice\n",
      "1     Lala\n",
      "2    Angel\n",
      "3    Cella\n",
      "4     Abel\n",
      "5    Ardra\n",
      "Name: Name, dtype: object\n"
     ]
    }
   ],
   "source": [
    "#FILTERING\n",
    "#TAMPILIN NAMA AJA\n",
    "data = {\n",
    "    'Name' : ['Alice', 'Lala', 'Angel', 'Cella', 'Abel','Ardra'],\n",
    "    'Score' : [99,80,98,97,89,70],\n",
    "    'Age' : [20,23,24,22,25,30]\n",
    "}\n",
    "df= pd.DataFrame(data)\n",
    "print(df['Name'])"
   ]
  },
  {
   "cell_type": "code",
   "execution_count": 119,
   "id": "f23c535b",
   "metadata": {},
   "outputs": [
    {
     "name": "stdout",
     "output_type": "stream",
     "text": [
      "    Name  Age\n",
      "0  Alice   20\n",
      "1   Lala   23\n",
      "2  Angel   24\n",
      "3  Cella   22\n",
      "4   Abel   25\n",
      "5  Ardra   30\n"
     ]
    }
   ],
   "source": [
    "#FILTERING\n",
    "#TAMPILIN NAMA DAN UMUR\n",
    "data = {\n",
    "    'Name' : ['Alice', 'Lala', 'Angel', 'Cella', 'Abel','Ardra'],\n",
    "    'Score' : [99,90,98,97,89,90],\n",
    "    'Age' : [20,23,24,22,25,30]\n",
    "}\n",
    "df= pd.DataFrame(data)\n",
    "print(df[['Name','Age']]) "
   ]
  },
  {
   "cell_type": "code",
   "execution_count": 131,
   "id": "5ae66f99",
   "metadata": {},
   "outputs": [
    {
     "name": "stdout",
     "output_type": "stream",
     "text": [
      "    Name  Age\n",
      "1   Lala   23\n",
      "2  Angel   24\n",
      "4   Abel   25\n",
      "5  Ardra   30\n"
     ]
    }
   ],
   "source": [
    "print(df[df['Age'] > 22][['Name','Age']])"
   ]
  },
  {
   "cell_type": "code",
   "execution_count": null,
   "id": "f0a09dc5",
   "metadata": {},
   "outputs": [
    {
     "name": "stdout",
     "output_type": "stream",
     "text": [
      "    Name  Score  Age  Status\n",
      "0  Alice     99   20  Passed\n",
      "1   Lala     90   23  Passed\n",
      "2  Angel     98   24  Passed\n",
      "3  Cella     97   22  Passed\n",
      "4   Abel     89   25  Passed\n",
      "5  Ardra     90   30  Passed\n"
     ]
    }
   ],
   "source": [
    "#Membuat kolom baru untuk mengisi status fail dan pass ketika score diatas 80\n",
    "#Lambda adalah fungsi tanpa nama\n",
    "#Karena dia dipake sekali doang jadi ga dikasih nama\n",
    "\n",
    "df['Status'] = df['Score'].apply(lambda x: 'Passed' if x > 80 else 'Failed')\n",
    "\n",
    "print(df)"
   ]
  },
  {
   "cell_type": "code",
   "execution_count": 138,
   "id": "9a8ba127",
   "metadata": {},
   "outputs": [
    {
     "name": "stdout",
     "output_type": "stream",
     "text": [
      "    Name  Score  Age  Status\n",
      "0  Alice     99   20    Pass\n",
      "1   Lala     80   23  Failed\n",
      "2  Angel     98   24    Pass\n",
      "3  Cella     97   22    Pass\n",
      "4   Abel     89   25    Pass\n",
      "5  Ardra     70   30  Failed\n"
     ]
    }
   ],
   "source": [
    "def check(x):\n",
    "    return 'Pass' if x > 80 else 'Failed'\n",
    "\n",
    "df['Status'] = df['Score'].apply(check)\n",
    "print(df)"
   ]
  },
  {
   "cell_type": "code",
   "execution_count": 148,
   "id": "6fb5e963",
   "metadata": {},
   "outputs": [
    {
     "name": "stdout",
     "output_type": "stream",
     "text": [
      "    Name  Score  Age\n",
      "0  Alice     99   20\n",
      "2  Angel     98   24\n",
      "3  Cella     97   22\n",
      "1   Lala     90   23\n",
      "4   Abel     89   25\n"
     ]
    },
    {
     "name": "stderr",
     "output_type": "stream",
     "text": [
      "C:\\Users\\71485\\AppData\\Local\\Temp\\ipykernel_8160\\1695435202.py:9: UserWarning: Boolean Series key will be reindexed to match DataFrame index.\n",
      "  sorted_df = df.sort_values( by = 'Score' , ascending = False)[df['Score']>80]\n"
     ]
    }
   ],
   "source": [
    "#sort descending nilai semua siswa yang nilainya diatas 80\n",
    "data = {\n",
    "    'Name' : ['Alice', 'Lala', 'Angel', 'Cella', 'Abel','Ardra'],\n",
    "    'Score' : [99,90,98,97,89,70],\n",
    "    'Age' : [20,23,24,22,25,30]\n",
    "}\n",
    "df= pd.DataFrame(data)\n",
    "\n",
    "sorted_df = df.sort_values( by = 'Score' , ascending = False)[df['Score']>80]\n",
    "print(sorted_df)"
   ]
  },
  {
   "cell_type": "code",
   "execution_count": null,
   "id": "c3f463b0",
   "metadata": {},
   "outputs": [
    {
     "name": "stdout",
     "output_type": "stream",
     "text": [
      "    Name  Score  Age\n",
      "0  Alice     99   20\n",
      "1   Lala     90   23\n",
      "2  Angel     98   24\n",
      "3  Cella     97   22\n",
      "4   Abel     89   25\n"
     ]
    }
   ],
   "source": [
    "#hapus siswa dengan nilai terendah pakai drop\n",
    "\n",
    "data = {\n",
    "    'Name' : ['Alice', 'Lala', 'Angel', 'Cella', 'Abel','Ardra'],\n",
    "    'Score' : [99,90,98,97,89,70],\n",
    "    'Age' : [20,23,24,22,25,30]\n",
    "}\n",
    "df= pd.DataFrame(data)\n",
    "\n",
    "min_score = df['Score'].idxmin()\n",
    "df = df.drop(min_score)\n",
    "\n",
    "print(df)"
   ]
  },
  {
   "cell_type": "code",
   "execution_count": null,
   "id": "1ae7ee34",
   "metadata": {},
   "outputs": [
    {
     "name": "stdout",
     "output_type": "stream",
     "text": [
      "    Name  Score  Age\n",
      "0  Alice     99   20\n",
      "1   Lala     90   23\n",
      "2  Angel     98   24\n",
      "3  Cella     97   22\n",
      "5  Ardra     90   30\n"
     ]
    }
   ],
   "source": [
    "#hapus siswa dengan nilai terendah pakai filtering\n",
    "\n",
    "data = {\n",
    "    'Name' : ['Alice', 'Lala', 'Angel', 'Cella', 'Abel','Ardra'],\n",
    "    'Score' : [99,90,98,97,89,90],\n",
    "    'Age' : [20,23,24,22,25,30]\n",
    "}\n",
    "df= pd.DataFrame(data)\n",
    "print(df[df.Score != df.Score.min()])\n"
   ]
  },
  {
   "cell_type": "markdown",
   "id": "9035bcd6",
   "metadata": {},
   "source": [
    "#### Agregasi"
   ]
  },
  {
   "cell_type": "code",
   "execution_count": null,
   "id": "d21999d2",
   "metadata": {},
   "outputs": [
    {
     "name": "stdout",
     "output_type": "stream",
     "text": [
      "Name\n",
      "Abel     89\n",
      "Alice    99\n",
      "Angel    98\n",
      "Ardra    90\n",
      "Cella    97\n",
      "Lala     90\n",
      "Name: Score, dtype: int64\n"
     ]
    }
   ],
   "source": [
    "#Di group by dulu baru di SUM\n",
    "\n",
    "data = {\n",
    "    'Name' : ['Alice', 'Lala', 'Angel', 'Cella', 'Abel','Ardra'],\n",
    "    'Score' : [99,90,98,97,89,90],\n",
    "    'Age' : [20,23,24,22,25,30]\n",
    "}\n",
    "df= pd.DataFrame(data)\n",
    "\n",
    "#Agregasi hanya pada kolom score\n",
    "result = df.groupby('Name')['Score'].agg('sum')\n",
    "print(result)"
   ]
  },
  {
   "cell_type": "code",
   "execution_count": 175,
   "id": "c1173fc7",
   "metadata": {},
   "outputs": [
    {
     "name": "stdout",
     "output_type": "stream",
     "text": [
      "kategori\n",
      "A     80\n",
      "B    130\n",
      "Name: nilai, dtype: int64\n"
     ]
    }
   ],
   "source": [
    "#Agregasi\n",
    "\n",
    "data = {\n",
    "    'kategori': ['A', 'A', 'B', 'B', 'A', 'B'],\n",
    "    'nilai': [10, 20, 30, 40, 50, 60],\n",
    "    'harga': [100, 200, 300, 400, 500, 600]\n",
    "}\n",
    "\n",
    "df = pd.DataFrame(data)\n",
    "\n",
    "# Agregasi hanya pada kolom 'nilai'\n",
    "result = df.groupby('kategori')['nilai'].agg('sum')\n",
    "# result = df.groupby('kategori').agg({'nilai': 'sum'})\n",
    "# result = df.groupby('kategori')['nilai'].agg(['sum', 'mean', 'max'])\n",
    "# result = df.groupby('kategori').agg({\n",
    "#     'nilai': ['sum', 'mean'],     # Untuk kolom 'nilai', ambil sum dan mean\n",
    "#     'harga': ['min', 'max']       # Untuk kolom 'harga', ambil min dan max\n",
    "# })\n",
    "print(result)"
   ]
  },
  {
   "cell_type": "markdown",
   "id": "b4fac5b1",
   "metadata": {},
   "source": [
    "### Pandas Missing Data"
   ]
  },
  {
   "cell_type": "code",
   "execution_count": 182,
   "id": "05c5c23e",
   "metadata": {},
   "outputs": [
    {
     "name": "stdout",
     "output_type": "stream",
     "text": [
      "        one       two     three\n",
      "a  0.196055  0.492065  0.591386\n",
      "b       NaN       NaN       NaN\n",
      "c -1.254744 -0.649529 -0.371977\n",
      "d       NaN       NaN       NaN\n",
      "e  1.932539 -0.425403 -1.305124\n",
      "f -0.411170 -0.203391  1.027515\n",
      "g       NaN       NaN       NaN\n",
      "h -0.334895 -0.689447  0.275189\n",
      " \n",
      "a    False\n",
      "b     True\n",
      "c    False\n",
      "d     True\n",
      "e    False\n",
      "f    False\n",
      "g     True\n",
      "h    False\n",
      "Name: one, dtype: bool\n",
      " \n",
      "one\n",
      "False    5\n",
      "True     3\n",
      "Name: count, dtype: int64\n"
     ]
    }
   ],
   "source": [
    "df = pd.DataFrame(np.random.randn(5,3), index=['a','c','e','f','h'],columns=['one','two','three'])\n",
    "df = df.reindex(['a','b','c','d','e','f','g','h'])\n",
    "print(df)\n",
    "print(' ')\n",
    "print(df['one'].isnull())\n",
    "print(' ')\n",
    "print(df['one'].isnull().value_counts())\n"
   ]
  },
  {
   "cell_type": "code",
   "execution_count": null,
   "id": "841928c8",
   "metadata": {},
   "outputs": [
    {
     "name": "stdout",
     "output_type": "stream",
     "text": [
      "        one       two     three\n",
      "a -1.048785  0.879322 -0.120883\n",
      "b       NaN       NaN       NaN\n",
      "c  0.588838 -0.746659 -0.845080\n",
      "        one       two     three\n",
      "a -1.048785  0.879322 -0.120883\n",
      "b       NaN       NaN       NaN\n",
      "c  0.588838 -0.746659 -0.845080\n",
      " \n",
      "NaN replaced with \"0\": \n",
      "        one       two     three\n",
      "a -1.048785  0.879322 -0.120883\n",
      "b  0.000000  0.000000  0.000000\n",
      "c  0.588838 -0.746659 -0.845080\n",
      " \n",
      "        one       two     three\n",
      "a -1.048785  0.879322 -0.120883\n",
      "b -1.048785  0.879322 -0.120883\n",
      "c  0.588838 -0.746659 -0.845080\n",
      " \n",
      "        one       two     three\n",
      "a -1.048785  0.879322 -0.120883\n",
      "b  0.588838 -0.746659 -0.845080\n",
      "c  0.588838 -0.746659 -0.845080\n",
      " \n",
      "        one       two     three\n",
      "a -1.048785  0.879322 -0.120883\n",
      "c  0.588838 -0.746659 -0.845080\n",
      " \n",
      "Empty DataFrame\n",
      "Columns: []\n",
      "Index: [a, b, c]\n",
      " \n",
      "        one       two     three\n",
      "a -1.048785  0.879322 -0.120883\n",
      "b -0.229974  0.066331 -0.482981\n",
      "c  0.588838 -0.746659 -0.845080\n"
     ]
    },
    {
     "name": "stderr",
     "output_type": "stream",
     "text": [
      "C:\\Users\\71485\\AppData\\Local\\Temp\\ipykernel_8160\\3030252259.py:15: FutureWarning: DataFrame.fillna with 'method' is deprecated and will raise in a future version. Use obj.ffill() or obj.bfill() instead.\n",
      "  print(df.fillna(method='pad'))\n",
      "C:\\Users\\71485\\AppData\\Local\\Temp\\ipykernel_8160\\3030252259.py:20: FutureWarning: DataFrame.fillna with 'method' is deprecated and will raise in a future version. Use obj.ffill() or obj.bfill() instead.\n",
      "  print(df.fillna(method='backfill'))\n"
     ]
    }
   ],
   "source": [
    "df = pd.DataFrame(np.random.randn(3,3), index=['a','c','e'],columns=['one','two','three'])\n",
    "df = df.reindex(['a','b','c'])\n",
    "print(df)\n",
    "\n",
    "print(df)\n",
    "print(' ')\n",
    "\n",
    "#Mengisi null/nan dengan 0/scalar value\n",
    "print('NaN replaced with \"0\": ')\n",
    "print(df.fillna(0))\n",
    "print(' ')\n",
    "\n",
    "#Fill na forward\n",
    "#Replace nan dengan row beforenya\n",
    "print(df.fillna(method='pad'))\n",
    "print(' ')\n",
    "\n",
    "#Fill na backward\n",
    "#Replace nan dengan row afternya\n",
    "print(df.fillna(method='backfill'))\n",
    "print(' ')\n",
    "\n",
    "#Drop missing values (axis = 0) di row\n",
    "print(df.dropna())\n",
    "print(' ')\n",
    "\n",
    "#Drop missing values (axis = 1) di column\n",
    "print(df.dropna(axis = 1))\n",
    "print(' ')\n",
    "\n",
    "#Menginterpolasi\n",
    "print(df.interpolate())\n",
    "\n"
   ]
  },
  {
   "cell_type": "code",
   "execution_count": 198,
   "id": "bd8c3349",
   "metadata": {},
   "outputs": [
    {
     "name": "stdout",
     "output_type": "stream",
     "text": [
      "   one  two\n",
      "0   10   10\n",
      "1   20    0\n",
      "2   30   30\n",
      "3   40   40\n",
      "4   50   50\n",
      "5   60   60\n",
      "    one   two\n",
      "0    10  1000\n",
      "1    20     0\n",
      "2    30    30\n",
      "3    40    40\n",
      "4    50    50\n",
      "5  2000    60\n"
     ]
    }
   ],
   "source": [
    "#replace missing or generic values\n",
    "\n",
    "import pandas as pd\n",
    "import numpy as np\n",
    "df = pd.DataFrame({'one':[10,20,30,40,50,2000], 'two':[1000,0,30,40,50,60]})\n",
    "print (df.replace({1000:10,2000:60}))\n",
    "print (df)"
   ]
  },
  {
   "cell_type": "markdown",
   "id": "2fd6d1da",
   "metadata": {},
   "source": [
    "#### Pandas Visualization"
   ]
  },
  {
   "cell_type": "code",
   "execution_count": 225,
   "id": "f04d3e2c",
   "metadata": {},
   "outputs": [
    {
     "data": {
      "text/plain": [
       "<Axes: >"
      ]
     },
     "execution_count": 225,
     "metadata": {},
     "output_type": "execute_result"
    },
    {
     "data": {
      "image/png": "[encoded data removed]",
      "text/plain": [
       "<Figure size 640x480 with 1 Axes>"
      ]
     },
     "metadata": {},
     "output_type": "display_data"
    }
   ],
   "source": [
    "import pandas as pd\n",
    "import numpy as np\n",
    "\n",
    "colors = ['#56DFCF', '#C562AF', '#FFDCDC', '#F564A9']\n",
    "df = pd.DataFrame(np.random.randn(10,4), index = pd.date_range('1/1/2000',periods=10),columns=list('ABCD'))\n",
    "df.plot(color = colors)"
   ]
  },
  {
   "cell_type": "code",
   "execution_count": 224,
   "id": "b2c62d08",
   "metadata": {},
   "outputs": [
    {
     "data": {
      "image/png": "[encoded data removed]",
      "text/plain": [
       "<Figure size 640x480 with 1 Axes>"
      ]
     },
     "metadata": {},
     "output_type": "display_data"
    }
   ],
   "source": [
    "import pandas as pd\n",
    "import numpy as np\n",
    "\n",
    "df = pd.DataFrame(np.random.rand(10,4),columns=['a','b','c','d'])\n",
    "colors = ['#56DFCF', '#C562AF', '#FFDCDC', '#F564A9']\n",
    "df.plot.bar(color = colors, stacked = True, rot=0).legend(loc='upper right')\n",
    "plt.show()"
   ]
  },
  {
   "cell_type": "code",
   "execution_count": 226,
   "id": "1ea57c30",
   "metadata": {},
   "outputs": [
    {
     "data": {
      "image/png": "[encoded data removed]",
      "text/plain": [
       "<Figure size 640x480 with 1 Axes>"
      ]
     },
     "metadata": {},
     "output_type": "display_data"
    }
   ],
   "source": [
    "df = pd.DataFrame(np.random.rand(10,4),columns=['a','b','c','d'])\n",
    "colors = ['#56DFCF', '#C562AF', '#FFDCDC', '#F564A9']\n",
    "df.plot.area(color = colors, stacked = True, rot=0).legend(loc='upper right')\n",
    "plt.show()"
   ]
  },
  {
   "cell_type": "code",
   "execution_count": 228,
   "id": "7ef6ea4e",
   "metadata": {},
   "outputs": [
    {
     "name": "stderr",
     "output_type": "stream",
     "text": [
      "C:\\Users\\71485\\AppData\\Local\\Temp\\ipykernel_8160\\2919294242.py:3: UserWarning: No artists with labels found to put in legend.  Note that artists whose label start with an underscore are ignored when legend() is called with no argument.\n",
      "  df.plot.scatter(color = colors, x='a', y='b', stacked = True, rot=0).legend(loc='upper right')\n"
     ]
    },
    {
     "data": {
      "image/png": "[encoded data removed]",
      "text/plain": [
       "<Figure size 640x480 with 1 Axes>"
      ]
     },
     "metadata": {},
     "output_type": "display_data"
    }
   ],
   "source": [
    "df = pd.DataFrame(np.random.rand(500,4),columns=['a','b','c','d'])\n",
    "colors = ['#F564A9']\n",
    "df.plot.scatter(color = colors, x='a', y='b', stacked = True, rot=0).legend(loc='upper right')\n",
    "plt.show()"
   ]
  },
  {
   "cell_type": "code",
   "execution_count": 230,
   "id": "7f1c7835",
   "metadata": {},
   "outputs": [
    {
     "data": {
      "text/plain": [
       "<Axes: >"
      ]
     },
     "execution_count": 230,
     "metadata": {},
     "output_type": "execute_result"
    },
    {
     "data": {
      "image/png": "[encoded data removed]",
      "text/plain": [
       "<Figure size 640x480 with 1 Axes>"
      ]
     },
     "metadata": {},
     "output_type": "display_data"
    }
   ],
   "source": [
    "df = pd.DataFrame(np.random.rand(10,5),columns=['a','b','c','d','e'])\n",
    "df.plot.box()"
   ]
  },
  {
   "cell_type": "markdown",
   "id": "f4e0d576",
   "metadata": {},
   "source": [
    "### CSV, EXCEL"
   ]
  },
  {
   "cell_type": "code",
   "execution_count": 231,
   "id": "ffc53c87",
   "metadata": {},
   "outputs": [
    {
     "name": "stdout",
     "output_type": "stream",
     "text": [
      "   S.No    Name  Age      City  Salary\n",
      "0     1     Tom   28   Toronto   20000\n",
      "1     2     Lee   32  Hongkong    3000\n",
      "2     3  Steven   43  Bar Area    8300\n",
      "3     4     Ram   38  Hyerabad    3900\n"
     ]
    }
   ],
   "source": [
    "df = pd.read_csv(\"temp.csv\")\n",
    "print(df)"
   ]
  },
  {
   "cell_type": "code",
   "execution_count": null,
   "id": "aee5f271",
   "metadata": {},
   "outputs": [
    {
     "ename": "SyntaxError",
     "evalue": "invalid syntax (3418518623.py, line 1)",
     "output_type": "error",
     "traceback": [
      "  \u001b[36mCell\u001b[39m\u001b[36m \u001b[39m\u001b[32mIn[236]\u001b[39m\u001b[32m, line 1\u001b[39m\n\u001b[31m    \u001b[39m\u001b[31mpip install openpyxl\u001b[39m\n        ^\n\u001b[31mSyntaxError\u001b[39m\u001b[31m:\u001b[39m invalid syntax\n"
     ]
    }
   ],
   "source": [
    "pip install openpyxl"
   ]
  },
  {
   "cell_type": "code",
   "execution_count": null,
   "id": "f3381903",
   "metadata": {},
   "outputs": [
    {
     "name": "stdout",
     "output_type": "stream",
     "text": [
      "   Price  Age  KM FuelType  HP  MetColor  Automatic      CC  Doors  Weight\n",
      "0  13450   23 NaN   Diesel  90         1          0  2000.0      3  1165.0\n",
      "1  13500   23 NaN   Diesel  90         1          0  2000.1      3  1165.0\n",
      "2  14000   24 NaN   Diesel  90         1          0  2000.2      3  1165.0\n",
      "3  14500   25 NaN   Diesel  90         0          0  2000.3      3  1165.0\n",
      "4  15000   26 NaN   Diesel  90         0          0  2000.4      3  1170.0\n"
     ]
    }
   ],
   "source": [
    "import openpyxl\n",
    "\n",
    "CarPricesData=pd.read_excel(io='CarPricesData.xlsx')\n",
    "CarPricesData.head(n=5) #tampilin 5 teratas\n",
    "CarPricesData.tail(n=5) #tampilin 5 terbawah\n",
    "print(CarPricesData) #tampilin semua"
   ]
  },
  {
   "cell_type": "code",
   "execution_count": null,
   "id": "6ac93bfd",
   "metadata": {},
   "outputs": [
    {
     "name": "stdout",
     "output_type": "stream",
     "text": [
      "        Name  Age      City  Salary\n",
      "S.No                               \n",
      "1        Tom   28   Toronto   20000\n",
      "2        Lee   32  Hongkong    3000\n",
      "3     Steven   43  Bar Area    8300\n",
      "4        Ram   38  Hyerabad    3900\n"
     ]
    }
   ],
   "source": [
    "#Custom index\n",
    "\n",
    "df = pd.read_csv(\"temp.csv\",index_col=['S.No'])\n",
    "print(df)"
   ]
  },
  {
   "cell_type": "code",
   "execution_count": null,
   "id": "34a84259",
   "metadata": {},
   "outputs": [
    {
     "name": "stdout",
     "output_type": "stream",
     "text": [
      "S.No        int64\n",
      "Name       object\n",
      "Age         int64\n",
      "City       object\n",
      "Salary    float64\n",
      "dtype: object\n"
     ]
    }
   ],
   "source": [
    "#Data type conversion\n",
    "\n",
    "df = pd.read_csv(\"temp.csv\", dtype={'Salary': np.float64})\n",
    "print (df.dtypes)"
   ]
  },
  {
   "cell_type": "markdown",
   "id": "a7b26857",
   "metadata": {},
   "source": [
    "### Quiz Page 187"
   ]
  },
  {
   "cell_type": "code",
   "execution_count": 246,
   "id": "1a8419ef",
   "metadata": {},
   "outputs": [
    {
     "name": "stdout",
     "output_type": "stream",
     "text": [
      "      Product     Category  Price  Units Sold     Month\n",
      "0      Laptop  Electronics   1000          30   January\n",
      "1  Smartphone  Electronics    700          45   January\n",
      "2      Tablet  Electronics    300          20   January\n",
      "3      Laptop  Electronics   1000          25  February\n",
      "4  Smartphone  Electronics    700          50  February\n",
      "5      Tablet  Electronics    300          15  February\n",
      "6      Laptop  Electronics   1000          35     March\n",
      "7  Smartphone  Electronics    700          40     March\n",
      "8      Tablet  Electronics    300          30     March\n",
      "9  Headphones  Accessories    100          80     March\n"
     ]
    }
   ],
   "source": [
    "#Baca Data CSV No.1 \n",
    "\n",
    "df = pd.read_csv(\"penjualan_produk.csv\")\n",
    "print(df)"
   ]
  },
  {
   "cell_type": "code",
   "execution_count": 250,
   "id": "78cd0b24",
   "metadata": {},
   "outputs": [
    {
     "name": "stdout",
     "output_type": "stream",
     "text": [
      "Category\n",
      "Accessories      8000\n",
      "Electronics    204000\n",
      "Name: Revenue, dtype: int64\n"
     ]
    }
   ],
   "source": [
    "#Analisis penjualan berdasarkan kategori\n",
    "#Hitung total pendapatan untuk setiap kategori selama seluruh tahun\n",
    "\n",
    "Revenue = df['Price'] * df['Units Sold']\n",
    "df['Revenue'] = Revenue\n",
    "total_pendapatan_per_kategori = df.groupby('Category')['Revenue'].sum()\n",
    "print(total_pendapatan_per_kategori)\n"
   ]
  },
  {
   "cell_type": "code",
   "execution_count": 272,
   "id": "5fecf3d7",
   "metadata": {},
   "outputs": [
    {
     "name": "stdout",
     "output_type": "stream",
     "text": [
      "Produk terlaris adalah Smartphone\n",
      "Dengan Jumlah Unit Terjual 135\n"
     ]
    }
   ],
   "source": [
    "#Temukan produk terlaris\n",
    "#Jumlah unit terjual terbanyak sepanjang tahun\n",
    "#Tampilkan nama dan jumlah unit terjual\n",
    "\n",
    "produk_terlaris = df.groupby('Product')['Units Sold'].sum().idxmax()\n",
    "jumlah_terlaris = df.groupby('Product')['Units Sold'].sum().max()\n",
    "\n",
    "print('Produk terlaris adalah',produk_terlaris)\n",
    "print('Dengan Jumlah Unit Terjual',jumlah_terlaris)\n"
   ]
  },
  {
   "cell_type": "code",
   "execution_count": 285,
   "id": "df75d802",
   "metadata": {},
   "outputs": [
    {
     "data": {
      "image/png": "[encoded data removed]",
      "text/plain": [
       "<Figure size 640x480 with 1 Axes>"
      ]
     },
     "metadata": {},
     "output_type": "display_data"
    }
   ],
   "source": [
    "#Visualisasi penjualan perbulan yang menunjukkan total unit yang terjual perbulan\n",
    "\n",
    "df = pd.read_csv(\"penjualan_produk.csv\")\n",
    "colors = [ '#F564A9']\n",
    "total_unit_terjual_perbulan = df.groupby('Month')['Units Sold'].sum()\n",
    "\n",
    "bulan_urut = ['January', 'February', 'March']\n",
    "total_unit_terjual_perbulan = total_unit_terjual_perbulan.reindex(bulan_urut)\n",
    "\n",
    "total_unit_terjual_perbulan.plot.bar(color = colors, rot=0).legend(loc='upper left')\n",
    "plt.title(\"Data Total Unit Terjual Perbulan\")\n",
    "plt.ylabel(\"Total Unit Terjual\")\n",
    "plt.show()"
   ]
  },
  {
   "cell_type": "code",
   "execution_count": 284,
   "id": "fdb4d356",
   "metadata": {},
   "outputs": [
    {
     "name": "stdout",
     "output_type": "stream",
     "text": [
      "      Product     Category  Price  Units Sold     Month  Total Revenue\n",
      "0      Laptop  Electronics   1000          30   January          30000\n",
      "1  Smartphone  Electronics    700          45   January          31500\n",
      "2      Tablet  Electronics    300          20   January           6000\n",
      "3      Laptop  Electronics   1000          25  February          25000\n",
      "4  Smartphone  Electronics    700          50  February          35000\n",
      "5      Tablet  Electronics    300          15  February           4500\n",
      "6      Laptop  Electronics   1000          35     March          35000\n",
      "7  Smartphone  Electronics    700          40     March          28000\n",
      "8      Tablet  Electronics    300          30     March           9000\n",
      "9  Headphones  Accessories    100          80     March           8000\n"
     ]
    }
   ],
   "source": [
    "#Ekspor data ke file baru\n",
    "#Sumpan data frame yang telah di modif\n",
    "#Tambah kolom baru Total Revenue ke file CSV Baru sales_summary.csv\n",
    "\n",
    "df = pd.read_csv(\"penjualan_produk.csv\")\n",
    "df['Total Revenue'] = df['Price'] * df['Units Sold']\n",
    "df.to_csv(\"sales_summary.csv\", index=False)\n",
    "\n",
    "df = pd.read_csv(\"sales_summary.csv\")\n",
    "print(df)"
   ]
  }
 ],
 "metadata": {
  "kernelspec": {
   "display_name": "myvenv",
   "language": "python",
   "name": "python3"
  },
  "language_info": {
   "codemirror_mode": {
    "name": "ipython",
    "version": 3
   },
   "file_extension": ".py",
   "mimetype": "text/x-python",
   "name": "python",
   "nbconvert_exporter": "python",
   "pygments_lexer": "ipython3",
   "version": "3.13.3"
  }
 },
 "nbformat": 4,
 "nbformat_minor": 5
}
